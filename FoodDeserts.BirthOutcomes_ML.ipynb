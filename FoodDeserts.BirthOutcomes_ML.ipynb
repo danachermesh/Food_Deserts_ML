{
 "cells": [
  {
   "cell_type": "code",
   "execution_count": 1,
   "metadata": {},
   "outputs": [
    {
     "name": "stderr",
     "output_type": "stream",
     "text": [
      "/Applications/anaconda/lib/python3.6/site-packages/statsmodels/compat/pandas.py:56: FutureWarning: The pandas.core.datetools module is deprecated and will be removed in a future version. Please use the pandas.tseries module instead.\n",
      "  from pandas.core import datetools\n"
     ]
    },
    {
     "name": "stdout",
     "output_type": "stream",
     "text": [
      "Populating the interactive namespace from numpy and matplotlib\n"
     ]
    },
    {
     "name": "stderr",
     "output_type": "stream",
     "text": [
      "/Applications/anaconda/lib/python3.6/site-packages/IPython/core/magics/pylab.py:161: UserWarning: pylab import has clobbered these variables: ['plt']\n",
      "`%matplotlib` prevents importing * from pylab and numpy\n",
      "  \"\\n`%matplotlib` prevents importing * from pylab and numpy\"\n"
     ]
    }
   ],
   "source": [
    "import pandas as pd\n",
    "import numpy as np\n",
    "import pylab as pl\n",
    "import sys\n",
    "import operator\n",
    "from scipy import stats\n",
    "import seaborn as sns\n",
    "import statsmodels.formula.api as smf\n",
    "import statsmodels.api as sm\n",
    "import requests\n",
    "from IPython.display import HTML\n",
    "import matplotlib.pylab as plt\n",
    "import warnings\n",
    "import geopandas as gpd\n",
    "from fiona.crs import from_epsg\n",
    "\n",
    "import seaborn as sns\n",
    "sns.set_style('whitegrid')\n",
    "\n",
    "%pylab inline"
   ]
  },
  {
   "cell_type": "markdown",
   "metadata": {},
   "source": [
    "# Obesity rates"
   ]
  },
  {
   "cell_type": "markdown",
   "metadata": {},
   "source": [
    "# Low birth weight + mother's age group data\n",
    "\n",
    "Retrieved from https://health.data.ny.gov/api/views/94i9-2x7y/rows.csv?accessType=DOWNLOAD "
   ]
  },
  {
   "cell_type": "raw",
   "metadata": {},
   "source": [
    "lowweightMom = pd.read_csv(\"https://health.data.ny.gov/api/views/94i9-2x7y/rows.csv?accessType=DOWNLOAD\")\n",
    "\n",
    "lowweightMom12 = lowweightMom[lowweightMom['Year'] == 2012]\n",
    "lowweightMom13 = lowweightMom[lowweightMom['Year'] == 2013]\n",
    "lowweightMom14 = lowweightMom[lowweightMom['Year'] == 2014]\n",
    "\n",
    "lowweightMom = [lowweightMom12, lowweightMom13, lowweightMom14]\n",
    "lowweightMom = pd.concat(lowweightMom)\n",
    "\n",
    "lowweightMom.head()"
   ]
  },
  {
   "cell_type": "raw",
   "metadata": {},
   "source": [
    "lowweightMom['Year'].value_counts()"
   ]
  },
  {
   "cell_type": "raw",
   "metadata": {},
   "source": [
    "lowweightMom.head(20)"
   ]
  },
  {
   "cell_type": "raw",
   "metadata": {},
   "source": [
    "(lowweightMom[\"Mother's Age Range\"] == '10-14').mean() +(lowweightMom[\"Mother's Age Range\"] == '15-17').mean()"
   ]
  },
  {
   "cell_type": "markdown",
   "metadata": {},
   "source": [
    "# Perinatal data\n",
    "\n",
    "Retrieved from https://www.health.ny.gov/statistics/chac/perinatal/county/2012-2014/"
   ]
  },
  {
   "cell_type": "code",
   "execution_count": 29,
   "metadata": {},
   "outputs": [],
   "source": [
    "counties = ['niagara', 'erie', 'chautauqua', 'albany', 'allegany', 'broome', 'cattaraugus', 'cayuga', 'chemung',\n",
    "           'chenango', 'clinton', 'columbia', 'cortland', 'delaware', 'dutchess', 'essex', 'franklin', 'fulton',\n",
    "           'genesee', 'greene', 'hamilton', 'herkimer', 'jefferson', 'lewis', 'livingston', 'madison', 'monroe',\n",
    "           'montgomery', 'nassau', 'oneida', 'onondaga', 'ontario', 'orange', 'orleans', 'oswego', 'otsego', 'putnam',\n",
    "           'queens', 'rensselaer', 'richmond', 'rockland', 'stlawrence', 'saratoga', 'schenectady', 'schoharie',\n",
    "           'schuyler', 'seneca', 'steuben', 'suffolk', 'sullivan', 'tioga', 'tompkins', 'ulster', 'warren', \n",
    "            'washington', 'wayne', 'westchester', 'wyoming', 'yates', 'bronx', 'kings', 'newyork']\n",
    "tmp = []\n",
    "\n",
    "\n",
    "for boro in counties:\n",
    "    html = requests.get('https://www.health.ny.gov/statistics/chac/perinatal/county/2012-2014/' + \n",
    "                       boro + '.htm').content\n",
    "    foo = pd.read_html(html)[0]\n",
    "    foo = foo.iloc[2:]\n",
    "    tmp.append(foo)\n",
    "    \n",
    "birth = pd.concat(tmp, axis = 0)\n",
    "birth = birth.iloc[:,:4]\n",
    "birth.columns = ['ZipCode', 'TotalBirths2012-2014', 'PrematureBirth', 'LowBirthWeight']\n",
    "birth.reset_index(inplace = True)\n",
    "birth = birth.drop('index', axis=1)"
   ]
  },
  {
   "cell_type": "code",
   "execution_count": 30,
   "metadata": {},
   "outputs": [
    {
     "name": "stdout",
     "output_type": "stream",
     "text": [
      "(1516, 4)\n"
     ]
    },
    {
     "data": {
      "text/html": [
       "<div>\n",
       "<style>\n",
       "    .dataframe thead tr:only-child th {\n",
       "        text-align: right;\n",
       "    }\n",
       "\n",
       "    .dataframe thead th {\n",
       "        text-align: left;\n",
       "    }\n",
       "\n",
       "    .dataframe tbody tr th {\n",
       "        vertical-align: top;\n",
       "    }\n",
       "</style>\n",
       "<table border=\"1\" class=\"dataframe\">\n",
       "  <thead>\n",
       "    <tr style=\"text-align: right;\">\n",
       "      <th></th>\n",
       "      <th>ZipCode</th>\n",
       "      <th>TotalBirths2012-2014</th>\n",
       "      <th>PrematureBirth</th>\n",
       "      <th>LowBirthWeight</th>\n",
       "    </tr>\n",
       "  </thead>\n",
       "  <tbody>\n",
       "    <tr>\n",
       "      <th>0</th>\n",
       "      <td>14008</td>\n",
       "      <td>34</td>\n",
       "      <td>2.9</td>\n",
       "      <td>0.0</td>\n",
       "    </tr>\n",
       "    <tr>\n",
       "      <th>1</th>\n",
       "      <td>14012</td>\n",
       "      <td>67</td>\n",
       "      <td>10.4</td>\n",
       "      <td>6.0</td>\n",
       "    </tr>\n",
       "    <tr>\n",
       "      <th>2</th>\n",
       "      <td>14028</td>\n",
       "      <td>47</td>\n",
       "      <td>8.5</td>\n",
       "      <td>10.6</td>\n",
       "    </tr>\n",
       "    <tr>\n",
       "      <th>3</th>\n",
       "      <td>14067</td>\n",
       "      <td>120</td>\n",
       "      <td>5.8</td>\n",
       "      <td>6.7</td>\n",
       "    </tr>\n",
       "    <tr>\n",
       "      <th>4</th>\n",
       "      <td>14092</td>\n",
       "      <td>219</td>\n",
       "      <td>8.7</td>\n",
       "      <td>5.5</td>\n",
       "    </tr>\n",
       "  </tbody>\n",
       "</table>\n",
       "</div>"
      ],
      "text/plain": [
       "  ZipCode TotalBirths2012-2014 PrematureBirth LowBirthWeight\n",
       "0   14008                   34            2.9            0.0\n",
       "1   14012                   67           10.4            6.0\n",
       "2   14028                   47            8.5           10.6\n",
       "3   14067                  120            5.8            6.7\n",
       "4   14092                  219            8.7            5.5"
      ]
     },
     "execution_count": 30,
     "metadata": {},
     "output_type": "execute_result"
    }
   ],
   "source": [
    "print(birth.shape)\n",
    "birth.head()"
   ]
  },
  {
   "cell_type": "code",
   "execution_count": 31,
   "metadata": {},
   "outputs": [
    {
     "data": {
      "text/plain": [
       "ZipCode                 object\n",
       "TotalBirths2012-2014    object\n",
       "PrematureBirth          object\n",
       "LowBirthWeight          object\n",
       "dtype: object"
      ]
     },
     "execution_count": 31,
     "metadata": {},
     "output_type": "execute_result"
    }
   ],
   "source": [
    "birth.dtypes"
   ]
  },
  {
   "cell_type": "code",
   "execution_count": 32,
   "metadata": {},
   "outputs": [],
   "source": [
    "birth1 = pd.concat(tmp, axis = 0)\n",
    "birth1 = birth1.iloc[:,-2:-1]\n",
    "birth1.columns = ['TeenBirthRate']\n",
    "birth1.reset_index(inplace = True)\n",
    "birth1 = birth1.drop('index', axis=1)"
   ]
  },
  {
   "cell_type": "code",
   "execution_count": 33,
   "metadata": {},
   "outputs": [
    {
     "data": {
      "text/html": [
       "<div>\n",
       "<style>\n",
       "    .dataframe thead tr:only-child th {\n",
       "        text-align: right;\n",
       "    }\n",
       "\n",
       "    .dataframe thead th {\n",
       "        text-align: left;\n",
       "    }\n",
       "\n",
       "    .dataframe tbody tr th {\n",
       "        vertical-align: top;\n",
       "    }\n",
       "</style>\n",
       "<table border=\"1\" class=\"dataframe\">\n",
       "  <thead>\n",
       "    <tr style=\"text-align: right;\">\n",
       "      <th></th>\n",
       "      <th>TeenBirthRate</th>\n",
       "      <th>ZipCode</th>\n",
       "      <th>TotalBirths2012-2014</th>\n",
       "      <th>PrematureBirth</th>\n",
       "      <th>LowBirthWeight</th>\n",
       "    </tr>\n",
       "  </thead>\n",
       "  <tbody>\n",
       "    <tr>\n",
       "      <th>0</th>\n",
       "      <td>5.6</td>\n",
       "      <td>14008</td>\n",
       "      <td>34</td>\n",
       "      <td>2.9</td>\n",
       "      <td>0.0</td>\n",
       "    </tr>\n",
       "    <tr>\n",
       "      <th>1</th>\n",
       "      <td>13.6</td>\n",
       "      <td>14012</td>\n",
       "      <td>67</td>\n",
       "      <td>10.4</td>\n",
       "      <td>6.0</td>\n",
       "    </tr>\n",
       "    <tr>\n",
       "      <th>2</th>\n",
       "      <td>5.1</td>\n",
       "      <td>14028</td>\n",
       "      <td>47</td>\n",
       "      <td>8.5</td>\n",
       "      <td>10.6</td>\n",
       "    </tr>\n",
       "    <tr>\n",
       "      <th>3</th>\n",
       "      <td>11.7</td>\n",
       "      <td>14067</td>\n",
       "      <td>120</td>\n",
       "      <td>5.8</td>\n",
       "      <td>6.7</td>\n",
       "    </tr>\n",
       "    <tr>\n",
       "      <th>4</th>\n",
       "      <td>3.8</td>\n",
       "      <td>14092</td>\n",
       "      <td>219</td>\n",
       "      <td>8.7</td>\n",
       "      <td>5.5</td>\n",
       "    </tr>\n",
       "  </tbody>\n",
       "</table>\n",
       "</div>"
      ],
      "text/plain": [
       "  TeenBirthRate ZipCode TotalBirths2012-2014 PrematureBirth LowBirthWeight\n",
       "0           5.6   14008                   34            2.9            0.0\n",
       "1          13.6   14012                   67           10.4            6.0\n",
       "2           5.1   14028                   47            8.5           10.6\n",
       "3          11.7   14067                  120            5.8            6.7\n",
       "4           3.8   14092                  219            8.7            5.5"
      ]
     },
     "execution_count": 33,
     "metadata": {},
     "output_type": "execute_result"
    }
   ],
   "source": [
    "birth = birth1.merge(birth, left_index=True, right_index=True)\n",
    "birth\n",
    "birth.head()"
   ]
  },
  {
   "cell_type": "code",
   "execution_count": 34,
   "metadata": {},
   "outputs": [],
   "source": [
    "#birth['ZipCode'] = birth['ZipCode'].astype('int')\n",
    "birth['TotalBirths2012-2014'] = birth['TotalBirths2012-2014'].astype('float')\n",
    "birth['PrematureBirth'] = birth['PrematureBirth'].astype('float')\n",
    "birth['LowBirthWeight'] = birth['LowBirthWeight'].astype('float')\n",
    "birth['TeenBirthRate'] = birth['TeenBirthRate'].apply(pd.to_numeric, errors='coerce').dropna()\n",
    "# birth['TeenBirthRate'] = birth['TeenBirthRate'].astype('float')"
   ]
  },
  {
   "cell_type": "code",
   "execution_count": 35,
   "metadata": {},
   "outputs": [
    {
     "data": {
      "text/plain": [
       "TeenBirthRate           float64\n",
       "ZipCode                  object\n",
       "TotalBirths2012-2014    float64\n",
       "PrematureBirth          float64\n",
       "LowBirthWeight          float64\n",
       "dtype: object"
      ]
     },
     "execution_count": 35,
     "metadata": {},
     "output_type": "execute_result"
    }
   ],
   "source": [
    "birth.dtypes"
   ]
  },
  {
   "cell_type": "code",
   "execution_count": 36,
   "metadata": {},
   "outputs": [
    {
     "data": {
      "text/html": [
       "<div>\n",
       "<style>\n",
       "    .dataframe thead tr:only-child th {\n",
       "        text-align: right;\n",
       "    }\n",
       "\n",
       "    .dataframe thead th {\n",
       "        text-align: left;\n",
       "    }\n",
       "\n",
       "    .dataframe tbody tr th {\n",
       "        vertical-align: top;\n",
       "    }\n",
       "</style>\n",
       "<table border=\"1\" class=\"dataframe\">\n",
       "  <thead>\n",
       "    <tr style=\"text-align: right;\">\n",
       "      <th></th>\n",
       "      <th>TeenBirthRate</th>\n",
       "      <th>ZipCode</th>\n",
       "      <th>TotalBirths2012-2014</th>\n",
       "      <th>PrematureBirth</th>\n",
       "      <th>LowBirthWeight</th>\n",
       "    </tr>\n",
       "  </thead>\n",
       "  <tbody>\n",
       "    <tr>\n",
       "      <th>0</th>\n",
       "      <td>5.6</td>\n",
       "      <td>14008</td>\n",
       "      <td>34.0</td>\n",
       "      <td>2.9</td>\n",
       "      <td>0.0</td>\n",
       "    </tr>\n",
       "    <tr>\n",
       "      <th>1</th>\n",
       "      <td>13.6</td>\n",
       "      <td>14012</td>\n",
       "      <td>67.0</td>\n",
       "      <td>10.4</td>\n",
       "      <td>6.0</td>\n",
       "    </tr>\n",
       "    <tr>\n",
       "      <th>2</th>\n",
       "      <td>5.1</td>\n",
       "      <td>14028</td>\n",
       "      <td>47.0</td>\n",
       "      <td>8.5</td>\n",
       "      <td>10.6</td>\n",
       "    </tr>\n",
       "    <tr>\n",
       "      <th>3</th>\n",
       "      <td>11.7</td>\n",
       "      <td>14067</td>\n",
       "      <td>120.0</td>\n",
       "      <td>5.8</td>\n",
       "      <td>6.7</td>\n",
       "    </tr>\n",
       "    <tr>\n",
       "      <th>4</th>\n",
       "      <td>3.8</td>\n",
       "      <td>14092</td>\n",
       "      <td>219.0</td>\n",
       "      <td>8.7</td>\n",
       "      <td>5.5</td>\n",
       "    </tr>\n",
       "  </tbody>\n",
       "</table>\n",
       "</div>"
      ],
      "text/plain": [
       "   TeenBirthRate ZipCode  TotalBirths2012-2014  PrematureBirth  LowBirthWeight\n",
       "0            5.6   14008                  34.0             2.9             0.0\n",
       "1           13.6   14012                  67.0            10.4             6.0\n",
       "2            5.1   14028                  47.0             8.5            10.6\n",
       "3           11.7   14067                 120.0             5.8             6.7\n",
       "4            3.8   14092                 219.0             8.7             5.5"
      ]
     },
     "execution_count": 36,
     "metadata": {},
     "output_type": "execute_result"
    }
   ],
   "source": [
    "birth.head()"
   ]
  },
  {
   "cell_type": "code",
   "execution_count": 37,
   "metadata": {
    "scrolled": true
   },
   "outputs": [
    {
     "data": {
      "image/png": "[encoded data removed]",
      "text/plain": [
       "<matplotlib.figure.Figure at 0x11b6f7080>"
      ]
     },
     "metadata": {},
     "output_type": "display_data"
    }
   ],
   "source": [
    "fig = plt.figure(figsize = (12,5))\n",
    "ax = fig.add_subplot(111)\n",
    "\n",
    "birth['PrematureBirth'].plot(kind=\"hist\", bins=20, label='% of premature births from total births', alpha=0.8)\n",
    "\n",
    "ax.set_title(\"Rate of Premature Births (%) by Zipcode\", fontsize=22, y=1.01)\n",
    "ax.set_xlabel(\"Premature Births\", fontsize=18)\n",
    "ax.set_ylabel(\"Frequency\", fontsize=18)\n",
    "\n",
    "\n",
    "plt.grid(linewidth=0.7, axis='y', linestyle='-.')\n",
    "plt.legend(fontsize=14)\n",
    "plt.show()"
   ]
  },
  {
   "cell_type": "code",
   "execution_count": 38,
   "metadata": {},
   "outputs": [
    {
     "data": {
      "image/png": "[encoded data removed]",
      "text/plain": [
       "<matplotlib.figure.Figure at 0x11b362080>"
      ]
     },
     "metadata": {},
     "output_type": "display_data"
    }
   ],
   "source": [
    "fig = plt.figure(figsize = (12,5))\n",
    "ax = fig.add_subplot(111)\n",
    "\n",
    "birth['LowBirthWeight'].plot(kind=\"hist\", bins=20, label='% of low birth weight from total births', alpha=0.8)\n",
    "\n",
    "ax.set_title(\"Rate of Low Birth Weight (%) by Zipcode\", fontsize=22, y=1.01)\n",
    "ax.set_xlabel(\"Low Birth Weight\", fontsize=18)\n",
    "ax.set_ylabel(\"Frequency\", fontsize=18)\n",
    "\n",
    "\n",
    "plt.grid(linewidth=0.7, axis='y', linestyle='-.')\n",
    "plt.legend(fontsize=14)\n",
    "plt.show()"
   ]
  },
  {
   "cell_type": "code",
   "execution_count": null,
   "metadata": {
    "collapsed": true
   },
   "outputs": [],
   "source": []
  },
  {
   "cell_type": "code",
   "execution_count": 39,
   "metadata": {},
   "outputs": [
    {
     "data": {
      "text/plain": [
       "1455"
      ]
     },
     "execution_count": 39,
     "metadata": {},
     "output_type": "execute_result"
    }
   ],
   "source": [
    "len(birth.ZipCode.unique())"
   ]
  },
  {
   "cell_type": "code",
   "execution_count": 40,
   "metadata": {},
   "outputs": [
    {
     "name": "stdout",
     "output_type": "stream",
     "text": [
      "(1455, 5)\n"
     ]
    }
   ],
   "source": [
    "birth = birth.drop_duplicates(subset=['ZipCode'])\n",
    "print(birth.shape)"
   ]
  },
  {
   "cell_type": "code",
   "execution_count": 41,
   "metadata": {
    "collapsed": true
   },
   "outputs": [],
   "source": [
    "birth.to_csv('birthNYS.csv')"
   ]
  },
  {
   "cell_type": "code",
   "execution_count": null,
   "metadata": {
    "collapsed": true
   },
   "outputs": [],
   "source": []
  },
  {
   "cell_type": "markdown",
   "metadata": {},
   "source": [
    "----\n",
    "# Combine food desert data with birth data"
   ]
  },
  {
   "cell_type": "raw",
   "metadata": {},
   "source": [
    "fooddeserts = pd.read_csv('fooddesertszip.csv', dtype={'zip': 'str'})\n",
    "fooddeserts = fooddeserts.iloc[:,:-4]\n",
    "fooddeserts.head()"
   ]
  },
  {
   "cell_type": "raw",
   "metadata": {
    "scrolled": true
   },
   "source": [
    "fooddeserts.shape"
   ]
  },
  {
   "cell_type": "raw",
   "metadata": {},
   "source": [
    "fooddeserts.dtypes"
   ]
  },
  {
   "cell_type": "raw",
   "metadata": {},
   "source": [
    "data = fooddeserts.merge(birth, left_on='zip', right_on='ZipCode')\n",
    "data = data.drop(['ZipCode'], axis=1)\n",
    "data.head()"
   ]
  },
  {
   "cell_type": "raw",
   "metadata": {},
   "source": [
    "data.shape"
   ]
  },
  {
   "cell_type": "raw",
   "metadata": {
    "collapsed": true
   },
   "source": [
    "data.to_csv('FD_birthNYS.csv')"
   ]
  },
  {
   "cell_type": "raw",
   "metadata": {},
   "source": [
    "-----\n",
    "\n",
    "# RF to learn features importance predicting Food Desert "
   ]
  },
  {
   "cell_type": "raw",
   "metadata": {},
   "source": [
    "    \n",
    "    - X matrix: variables from the food deserts doc\n",
    "    - RF on the original dataset (zipcodes)\n",
    "    - Bayes net ?? \n",
    "    - How do we address the birth issues??"
   ]
  },
  {
   "cell_type": "raw",
   "metadata": {
    "collapsed": true
   },
   "source": [
    "cols = [c for c in data.columns if c.lower()[2:6] != 'kids']"
   ]
  },
  {
   "cell_type": "raw",
   "metadata": {},
   "source": [
    "data = data[cols]\n",
    "data.shape"
   ]
  },
  {
   "cell_type": "raw",
   "metadata": {},
   "source": [
    "cols2 = [c for c in data.columns if c.lower()[2:9] != 'seniors']\n",
    "data = data[cols2]\n",
    "data.shape"
   ]
  },
  {
   "cell_type": "raw",
   "metadata": {},
   "source": [
    "datatot = data.iloc[:,:29]\n",
    "datatot.head(3)"
   ]
  },
  {
   "cell_type": "raw",
   "metadata": {},
   "source": [
    "datatracts = data.iloc[:,-15:-3]\n",
    "datatracts.head(3)"
   ]
  },
  {
   "cell_type": "raw",
   "metadata": {},
   "source": [
    "data.head()"
   ]
  },
  {
   "cell_type": "raw",
   "metadata": {},
   "source": [
    "cols3 = [c for c in data.columns if c.lower()[-5:] == 'share']\n",
    "datashare = data[cols3]\n",
    "datashare.shape"
   ]
  },
  {
   "cell_type": "raw",
   "metadata": {},
   "source": [
    "datashare.head(3)"
   ]
  },
  {
   "cell_type": "raw",
   "metadata": {},
   "source": [
    "df = datatot.merge(datashare, left_index=True, right_index=True)\n",
    "df.head(3)"
   ]
  },
  {
   "cell_type": "raw",
   "metadata": {},
   "source": [
    "df.shape"
   ]
  },
  {
   "cell_type": "raw",
   "metadata": {},
   "source": [
    "df = df.merge(birth, left_on='zip', right_on='ZipCode')\n",
    "df = df.drop(['ZipCode'], axis=1)\n",
    "df.head(3)"
   ]
  },
  {
   "cell_type": "raw",
   "metadata": {},
   "source": [
    "df.shape"
   ]
  },
  {
   "cell_type": "raw",
   "metadata": {
    "collapsed": true
   },
   "source": [
    "df.to_csv('FD_birthNYS_short.csv')"
   ]
  },
  {
   "cell_type": "markdown",
   "metadata": {},
   "source": [
    "-----"
   ]
  },
  {
   "cell_type": "code",
   "execution_count": null,
   "metadata": {
    "collapsed": true
   },
   "outputs": [],
   "source": []
  }
 ],
 "metadata": {
  "kernelspec": {
   "display_name": "Python 3",
   "language": "python",
   "name": "python3"
  },
  "language_info": {
   "codemirror_mode": {
    "name": "ipython",
    "version": 3
   },
   "file_extension": ".py",
   "mimetype": "text/x-python",
   "name": "python",
   "nbconvert_exporter": "python",
   "pygments_lexer": "ipython3",
   "version": "3.6.1"
  }
 },
 "nbformat": 4,
 "nbformat_minor": 2
}
