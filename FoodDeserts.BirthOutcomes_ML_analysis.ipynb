{
 "cells": [
  {
   "cell_type": "markdown",
   "metadata": {},
   "source": [
    "# Food Derserts and Birth Outcomes | ML for cities final project"
   ]
  },
  {
   "cell_type": "markdown",
   "metadata": {},
   "source": [
    "- controlling for zip code specific factors (controlling for everything else, does being in a food desert matter to the outcome of low birth weight?) \n",
    "- pick one definition of a food desert OR take some of the variables that make up whether it is a fd and put that in the predictor variables \n",
    "- number for feature (sklearn variable importance) \n",
    "- need to use a different ml technique to really get interpretability / variable importance \n",
    "- compare accuracy of different models\n",
    "- bayes net vs random forests \n",
    "- equal frequency bins (quartiles/quintiles) "
   ]
  },
  {
   "cell_type": "markdown",
   "metadata": {},
   "source": [
    "## Merging data before analysis"
   ]
  },
  {
   "cell_type": "code",
   "execution_count": 66,
   "metadata": {
    "collapsed": true
   },
   "outputs": [],
   "source": [
    "import pandas as pd\n",
    "import numpy as np\n",
    "import geopandas as gpd\n",
    "from sklearn.model_selection import train_test_split\n",
    "from sklearn.tree import DecisionTreeClassifier\n",
    "import matplotlib.pylab as plt\n",
    "from sklearn.model_selection import GridSearchCV\n",
    "from sklearn import linear_model\n",
    "from sklearn import tree\n",
    "from sklearn.ensemble import RandomForestClassifier\n",
    "from sklearn.ensemble import RandomForestRegressor"
   ]
  },
  {
   "cell_type": "markdown",
   "metadata": {},
   "source": [
    "## Read in the cleaned ACS data set"
   ]
  },
  {
   "cell_type": "code",
   "execution_count": 377,
   "metadata": {
    "scrolled": true
   },
   "outputs": [
    {
     "data": {
      "text/html": [
       "<div>\n",
       "<style>\n",
       "    .dataframe thead tr:only-child th {\n",
       "        text-align: right;\n",
       "    }\n",
       "\n",
       "    .dataframe thead th {\n",
       "        text-align: left;\n",
       "    }\n",
       "\n",
       "    .dataframe tbody tr th {\n",
       "        vertical-align: top;\n",
       "    }\n",
       "</style>\n",
       "<table border=\"1\" class=\"dataframe\">\n",
       "  <thead>\n",
       "    <tr style=\"text-align: right;\">\n",
       "      <th></th>\n",
       "      <th>zipcode</th>\n",
       "      <th>prctForeign</th>\n",
       "      <th>%Uninsured</th>\n",
       "      <th>%vehicle</th>\n",
       "      <th>%foodStamp</th>\n",
       "      <th>%poverty</th>\n",
       "      <th>urban/rural</th>\n",
       "    </tr>\n",
       "  </thead>\n",
       "  <tbody>\n",
       "    <tr>\n",
       "      <th>0</th>\n",
       "      <td>10001</td>\n",
       "      <td>16.230927</td>\n",
       "      <td>6.313218</td>\n",
       "      <td>77.510070</td>\n",
       "      <td>51.290074</td>\n",
       "      <td>17.5</td>\n",
       "      <td>1</td>\n",
       "    </tr>\n",
       "    <tr>\n",
       "      <th>1</th>\n",
       "      <td>10002</td>\n",
       "      <td>16.301731</td>\n",
       "      <td>7.873643</td>\n",
       "      <td>76.876850</td>\n",
       "      <td>42.674401</td>\n",
       "      <td>27.8</td>\n",
       "      <td>1</td>\n",
       "    </tr>\n",
       "    <tr>\n",
       "      <th>2</th>\n",
       "      <td>10003</td>\n",
       "      <td>12.463227</td>\n",
       "      <td>5.066324</td>\n",
       "      <td>77.210118</td>\n",
       "      <td>48.017334</td>\n",
       "      <td>9.9</td>\n",
       "      <td>1</td>\n",
       "    </tr>\n",
       "    <tr>\n",
       "      <th>3</th>\n",
       "      <td>10004</td>\n",
       "      <td>15.177398</td>\n",
       "      <td>6.241787</td>\n",
       "      <td>76.513672</td>\n",
       "      <td>52.299606</td>\n",
       "      <td>4.8</td>\n",
       "      <td>1</td>\n",
       "    </tr>\n",
       "    <tr>\n",
       "      <th>4</th>\n",
       "      <td>10005</td>\n",
       "      <td>16.211251</td>\n",
       "      <td>5.774971</td>\n",
       "      <td>85.056784</td>\n",
       "      <td>49.311137</td>\n",
       "      <td>12.1</td>\n",
       "      <td>1</td>\n",
       "    </tr>\n",
       "  </tbody>\n",
       "</table>\n",
       "</div>"
      ],
      "text/plain": [
       "  zipcode  prctForeign  %Uninsured   %vehicle  %foodStamp  %poverty  \\\n",
       "0   10001    16.230927    6.313218  77.510070   51.290074      17.5   \n",
       "1   10002    16.301731    7.873643  76.876850   42.674401      27.8   \n",
       "2   10003    12.463227    5.066324  77.210118   48.017334       9.9   \n",
       "3   10004    15.177398    6.241787  76.513672   52.299606       4.8   \n",
       "4   10005    16.211251    5.774971  85.056784   49.311137      12.1   \n",
       "\n",
       "   urban/rural  \n",
       "0            1  \n",
       "1            1  \n",
       "2            1  \n",
       "3            1  \n",
       "4            1  "
      ]
     },
     "execution_count": 377,
     "metadata": {},
     "output_type": "execute_result"
    }
   ],
   "source": [
    "dfACS = pd.read_csv('dataACS.csv')\n",
    "# dfACS = dfACS.set_index('zipcode')\n",
    "# dfACS = dfACS.drop('Unnamed: 0', axis=1)\n",
    "dfACS.zipcode = dfACS.zipcode.astype(str)\n",
    "dfACS.head()"
   ]
  },
  {
   "cell_type": "code",
   "execution_count": 378,
   "metadata": {},
   "outputs": [
    {
     "data": {
      "text/plain": [
       "(5212,)"
      ]
     },
     "execution_count": 378,
     "metadata": {},
     "output_type": "execute_result"
    }
   ],
   "source": [
    "dfACS.index.shape"
   ]
  },
  {
   "cell_type": "code",
   "execution_count": 379,
   "metadata": {},
   "outputs": [
    {
     "data": {
      "text/plain": [
       "zipcode         object\n",
       "prctForeign    float64\n",
       "%Uninsured     float64\n",
       "%vehicle       float64\n",
       "%foodStamp     float64\n",
       "%poverty       float64\n",
       "urban/rural      int64\n",
       "dtype: object"
      ]
     },
     "execution_count": 379,
     "metadata": {},
     "output_type": "execute_result"
    }
   ],
   "source": [
    "dfACS.dtypes"
   ]
  },
  {
   "cell_type": "markdown",
   "metadata": {},
   "source": [
    "## Read in Birth outcomes data set"
   ]
  },
  {
   "cell_type": "code",
   "execution_count": 397,
   "metadata": {},
   "outputs": [
    {
     "data": {
      "text/html": [
       "<div>\n",
       "<style>\n",
       "    .dataframe thead tr:only-child th {\n",
       "        text-align: right;\n",
       "    }\n",
       "\n",
       "    .dataframe thead th {\n",
       "        text-align: left;\n",
       "    }\n",
       "\n",
       "    .dataframe tbody tr th {\n",
       "        vertical-align: top;\n",
       "    }\n",
       "</style>\n",
       "<table border=\"1\" class=\"dataframe\">\n",
       "  <thead>\n",
       "    <tr style=\"text-align: right;\">\n",
       "      <th></th>\n",
       "      <th>TeenBirthRate</th>\n",
       "      <th>ZipCode</th>\n",
       "      <th>TotalBirths2012-2014</th>\n",
       "      <th>PrematureBirth</th>\n",
       "      <th>LowBirthWeight</th>\n",
       "    </tr>\n",
       "  </thead>\n",
       "  <tbody>\n",
       "    <tr>\n",
       "      <th>0</th>\n",
       "      <td>5.6</td>\n",
       "      <td>14008</td>\n",
       "      <td>34.0</td>\n",
       "      <td>2.9</td>\n",
       "      <td>0.0</td>\n",
       "    </tr>\n",
       "    <tr>\n",
       "      <th>1</th>\n",
       "      <td>13.6</td>\n",
       "      <td>14012</td>\n",
       "      <td>67.0</td>\n",
       "      <td>10.4</td>\n",
       "      <td>6.0</td>\n",
       "    </tr>\n",
       "    <tr>\n",
       "      <th>2</th>\n",
       "      <td>5.1</td>\n",
       "      <td>14028</td>\n",
       "      <td>47.0</td>\n",
       "      <td>8.5</td>\n",
       "      <td>10.6</td>\n",
       "    </tr>\n",
       "  </tbody>\n",
       "</table>\n",
       "</div>"
      ],
      "text/plain": [
       "   TeenBirthRate ZipCode  TotalBirths2012-2014  PrematureBirth  LowBirthWeight\n",
       "0            5.6   14008                  34.0             2.9             0.0\n",
       "1           13.6   14012                  67.0            10.4             6.0\n",
       "2            5.1   14028                  47.0             8.5            10.6"
      ]
     },
     "execution_count": 397,
     "metadata": {},
     "output_type": "execute_result"
    }
   ],
   "source": [
    "birth = pd.read_csv('birthNYS.csv')\n",
    "birth = birth.drop(['Unnamed: 0'], axis = 1)\n",
    "# birth = birth.set_index('ZipCode')\n",
    "birth.head(3)"
   ]
  },
  {
   "cell_type": "code",
   "execution_count": 598,
   "metadata": {},
   "outputs": [
    {
     "data": {
      "text/html": [
       "<div>\n",
       "<style>\n",
       "    .dataframe thead tr:only-child th {\n",
       "        text-align: right;\n",
       "    }\n",
       "\n",
       "    .dataframe thead th {\n",
       "        text-align: left;\n",
       "    }\n",
       "\n",
       "    .dataframe tbody tr th {\n",
       "        vertical-align: top;\n",
       "    }\n",
       "</style>\n",
       "<table border=\"1\" class=\"dataframe\">\n",
       "  <thead>\n",
       "    <tr style=\"text-align: right;\">\n",
       "      <th></th>\n",
       "      <th>zipcode</th>\n",
       "      <th>prctForeign</th>\n",
       "      <th>%Uninsured</th>\n",
       "      <th>%vehicle</th>\n",
       "      <th>%foodStamp</th>\n",
       "      <th>%poverty</th>\n",
       "      <th>urban/rural</th>\n",
       "      <th>TeenBirthRate</th>\n",
       "      <th>ZipCode</th>\n",
       "      <th>TotalBirths2012-2014</th>\n",
       "      <th>PrematureBirth</th>\n",
       "      <th>LowBirthWeight</th>\n",
       "    </tr>\n",
       "  </thead>\n",
       "  <tbody>\n",
       "    <tr>\n",
       "      <th>0</th>\n",
       "      <td>10001</td>\n",
       "      <td>16.230927</td>\n",
       "      <td>6.313218</td>\n",
       "      <td>77.510070</td>\n",
       "      <td>51.290074</td>\n",
       "      <td>17.5</td>\n",
       "      <td>1</td>\n",
       "      <td>5.7</td>\n",
       "      <td>10001</td>\n",
       "      <td>527.0</td>\n",
       "      <td>10.5</td>\n",
       "      <td>11.0</td>\n",
       "    </tr>\n",
       "    <tr>\n",
       "      <th>1</th>\n",
       "      <td>10002</td>\n",
       "      <td>16.301731</td>\n",
       "      <td>7.873643</td>\n",
       "      <td>76.876850</td>\n",
       "      <td>42.674401</td>\n",
       "      <td>27.8</td>\n",
       "      <td>1</td>\n",
       "      <td>17.7</td>\n",
       "      <td>10002</td>\n",
       "      <td>3044.0</td>\n",
       "      <td>8.9</td>\n",
       "      <td>6.6</td>\n",
       "    </tr>\n",
       "    <tr>\n",
       "      <th>2</th>\n",
       "      <td>10003</td>\n",
       "      <td>12.463227</td>\n",
       "      <td>5.066324</td>\n",
       "      <td>77.210118</td>\n",
       "      <td>48.017334</td>\n",
       "      <td>9.9</td>\n",
       "      <td>1</td>\n",
       "      <td>0.6</td>\n",
       "      <td>10003</td>\n",
       "      <td>1268.0</td>\n",
       "      <td>9.7</td>\n",
       "      <td>8.7</td>\n",
       "    </tr>\n",
       "    <tr>\n",
       "      <th>3</th>\n",
       "      <td>10004</td>\n",
       "      <td>15.177398</td>\n",
       "      <td>6.241787</td>\n",
       "      <td>76.513672</td>\n",
       "      <td>52.299606</td>\n",
       "      <td>4.8</td>\n",
       "      <td>1</td>\n",
       "      <td>0.0</td>\n",
       "      <td>10004</td>\n",
       "      <td>195.0</td>\n",
       "      <td>8.7</td>\n",
       "      <td>6.7</td>\n",
       "    </tr>\n",
       "    <tr>\n",
       "      <th>4</th>\n",
       "      <td>10005</td>\n",
       "      <td>16.211251</td>\n",
       "      <td>5.774971</td>\n",
       "      <td>85.056784</td>\n",
       "      <td>49.311137</td>\n",
       "      <td>12.1</td>\n",
       "      <td>1</td>\n",
       "      <td>0.0</td>\n",
       "      <td>10005</td>\n",
       "      <td>364.0</td>\n",
       "      <td>10.7</td>\n",
       "      <td>6.0</td>\n",
       "    </tr>\n",
       "  </tbody>\n",
       "</table>\n",
       "</div>"
      ],
      "text/plain": [
       "  zipcode  prctForeign  %Uninsured   %vehicle  %foodStamp  %poverty  \\\n",
       "0   10001    16.230927    6.313218  77.510070   51.290074      17.5   \n",
       "1   10002    16.301731    7.873643  76.876850   42.674401      27.8   \n",
       "2   10003    12.463227    5.066324  77.210118   48.017334       9.9   \n",
       "3   10004    15.177398    6.241787  76.513672   52.299606       4.8   \n",
       "4   10005    16.211251    5.774971  85.056784   49.311137      12.1   \n",
       "\n",
       "   urban/rural  TeenBirthRate ZipCode  TotalBirths2012-2014  PrematureBirth  \\\n",
       "0            1            5.7   10001                 527.0            10.5   \n",
       "1            1           17.7   10002                3044.0             8.9   \n",
       "2            1            0.6   10003                1268.0             9.7   \n",
       "3            1            0.0   10004                 195.0             8.7   \n",
       "4            1            0.0   10005                 364.0            10.7   \n",
       "\n",
       "   LowBirthWeight  \n",
       "0            11.0  \n",
       "1             6.6  \n",
       "2             8.7  \n",
       "3             6.7  \n",
       "4             6.0  "
      ]
     },
     "execution_count": 598,
     "metadata": {},
     "output_type": "execute_result"
    }
   ],
   "source": [
    "df = dfACS.merge(birth, left_on = 'zipcode', right_on = 'ZipCode')\n",
    "df.head()"
   ]
  },
  {
   "cell_type": "code",
   "execution_count": 599,
   "metadata": {},
   "outputs": [
    {
     "name": "stdout",
     "output_type": "stream",
     "text": [
      "(2059, 12)\n"
     ]
    },
    {
     "data": {
      "text/plain": [
       "Index(['zipcode', 'prctForeign', '%Uninsured', '%vehicle', '%foodStamp',\n",
       "       '%poverty', 'urban/rural', 'TeenBirthRate', 'ZipCode',\n",
       "       'TotalBirths2012-2014', 'PrematureBirth', 'LowBirthWeight'],\n",
       "      dtype='object')"
      ]
     },
     "execution_count": 599,
     "metadata": {},
     "output_type": "execute_result"
    }
   ],
   "source": [
    "print(df.shape)\n",
    "df.columns"
   ]
  },
  {
   "cell_type": "code",
   "execution_count": 600,
   "metadata": {},
   "outputs": [
    {
     "name": "stdout",
     "output_type": "stream",
     "text": [
      "(2059, 10)\n"
     ]
    },
    {
     "data": {
      "text/plain": [
       "Index(['zipcode', 'prctForeign', '%Uninsured', '%vehicle', '%foodStamp',\n",
       "       '%poverty', 'urban/rural', 'TeenBirthRate', 'PrematureBirth',\n",
       "       'LowBirthWeight'],\n",
       "      dtype='object')"
      ]
     },
     "execution_count": 600,
     "metadata": {},
     "output_type": "execute_result"
    }
   ],
   "source": [
    "df = df.drop(['ZipCode', 'TotalBirths2012-2014'], axis=1)\n",
    "\n",
    "print(df.shape)\n",
    "df.columns"
   ]
  },
  {
   "cell_type": "code",
   "execution_count": 601,
   "metadata": {},
   "outputs": [
    {
     "name": "stdout",
     "output_type": "stream",
     "text": [
      "2059\n",
      "1454\n"
     ]
    }
   ],
   "source": [
    "print(len(df.zipcode))\n",
    "print(len(df.zipcode.unique()))"
   ]
  },
  {
   "cell_type": "code",
   "execution_count": 602,
   "metadata": {},
   "outputs": [
    {
     "name": "stdout",
     "output_type": "stream",
     "text": [
      "(1454, 10)\n"
     ]
    }
   ],
   "source": [
    "df = df.drop_duplicates(subset=['zipcode'])\n",
    "print(df.shape)"
   ]
  },
  {
   "cell_type": "code",
   "execution_count": 603,
   "metadata": {},
   "outputs": [
    {
     "data": {
      "text/html": [
       "<div>\n",
       "<style>\n",
       "    .dataframe thead tr:only-child th {\n",
       "        text-align: right;\n",
       "    }\n",
       "\n",
       "    .dataframe thead th {\n",
       "        text-align: left;\n",
       "    }\n",
       "\n",
       "    .dataframe tbody tr th {\n",
       "        vertical-align: top;\n",
       "    }\n",
       "</style>\n",
       "<table border=\"1\" class=\"dataframe\">\n",
       "  <thead>\n",
       "    <tr style=\"text-align: right;\">\n",
       "      <th></th>\n",
       "      <th>zipcode</th>\n",
       "      <th>%Foreign</th>\n",
       "      <th>%Uninsured</th>\n",
       "      <th>%vehicle</th>\n",
       "      <th>%foodStamp</th>\n",
       "      <th>%poverty</th>\n",
       "      <th>urban</th>\n",
       "      <th>%TeenBirthRate</th>\n",
       "      <th>%PrematureBirth</th>\n",
       "      <th>%LowBirthWeight</th>\n",
       "    </tr>\n",
       "  </thead>\n",
       "  <tbody>\n",
       "    <tr>\n",
       "      <th>0</th>\n",
       "      <td>10001</td>\n",
       "      <td>16.230927</td>\n",
       "      <td>6.313218</td>\n",
       "      <td>77.510070</td>\n",
       "      <td>51.290074</td>\n",
       "      <td>17.5</td>\n",
       "      <td>1</td>\n",
       "      <td>5.7</td>\n",
       "      <td>10.5</td>\n",
       "      <td>11.0</td>\n",
       "    </tr>\n",
       "    <tr>\n",
       "      <th>1</th>\n",
       "      <td>10002</td>\n",
       "      <td>16.301731</td>\n",
       "      <td>7.873643</td>\n",
       "      <td>76.876850</td>\n",
       "      <td>42.674401</td>\n",
       "      <td>27.8</td>\n",
       "      <td>1</td>\n",
       "      <td>17.7</td>\n",
       "      <td>8.9</td>\n",
       "      <td>6.6</td>\n",
       "    </tr>\n",
       "    <tr>\n",
       "      <th>2</th>\n",
       "      <td>10003</td>\n",
       "      <td>12.463227</td>\n",
       "      <td>5.066324</td>\n",
       "      <td>77.210118</td>\n",
       "      <td>48.017334</td>\n",
       "      <td>9.9</td>\n",
       "      <td>1</td>\n",
       "      <td>0.6</td>\n",
       "      <td>9.7</td>\n",
       "      <td>8.7</td>\n",
       "    </tr>\n",
       "    <tr>\n",
       "      <th>3</th>\n",
       "      <td>10004</td>\n",
       "      <td>15.177398</td>\n",
       "      <td>6.241787</td>\n",
       "      <td>76.513672</td>\n",
       "      <td>52.299606</td>\n",
       "      <td>4.8</td>\n",
       "      <td>1</td>\n",
       "      <td>0.0</td>\n",
       "      <td>8.7</td>\n",
       "      <td>6.7</td>\n",
       "    </tr>\n",
       "    <tr>\n",
       "      <th>4</th>\n",
       "      <td>10005</td>\n",
       "      <td>16.211251</td>\n",
       "      <td>5.774971</td>\n",
       "      <td>85.056784</td>\n",
       "      <td>49.311137</td>\n",
       "      <td>12.1</td>\n",
       "      <td>1</td>\n",
       "      <td>0.0</td>\n",
       "      <td>10.7</td>\n",
       "      <td>6.0</td>\n",
       "    </tr>\n",
       "  </tbody>\n",
       "</table>\n",
       "</div>"
      ],
      "text/plain": [
       "  zipcode   %Foreign  %Uninsured   %vehicle  %foodStamp  %poverty  urban  \\\n",
       "0   10001  16.230927    6.313218  77.510070   51.290074      17.5      1   \n",
       "1   10002  16.301731    7.873643  76.876850   42.674401      27.8      1   \n",
       "2   10003  12.463227    5.066324  77.210118   48.017334       9.9      1   \n",
       "3   10004  15.177398    6.241787  76.513672   52.299606       4.8      1   \n",
       "4   10005  16.211251    5.774971  85.056784   49.311137      12.1      1   \n",
       "\n",
       "   %TeenBirthRate  %PrematureBirth  %LowBirthWeight  \n",
       "0             5.7             10.5             11.0  \n",
       "1            17.7              8.9              6.6  \n",
       "2             0.6              9.7              8.7  \n",
       "3             0.0              8.7              6.7  \n",
       "4             0.0             10.7              6.0  "
      ]
     },
     "execution_count": 603,
     "metadata": {},
     "output_type": "execute_result"
    }
   ],
   "source": [
    "# df = df.set_index('zipcode')\n",
    "df.columns = ['zipcode', '%Foreign', '%Uninsured', '%vehicle', '%foodStamp', '%poverty', 'urban', \n",
    "              '%TeenBirthRate', '%PrematureBirth', '%LowBirthWeight']\n",
    "df.head()"
   ]
  },
  {
   "cell_type": "code",
   "execution_count": 604,
   "metadata": {
    "collapsed": true
   },
   "outputs": [],
   "source": [
    "df.to_csv('dataAll.csv')"
   ]
  },
  {
   "cell_type": "markdown",
   "metadata": {},
   "source": [
    "## Read in the Zipcodes shp"
   ]
  },
  {
   "cell_type": "code",
   "execution_count": 605,
   "metadata": {},
   "outputs": [
    {
     "data": {
      "text/plain": [
       "(33144, 6)"
      ]
     },
     "execution_count": 605,
     "metadata": {},
     "output_type": "execute_result"
    }
   ],
   "source": [
    "zipshp = gpd.read_file('cb_2017_us_zcta510_500k/cb_2017_us_zcta510_500k.shp')\n",
    "zipshp.shape"
   ]
  },
  {
   "cell_type": "code",
   "execution_count": 606,
   "metadata": {},
   "outputs": [
    {
     "data": {
      "text/plain": [
       "33144"
      ]
     },
     "execution_count": 606,
     "metadata": {},
     "output_type": "execute_result"
    }
   ],
   "source": [
    "len(zipshp.ZCTA5CE10.unique())"
   ]
  },
  {
   "cell_type": "code",
   "execution_count": 607,
   "metadata": {},
   "outputs": [
    {
     "data": {
      "text/html": [
       "<div>\n",
       "<style>\n",
       "    .dataframe thead tr:only-child th {\n",
       "        text-align: right;\n",
       "    }\n",
       "\n",
       "    .dataframe thead th {\n",
       "        text-align: left;\n",
       "    }\n",
       "\n",
       "    .dataframe tbody tr th {\n",
       "        vertical-align: top;\n",
       "    }\n",
       "</style>\n",
       "<table border=\"1\" class=\"dataframe\">\n",
       "  <thead>\n",
       "    <tr style=\"text-align: right;\">\n",
       "      <th></th>\n",
       "      <th>ZCTA5CE10</th>\n",
       "      <th>AFFGEOID10</th>\n",
       "      <th>GEOID10</th>\n",
       "      <th>ALAND10</th>\n",
       "      <th>AWATER10</th>\n",
       "      <th>geometry</th>\n",
       "    </tr>\n",
       "  </thead>\n",
       "  <tbody>\n",
       "    <tr>\n",
       "      <th>0</th>\n",
       "      <td>35442</td>\n",
       "      <td>8600000US35442</td>\n",
       "      <td>35442</td>\n",
       "      <td>610213891</td>\n",
       "      <td>10838694</td>\n",
       "      <td>(POLYGON ((-88.252618 32.92675, -88.249724 32....</td>\n",
       "    </tr>\n",
       "    <tr>\n",
       "      <th>1</th>\n",
       "      <td>85365</td>\n",
       "      <td>8600000US85365</td>\n",
       "      <td>85365</td>\n",
       "      <td>3545016067</td>\n",
       "      <td>9766486</td>\n",
       "      <td>(POLYGON ((-114.684663 32.687389, -114.676063 ...</td>\n",
       "    </tr>\n",
       "    <tr>\n",
       "      <th>2</th>\n",
       "      <td>71973</td>\n",
       "      <td>8600000US71973</td>\n",
       "      <td>71973</td>\n",
       "      <td>204670474</td>\n",
       "      <td>1264709</td>\n",
       "      <td>POLYGON ((-94.46643176650841 34.330735, -94.46...</td>\n",
       "    </tr>\n",
       "  </tbody>\n",
       "</table>\n",
       "</div>"
      ],
      "text/plain": [
       "  ZCTA5CE10      AFFGEOID10 GEOID10     ALAND10  AWATER10  \\\n",
       "0     35442  8600000US35442   35442   610213891  10838694   \n",
       "1     85365  8600000US85365   85365  3545016067   9766486   \n",
       "2     71973  8600000US71973   71973   204670474   1264709   \n",
       "\n",
       "                                            geometry  \n",
       "0  (POLYGON ((-88.252618 32.92675, -88.249724 32....  \n",
       "1  (POLYGON ((-114.684663 32.687389, -114.676063 ...  \n",
       "2  POLYGON ((-94.46643176650841 34.330735, -94.46...  "
      ]
     },
     "execution_count": 607,
     "metadata": {},
     "output_type": "execute_result"
    }
   ],
   "source": [
    "zipshp.head(3)"
   ]
  },
  {
   "cell_type": "markdown",
   "metadata": {},
   "source": [
    "## Merging data to shp"
   ]
  },
  {
   "cell_type": "code",
   "execution_count": 608,
   "metadata": {},
   "outputs": [
    {
     "name": "stdout",
     "output_type": "stream",
     "text": [
      "(1454, 10)\n",
      "Index(['geometry', '%Foreign', '%Uninsured', '%vehicle', '%foodStamp',\n",
      "       '%poverty', 'urban', '%TeenBirthRate', '%PrematureBirth',\n",
      "       '%LowBirthWeight'],\n",
      "      dtype='object')\n"
     ]
    },
    {
     "data": {
      "text/html": [
       "<div>\n",
       "<style>\n",
       "    .dataframe thead tr:only-child th {\n",
       "        text-align: right;\n",
       "    }\n",
       "\n",
       "    .dataframe thead th {\n",
       "        text-align: left;\n",
       "    }\n",
       "\n",
       "    .dataframe tbody tr th {\n",
       "        vertical-align: top;\n",
       "    }\n",
       "</style>\n",
       "<table border=\"1\" class=\"dataframe\">\n",
       "  <thead>\n",
       "    <tr style=\"text-align: right;\">\n",
       "      <th></th>\n",
       "      <th>geometry</th>\n",
       "      <th>%Foreign</th>\n",
       "      <th>%Uninsured</th>\n",
       "      <th>%vehicle</th>\n",
       "      <th>%foodStamp</th>\n",
       "      <th>%poverty</th>\n",
       "      <th>urban</th>\n",
       "      <th>%TeenBirthRate</th>\n",
       "      <th>%PrematureBirth</th>\n",
       "      <th>%LowBirthWeight</th>\n",
       "    </tr>\n",
       "    <tr>\n",
       "      <th>zipcode</th>\n",
       "      <th></th>\n",
       "      <th></th>\n",
       "      <th></th>\n",
       "      <th></th>\n",
       "      <th></th>\n",
       "      <th></th>\n",
       "      <th></th>\n",
       "      <th></th>\n",
       "      <th></th>\n",
       "      <th></th>\n",
       "    </tr>\n",
       "  </thead>\n",
       "  <tbody>\n",
       "    <tr>\n",
       "      <th>12832</th>\n",
       "      <td>POLYGON ((-73.414208 43.388595, -73.4105869999...</td>\n",
       "      <td>0.647249</td>\n",
       "      <td>8.223007</td>\n",
       "      <td>1.463581</td>\n",
       "      <td>40.232421</td>\n",
       "      <td>14.9</td>\n",
       "      <td>1</td>\n",
       "      <td>32.9</td>\n",
       "      <td>7.5</td>\n",
       "      <td>3.7</td>\n",
       "    </tr>\n",
       "    <tr>\n",
       "      <th>13421</th>\n",
       "      <td>POLYGON ((-75.709535 43.088988, -75.704686 43....</td>\n",
       "      <td>1.448316</td>\n",
       "      <td>5.763858</td>\n",
       "      <td>4.992306</td>\n",
       "      <td>39.111895</td>\n",
       "      <td>16.2</td>\n",
       "      <td>1</td>\n",
       "      <td>30.1</td>\n",
       "      <td>8.8</td>\n",
       "      <td>6.7</td>\n",
       "    </tr>\n",
       "    <tr>\n",
       "      <th>10456</th>\n",
       "      <td>POLYGON ((-73.91902899999999 40.83309, -73.914...</td>\n",
       "      <td>20.066442</td>\n",
       "      <td>11.600440</td>\n",
       "      <td>60.622253</td>\n",
       "      <td>32.111269</td>\n",
       "      <td>40.8</td>\n",
       "      <td>1</td>\n",
       "      <td>41.3</td>\n",
       "      <td>12.4</td>\n",
       "      <td>10.2</td>\n",
       "    </tr>\n",
       "  </tbody>\n",
       "</table>\n",
       "</div>"
      ],
      "text/plain": [
       "                                                  geometry   %Foreign  \\\n",
       "zipcode                                                                 \n",
       "12832    POLYGON ((-73.414208 43.388595, -73.4105869999...   0.647249   \n",
       "13421    POLYGON ((-75.709535 43.088988, -75.704686 43....   1.448316   \n",
       "10456    POLYGON ((-73.91902899999999 40.83309, -73.914...  20.066442   \n",
       "\n",
       "         %Uninsured   %vehicle  %foodStamp  %poverty  urban  %TeenBirthRate  \\\n",
       "zipcode                                                                       \n",
       "12832      8.223007   1.463581   40.232421      14.9      1            32.9   \n",
       "13421      5.763858   4.992306   39.111895      16.2      1            30.1   \n",
       "10456     11.600440  60.622253   32.111269      40.8      1            41.3   \n",
       "\n",
       "         %PrematureBirth  %LowBirthWeight  \n",
       "zipcode                                    \n",
       "12832                7.5              3.7  \n",
       "13421                8.8              6.7  \n",
       "10456               12.4             10.2  "
      ]
     },
     "execution_count": 608,
     "metadata": {},
     "output_type": "execute_result"
    }
   ],
   "source": [
    "dfshp = zipshp.merge(df, left_on = 'ZCTA5CE10', right_on = 'zipcode')\n",
    "dfshp = dfshp.set_index('zipcode')\n",
    "dfshp = dfshp.drop(['ZCTA5CE10', 'GEOID10', 'AFFGEOID10', 'ALAND10', 'AWATER10'], axis=1)\n",
    "print(dfshp.shape)\n",
    "print(dfshp.columns)\n",
    "\n",
    "dfshp.head(3)"
   ]
  },
  {
   "cell_type": "code",
   "execution_count": 609,
   "metadata": {},
   "outputs": [
    {
     "data": {
      "text/plain": [
       "1454"
      ]
     },
     "execution_count": 609,
     "metadata": {},
     "output_type": "execute_result"
    }
   ],
   "source": [
    "len(dfshp.index.unique())"
   ]
  },
  {
   "cell_type": "code",
   "execution_count": 610,
   "metadata": {
    "collapsed": true
   },
   "outputs": [],
   "source": [
    "dfshp.to_csv('dfshp.csv')"
   ]
  },
  {
   "cell_type": "markdown",
   "metadata": {},
   "source": [
    "----\n",
    "\n",
    "# Analysis\n",
    "\n",
    "# 1. Random Forest"
   ]
  },
  {
   "cell_type": "markdown",
   "metadata": {},
   "source": [
    "### Split into training and test data"
   ]
  },
  {
   "cell_type": "code",
   "execution_count": 611,
   "metadata": {},
   "outputs": [
    {
     "data": {
      "text/html": [
       "<div>\n",
       "<style>\n",
       "    .dataframe thead tr:only-child th {\n",
       "        text-align: right;\n",
       "    }\n",
       "\n",
       "    .dataframe thead th {\n",
       "        text-align: left;\n",
       "    }\n",
       "\n",
       "    .dataframe tbody tr th {\n",
       "        vertical-align: top;\n",
       "    }\n",
       "</style>\n",
       "<table border=\"1\" class=\"dataframe\">\n",
       "  <thead>\n",
       "    <tr style=\"text-align: right;\">\n",
       "      <th></th>\n",
       "      <th>%Foreign</th>\n",
       "      <th>%Uninsured</th>\n",
       "      <th>%vehicle</th>\n",
       "      <th>%foodStamp</th>\n",
       "      <th>%poverty</th>\n",
       "      <th>urban</th>\n",
       "      <th>%TeenBirthRate</th>\n",
       "      <th>%PrematureBirth</th>\n",
       "      <th>%LowBirthWeight</th>\n",
       "    </tr>\n",
       "    <tr>\n",
       "      <th>zipcode</th>\n",
       "      <th></th>\n",
       "      <th></th>\n",
       "      <th></th>\n",
       "      <th></th>\n",
       "      <th></th>\n",
       "      <th></th>\n",
       "      <th></th>\n",
       "      <th></th>\n",
       "      <th></th>\n",
       "    </tr>\n",
       "  </thead>\n",
       "  <tbody>\n",
       "    <tr>\n",
       "      <th>10001</th>\n",
       "      <td>16.230927</td>\n",
       "      <td>6.313218</td>\n",
       "      <td>77.510070</td>\n",
       "      <td>51.290074</td>\n",
       "      <td>17.5</td>\n",
       "      <td>1</td>\n",
       "      <td>5.7</td>\n",
       "      <td>10.5</td>\n",
       "      <td>11.0</td>\n",
       "    </tr>\n",
       "    <tr>\n",
       "      <th>10002</th>\n",
       "      <td>16.301731</td>\n",
       "      <td>7.873643</td>\n",
       "      <td>76.876850</td>\n",
       "      <td>42.674401</td>\n",
       "      <td>27.8</td>\n",
       "      <td>1</td>\n",
       "      <td>17.7</td>\n",
       "      <td>8.9</td>\n",
       "      <td>6.6</td>\n",
       "    </tr>\n",
       "    <tr>\n",
       "      <th>10003</th>\n",
       "      <td>12.463227</td>\n",
       "      <td>5.066324</td>\n",
       "      <td>77.210118</td>\n",
       "      <td>48.017334</td>\n",
       "      <td>9.9</td>\n",
       "      <td>1</td>\n",
       "      <td>0.6</td>\n",
       "      <td>9.7</td>\n",
       "      <td>8.7</td>\n",
       "    </tr>\n",
       "    <tr>\n",
       "      <th>10004</th>\n",
       "      <td>15.177398</td>\n",
       "      <td>6.241787</td>\n",
       "      <td>76.513672</td>\n",
       "      <td>52.299606</td>\n",
       "      <td>4.8</td>\n",
       "      <td>1</td>\n",
       "      <td>0.0</td>\n",
       "      <td>8.7</td>\n",
       "      <td>6.7</td>\n",
       "    </tr>\n",
       "    <tr>\n",
       "      <th>10005</th>\n",
       "      <td>16.211251</td>\n",
       "      <td>5.774971</td>\n",
       "      <td>85.056784</td>\n",
       "      <td>49.311137</td>\n",
       "      <td>12.1</td>\n",
       "      <td>1</td>\n",
       "      <td>0.0</td>\n",
       "      <td>10.7</td>\n",
       "      <td>6.0</td>\n",
       "    </tr>\n",
       "  </tbody>\n",
       "</table>\n",
       "</div>"
      ],
      "text/plain": [
       "          %Foreign  %Uninsured   %vehicle  %foodStamp  %poverty  urban  \\\n",
       "zipcode                                                                  \n",
       "10001    16.230927    6.313218  77.510070   51.290074      17.5      1   \n",
       "10002    16.301731    7.873643  76.876850   42.674401      27.8      1   \n",
       "10003    12.463227    5.066324  77.210118   48.017334       9.9      1   \n",
       "10004    15.177398    6.241787  76.513672   52.299606       4.8      1   \n",
       "10005    16.211251    5.774971  85.056784   49.311137      12.1      1   \n",
       "\n",
       "         %TeenBirthRate  %PrematureBirth  %LowBirthWeight  \n",
       "zipcode                                                    \n",
       "10001               5.7             10.5             11.0  \n",
       "10002              17.7              8.9              6.6  \n",
       "10003               0.6              9.7              8.7  \n",
       "10004               0.0              8.7              6.7  \n",
       "10005               0.0             10.7              6.0  "
      ]
     },
     "execution_count": 611,
     "metadata": {},
     "output_type": "execute_result"
    }
   ],
   "source": [
    "df = df.set_index('zipcode')\n",
    "df.head()"
   ]
  },
  {
   "cell_type": "code",
   "execution_count": 612,
   "metadata": {},
   "outputs": [
    {
     "data": {
      "text/plain": [
       "(1454, 9)"
      ]
     },
     "execution_count": 612,
     "metadata": {},
     "output_type": "execute_result"
    }
   ],
   "source": [
    "df.shape"
   ]
  },
  {
   "cell_type": "code",
   "execution_count": 613,
   "metadata": {
    "scrolled": true
   },
   "outputs": [
    {
     "data": {
      "text/plain": [
       "count    1454.000000\n",
       "mean        7.149931\n",
       "std         3.696764\n",
       "min         0.000000\n",
       "25%         5.100000\n",
       "50%         7.100000\n",
       "75%         8.900000\n",
       "max        50.000000\n",
       "Name: %LowBirthWeight, dtype: float64"
      ]
     },
     "execution_count": 613,
     "metadata": {},
     "output_type": "execute_result"
    }
   ],
   "source": [
    "df['%LowBirthWeight'].describe()"
   ]
  },
  {
   "cell_type": "code",
   "execution_count": 614,
   "metadata": {},
   "outputs": [
    {
     "data": {
      "text/plain": [
       "2.0    382\n",
       "1.0    370\n",
       "4.0    354\n",
       "3.0    348\n",
       "Name: %LowBirthWeight, dtype: int64"
      ]
     },
     "execution_count": 614,
     "metadata": {},
     "output_type": "execute_result"
    }
   ],
   "source": [
    "df.loc[df['%LowBirthWeight'] <= 5.1] = 1\n",
    "df.loc[(df['%LowBirthWeight'] > 5.1) & (df['%LowBirthWeight'] <= 7.1), '%LowBirthWeight'] = 2\n",
    "df.loc[(df['%LowBirthWeight'] > 7.1) & (df['%LowBirthWeight'] <= 8.9), '%LowBirthWeight'] = 3\n",
    "df.loc[df['%LowBirthWeight'] > 8.9, '%LowBirthWeight'] = 4\n",
    "\n",
    "df['%LowBirthWeight'].value_counts()"
   ]
  },
  {
   "cell_type": "code",
   "execution_count": 615,
   "metadata": {},
   "outputs": [
    {
     "data": {
      "text/plain": [
       "zipcode\n",
       "10001    4.0\n",
       "10532    1.0\n",
       "10998    4.0\n",
       "11434    4.0\n",
       "11778    2.0\n",
       "12090    4.0\n",
       "12456    2.0\n",
       "12760    2.0\n",
       "12981    1.0\n",
       "13214    3.0\n",
       "13607    4.0\n",
       "13830    1.0\n",
       "14201    4.0\n",
       "14559    2.0\n",
       "14818    4.0\n",
       "Name: %LowBirthWeight, dtype: float64"
      ]
     },
     "execution_count": 615,
     "metadata": {},
     "output_type": "execute_result"
    }
   ],
   "source": [
    "df['%LowBirthWeight'][::100]"
   ]
  },
  {
   "cell_type": "code",
   "execution_count": 616,
   "metadata": {},
   "outputs": [
    {
     "data": {
      "text/html": [
       "<div>\n",
       "<style>\n",
       "    .dataframe thead tr:only-child th {\n",
       "        text-align: right;\n",
       "    }\n",
       "\n",
       "    .dataframe thead th {\n",
       "        text-align: left;\n",
       "    }\n",
       "\n",
       "    .dataframe tbody tr th {\n",
       "        vertical-align: top;\n",
       "    }\n",
       "</style>\n",
       "<table border=\"1\" class=\"dataframe\">\n",
       "  <thead>\n",
       "    <tr style=\"text-align: right;\">\n",
       "      <th></th>\n",
       "      <th>%Foreign</th>\n",
       "      <th>%Uninsured</th>\n",
       "      <th>%vehicle</th>\n",
       "      <th>%foodStamp</th>\n",
       "      <th>%poverty</th>\n",
       "      <th>urban</th>\n",
       "      <th>%TeenBirthRate</th>\n",
       "      <th>%PrematureBirth</th>\n",
       "      <th>%LowBirthWeight</th>\n",
       "    </tr>\n",
       "    <tr>\n",
       "      <th>zipcode</th>\n",
       "      <th></th>\n",
       "      <th></th>\n",
       "      <th></th>\n",
       "      <th></th>\n",
       "      <th></th>\n",
       "      <th></th>\n",
       "      <th></th>\n",
       "      <th></th>\n",
       "      <th></th>\n",
       "    </tr>\n",
       "  </thead>\n",
       "  <tbody>\n",
       "    <tr>\n",
       "      <th>10001</th>\n",
       "      <td>16.230927</td>\n",
       "      <td>6.313218</td>\n",
       "      <td>77.510070</td>\n",
       "      <td>51.290074</td>\n",
       "      <td>17.5</td>\n",
       "      <td>1</td>\n",
       "      <td>5.7</td>\n",
       "      <td>10.5</td>\n",
       "      <td>4.0</td>\n",
       "    </tr>\n",
       "    <tr>\n",
       "      <th>10002</th>\n",
       "      <td>16.301731</td>\n",
       "      <td>7.873643</td>\n",
       "      <td>76.876850</td>\n",
       "      <td>42.674401</td>\n",
       "      <td>27.8</td>\n",
       "      <td>1</td>\n",
       "      <td>17.7</td>\n",
       "      <td>8.9</td>\n",
       "      <td>2.0</td>\n",
       "    </tr>\n",
       "    <tr>\n",
       "      <th>10003</th>\n",
       "      <td>12.463227</td>\n",
       "      <td>5.066324</td>\n",
       "      <td>77.210118</td>\n",
       "      <td>48.017334</td>\n",
       "      <td>9.9</td>\n",
       "      <td>1</td>\n",
       "      <td>0.6</td>\n",
       "      <td>9.7</td>\n",
       "      <td>3.0</td>\n",
       "    </tr>\n",
       "  </tbody>\n",
       "</table>\n",
       "</div>"
      ],
      "text/plain": [
       "          %Foreign  %Uninsured   %vehicle  %foodStamp  %poverty  urban  \\\n",
       "zipcode                                                                  \n",
       "10001    16.230927    6.313218  77.510070   51.290074      17.5      1   \n",
       "10002    16.301731    7.873643  76.876850   42.674401      27.8      1   \n",
       "10003    12.463227    5.066324  77.210118   48.017334       9.9      1   \n",
       "\n",
       "         %TeenBirthRate  %PrematureBirth  %LowBirthWeight  \n",
       "zipcode                                                    \n",
       "10001               5.7             10.5              4.0  \n",
       "10002              17.7              8.9              2.0  \n",
       "10003               0.6              9.7              3.0  "
      ]
     },
     "execution_count": 616,
     "metadata": {},
     "output_type": "execute_result"
    }
   ],
   "source": [
    "df.dropna(0, inplace=True)\n",
    "df.head(3)"
   ]
  },
  {
   "cell_type": "code",
   "execution_count": 617,
   "metadata": {},
   "outputs": [
    {
     "data": {
      "text/plain": [
       "%Foreign           float64\n",
       "%Uninsured         float64\n",
       "%vehicle           float64\n",
       "%foodStamp         float64\n",
       "%poverty           float64\n",
       "urban                int64\n",
       "%TeenBirthRate     float64\n",
       "%PrematureBirth    float64\n",
       "%LowBirthWeight    float64\n",
       "dtype: object"
      ]
     },
     "execution_count": 617,
     "metadata": {},
     "output_type": "execute_result"
    }
   ],
   "source": [
    "df.dtypes"
   ]
  },
  {
   "cell_type": "markdown",
   "metadata": {},
   "source": [
    "# 1.1 dependent: _Low birth weight_"
   ]
  },
  {
   "cell_type": "code",
   "execution_count": 618,
   "metadata": {},
   "outputs": [],
   "source": [
    "X = df.iloc[:,:7]\n",
    "y = df['%LowBirthWeight']\n",
    "\n",
    "# X = X.astype(int)\n",
    "# Y = Y.astype(int)"
   ]
  },
  {
   "cell_type": "code",
   "execution_count": 619,
   "metadata": {
    "collapsed": true
   },
   "outputs": [],
   "source": [
    "X_train, X_test, y_train, y_test = train_test_split(X, y, test_size=0.3,\n",
    "                                                   random_state=123)"
   ]
  },
  {
   "cell_type": "code",
   "execution_count": 620,
   "metadata": {
    "collapsed": true
   },
   "outputs": [],
   "source": [
    "rf = RandomForestClassifier(n_estimators=30, n_jobs=-1,max_leaf_nodes=10)"
   ]
  },
  {
   "cell_type": "code",
   "execution_count": 621,
   "metadata": {},
   "outputs": [
    {
     "data": {
      "text/plain": [
       "RandomForestClassifier(bootstrap=True, class_weight=None, criterion='gini',\n",
       "            max_depth=None, max_features='auto', max_leaf_nodes=10,\n",
       "            min_impurity_split=1e-07, min_samples_leaf=1,\n",
       "            min_samples_split=2, min_weight_fraction_leaf=0.0,\n",
       "            n_estimators=30, n_jobs=-1, oob_score=False, random_state=None,\n",
       "            verbose=0, warm_start=False)"
      ]
     },
     "execution_count": 621,
     "metadata": {},
     "output_type": "execute_result"
    }
   ],
   "source": [
    "rf"
   ]
  },
  {
   "cell_type": "code",
   "execution_count": 622,
   "metadata": {},
   "outputs": [
    {
     "data": {
      "text/plain": [
       "dtype('float64')"
      ]
     },
     "execution_count": 622,
     "metadata": {},
     "output_type": "execute_result"
    }
   ],
   "source": [
    "y_train.dtypes"
   ]
  },
  {
   "cell_type": "code",
   "execution_count": 623,
   "metadata": {
    "collapsed": true
   },
   "outputs": [],
   "source": [
    "# y_train = np.asarray(y_train, dtype=\"|S6\")"
   ]
  },
  {
   "cell_type": "code",
   "execution_count": 624,
   "metadata": {
    "scrolled": true
   },
   "outputs": [
    {
     "data": {
      "text/plain": [
       "(955, 7)"
      ]
     },
     "execution_count": 624,
     "metadata": {},
     "output_type": "execute_result"
    }
   ],
   "source": [
    "X_train.shape"
   ]
  },
  {
   "cell_type": "code",
   "execution_count": 625,
   "metadata": {},
   "outputs": [
    {
     "data": {
      "text/plain": [
       "(955,)"
      ]
     },
     "execution_count": 625,
     "metadata": {},
     "output_type": "execute_result"
    }
   ],
   "source": [
    "y_train.shape"
   ]
  },
  {
   "cell_type": "code",
   "execution_count": 626,
   "metadata": {},
   "outputs": [
    {
     "data": {
      "text/plain": [
       "RandomForestClassifier(bootstrap=True, class_weight=None, criterion='gini',\n",
       "            max_depth=None, max_features='auto', max_leaf_nodes=10,\n",
       "            min_impurity_split=1e-07, min_samples_leaf=1,\n",
       "            min_samples_split=2, min_weight_fraction_leaf=0.0,\n",
       "            n_estimators=30, n_jobs=-1, oob_score=False, random_state=None,\n",
       "            verbose=0, warm_start=False)"
      ]
     },
     "execution_count": 626,
     "metadata": {},
     "output_type": "execute_result"
    }
   ],
   "source": [
    "rf.fit(X_train, y_train)"
   ]
  },
  {
   "cell_type": "code",
   "execution_count": 627,
   "metadata": {},
   "outputs": [
    {
     "data": {
      "text/plain": [
       "dtype('float64')"
      ]
     },
     "execution_count": 627,
     "metadata": {},
     "output_type": "execute_result"
    }
   ],
   "source": [
    "y_test.dtypes"
   ]
  },
  {
   "cell_type": "code",
   "execution_count": 628,
   "metadata": {},
   "outputs": [
    {
     "data": {
      "text/plain": [
       "dtype('float64')"
      ]
     },
     "execution_count": 628,
     "metadata": {},
     "output_type": "execute_result"
    }
   ],
   "source": [
    "y_test.dtypes"
   ]
  },
  {
   "cell_type": "code",
   "execution_count": 630,
   "metadata": {
    "scrolled": false
   },
   "outputs": [
    {
     "name": "stdout",
     "output_type": "stream",
     "text": [
      "max depth =  2\n",
      "In sample accuracy: 61.05%\n",
      "Out of sample accuracy: 59.27% \n",
      "\n",
      "\n",
      "max depth =  3\n",
      "In sample accuracy: 62.3%\n",
      "Out of sample accuracy: 58.05% \n",
      "\n",
      "\n",
      "max depth =  4\n",
      "In sample accuracy: 68.69%\n",
      "Out of sample accuracy: 61.46% \n",
      "\n",
      "\n",
      "max depth =  5\n",
      "In sample accuracy: 73.61%\n",
      "Out of sample accuracy: 60.49% \n",
      "\n",
      "\n",
      "max depth =  6\n",
      "In sample accuracy: 76.54%\n",
      "Out of sample accuracy: 58.29% \n",
      "\n",
      "\n",
      "max depth =  7\n",
      "In sample accuracy: 83.98%\n",
      "Out of sample accuracy: 60.49% \n",
      "\n",
      "\n",
      "max depth =  8\n",
      "In sample accuracy: 89.95%\n",
      "Out of sample accuracy: 63.9% \n",
      "\n",
      "\n",
      "max depth =  9\n",
      "In sample accuracy: 91.41%\n",
      "Out of sample accuracy: 59.76% \n",
      "\n",
      "\n",
      "max depth =  10\n",
      "In sample accuracy: 94.66%\n",
      "Out of sample accuracy: 58.78% \n",
      "\n",
      "\n",
      "max depth =  11\n",
      "In sample accuracy: 98.01%\n",
      "Out of sample accuracy: 62.68% \n",
      "\n",
      "\n",
      "max depth =  12\n",
      "In sample accuracy: 99.06%\n",
      "Out of sample accuracy: 59.76% \n",
      "\n",
      "\n",
      "max depth =  13\n",
      "In sample accuracy: 98.64%\n",
      "Out of sample accuracy: 59.76% \n",
      "\n",
      "\n",
      "max depth =  14\n",
      "In sample accuracy: 99.69%\n",
      "Out of sample accuracy: 58.05% \n",
      "\n",
      "\n",
      "max depth =  15\n",
      "In sample accuracy: 99.79%\n",
      "Out of sample accuracy: 60.49% \n",
      "\n",
      "\n",
      "max depth =  16\n",
      "In sample accuracy: 99.9%\n",
      "Out of sample accuracy: 60.49% \n",
      "\n",
      "\n",
      "max depth =  17\n",
      "In sample accuracy: 100.0%\n",
      "Out of sample accuracy: 61.95% \n",
      "\n",
      "\n",
      "max depth =  18\n",
      "In sample accuracy: 100.0%\n",
      "Out of sample accuracy: 61.46% \n",
      "\n",
      "\n",
      "max depth =  19\n",
      "In sample accuracy: 100.0%\n",
      "Out of sample accuracy: 60.49% \n",
      "\n",
      "\n",
      "max depth =  20\n",
      "In sample accuracy: 99.9%\n",
      "Out of sample accuracy: 58.29% \n",
      "\n",
      "\n"
     ]
    }
   ],
   "source": [
    "max_depth = 20\n",
    "IS = []\n",
    "OS = []\n",
    "\n",
    "for i in range(2, max_depth+1):\n",
    "    # Split data into 70% train, 30% test\n",
    "#     X_train,X_test,y_train,y_test=train_test_split(X, y, test_size=0.3, random_state=999)\n",
    "    \n",
    "    # learn model\n",
    "    rf = RandomForestClassifier(n_estimators=30, n_jobs=-1,max_depth=i)\n",
    "    rf.fit(X_train,y_train)\n",
    "    \n",
    "    # appending to lists >> will be used in 3(b)\n",
    "    IS.append(rf.score(X_train,y_train)*100)\n",
    "    OS.append(rf.score(X_test,y_test)*100)\n",
    "    \n",
    "    print('max depth = ', i)\n",
    "    # in sample accuracy\n",
    "    print('In sample accuracy: {:.4}%'.format(rf.score(X_train,y_train)*100))\n",
    "    # out of sample accuracy\n",
    "    print('Out of sample accuracy: {:.4}%'.format(rf.score(X_test,y_test)*100),'\\n\\n')"
   ]
  },
  {
   "cell_type": "code",
   "execution_count": 631,
   "metadata": {
    "scrolled": true
   },
   "outputs": [
    {
     "data": {
      "text/plain": [
       "63.902439024390247"
      ]
     },
     "execution_count": 631,
     "metadata": {},
     "output_type": "execute_result"
    }
   ],
   "source": [
    "np.max(OS)"
   ]
  },
  {
   "cell_type": "code",
   "execution_count": 632,
   "metadata": {},
   "outputs": [
    {
     "data": {
      "text/html": [
       "<div>\n",
       "<style>\n",
       "    .dataframe thead tr:only-child th {\n",
       "        text-align: right;\n",
       "    }\n",
       "\n",
       "    .dataframe thead th {\n",
       "        text-align: left;\n",
       "    }\n",
       "\n",
       "    .dataframe tbody tr th {\n",
       "        vertical-align: top;\n",
       "    }\n",
       "</style>\n",
       "<table border=\"1\" class=\"dataframe\">\n",
       "  <thead>\n",
       "    <tr style=\"text-align: right;\">\n",
       "      <th></th>\n",
       "      <th>%Foreign</th>\n",
       "      <th>%Uninsured</th>\n",
       "      <th>%vehicle</th>\n",
       "      <th>%foodStamp</th>\n",
       "      <th>%poverty</th>\n",
       "      <th>urban</th>\n",
       "      <th>%TeenBirthRate</th>\n",
       "    </tr>\n",
       "  </thead>\n",
       "  <tbody>\n",
       "    <tr>\n",
       "      <th>0</th>\n",
       "      <td>0.114901</td>\n",
       "      <td>0.19955</td>\n",
       "      <td>0.11475</td>\n",
       "      <td>0.249985</td>\n",
       "      <td>0.181518</td>\n",
       "      <td>0.013323</td>\n",
       "      <td>0.125973</td>\n",
       "    </tr>\n",
       "  </tbody>\n",
       "</table>\n",
       "</div>"
      ],
      "text/plain": [
       "   %Foreign  %Uninsured  %vehicle  %foodStamp  %poverty     urban  \\\n",
       "0  0.114901     0.19955   0.11475    0.249985  0.181518  0.013323   \n",
       "\n",
       "   %TeenBirthRate  \n",
       "0        0.125973  "
      ]
     },
     "execution_count": 632,
     "metadata": {},
     "output_type": "execute_result"
    }
   ],
   "source": [
    "FeatureImportanceLBW = pd.DataFrame(rf.feature_importances_, index=df.iloc[:,:7].columns).T\n",
    "\n",
    "FeatureImportanceLBW"
   ]
  },
  {
   "cell_type": "markdown",
   "metadata": {
    "collapsed": true
   },
   "source": [
    "## 1.2 dependent: _Preterm Birth_"
   ]
  },
  {
   "cell_type": "code",
   "execution_count": 634,
   "metadata": {
    "scrolled": true
   },
   "outputs": [
    {
     "data": {
      "text/plain": [
       "count    1365.000000\n",
       "mean        8.502637\n",
       "std         5.398773\n",
       "min         0.000000\n",
       "25%         1.000000\n",
       "50%         9.600000\n",
       "75%        12.300000\n",
       "max        33.300000\n",
       "Name: %PrematureBirth, dtype: float64"
      ]
     },
     "execution_count": 634,
     "metadata": {},
     "output_type": "execute_result"
    }
   ],
   "source": [
    "df['%PrematureBirth'].describe()"
   ]
  },
  {
   "cell_type": "code",
   "execution_count": 635,
   "metadata": {},
   "outputs": [
    {
     "data": {
      "text/plain": [
       "1.0    373\n",
       "3.0    355\n",
       "4.0    326\n",
       "2.0    311\n",
       "Name: %PrematureBirth, dtype: int64"
      ]
     },
     "execution_count": 635,
     "metadata": {},
     "output_type": "execute_result"
    }
   ],
   "source": [
    "df.loc[df['%PrematureBirth'] <= 1] = 1\n",
    "df.loc[(df['%PrematureBirth'] > 1) & (df['%PrematureBirth'] <= 9.6), '%PrematureBirth'] = 2\n",
    "df.loc[(df['%PrematureBirth'] > 9.6) & (df['%PrematureBirth'] <= 12.3), '%PrematureBirth'] = 3\n",
    "df.loc[df['%PrematureBirth'] > 12.3, '%PrematureBirth'] = 4\n",
    "\n",
    "df['%PrematureBirth'].value_counts()"
   ]
  },
  {
   "cell_type": "code",
   "execution_count": 636,
   "metadata": {
    "collapsed": true
   },
   "outputs": [],
   "source": [
    "X = df.iloc[:,:7]\n",
    "Y = df['%PrematureBirth']\n",
    "\n",
    "X_train, X_test, y_train, y_test = train_test_split(X, Y, test_size=0.3,\n",
    "                                                   random_state=123)"
   ]
  },
  {
   "cell_type": "code",
   "execution_count": 637,
   "metadata": {},
   "outputs": [
    {
     "data": {
      "text/plain": [
       "RandomForestClassifier(bootstrap=True, class_weight=None, criterion='gini',\n",
       "            max_depth=None, max_features='auto', max_leaf_nodes=10,\n",
       "            min_impurity_split=1e-07, min_samples_leaf=1,\n",
       "            min_samples_split=2, min_weight_fraction_leaf=0.0,\n",
       "            n_estimators=30, n_jobs=-1, oob_score=False, random_state=None,\n",
       "            verbose=0, warm_start=False)"
      ]
     },
     "execution_count": 637,
     "metadata": {},
     "output_type": "execute_result"
    }
   ],
   "source": [
    "rf2 = RandomForestClassifier(n_estimators=30, n_jobs=-1,max_leaf_nodes=10)\n",
    "rf2"
   ]
  },
  {
   "cell_type": "code",
   "execution_count": 638,
   "metadata": {},
   "outputs": [
    {
     "data": {
      "text/plain": [
       "RandomForestClassifier(bootstrap=True, class_weight=None, criterion='gini',\n",
       "            max_depth=None, max_features='auto', max_leaf_nodes=10,\n",
       "            min_impurity_split=1e-07, min_samples_leaf=1,\n",
       "            min_samples_split=2, min_weight_fraction_leaf=0.0,\n",
       "            n_estimators=30, n_jobs=-1, oob_score=False, random_state=None,\n",
       "            verbose=0, warm_start=False)"
      ]
     },
     "execution_count": 638,
     "metadata": {},
     "output_type": "execute_result"
    }
   ],
   "source": [
    "rf2.fit(X_train, y_train)"
   ]
  },
  {
   "cell_type": "code",
   "execution_count": 642,
   "metadata": {},
   "outputs": [
    {
     "name": "stdout",
     "output_type": "stream",
     "text": [
      "max depth =  2\n",
      "In sample accuracy: 60.0%\n",
      "Out of sample accuracy: 60.73% \n",
      "\n",
      "\n",
      "max depth =  3\n",
      "In sample accuracy: 64.71%\n",
      "Out of sample accuracy: 58.54% \n",
      "\n",
      "\n",
      "max depth =  4\n",
      "In sample accuracy: 67.96%\n",
      "Out of sample accuracy: 59.27% \n",
      "\n",
      "\n",
      "max depth =  5\n",
      "In sample accuracy: 72.36%\n",
      "Out of sample accuracy: 57.32% \n",
      "\n",
      "\n",
      "max depth =  6\n",
      "In sample accuracy: 76.75%\n",
      "Out of sample accuracy: 58.78% \n",
      "\n",
      "\n",
      "max depth =  7\n",
      "In sample accuracy: 81.15%\n",
      "Out of sample accuracy: 58.54% \n",
      "\n",
      "\n",
      "max depth =  8\n",
      "In sample accuracy: 87.23%\n",
      "Out of sample accuracy: 60.49% \n",
      "\n",
      "\n",
      "max depth =  9\n",
      "In sample accuracy: 92.57%\n",
      "Out of sample accuracy: 57.32% \n",
      "\n",
      "\n",
      "max depth =  10\n",
      "In sample accuracy: 96.02%\n",
      "Out of sample accuracy: 56.83% \n",
      "\n",
      "\n",
      "max depth =  11\n",
      "In sample accuracy: 96.34%\n",
      "Out of sample accuracy: 58.78% \n",
      "\n",
      "\n",
      "max depth =  12\n",
      "In sample accuracy: 98.95%\n",
      "Out of sample accuracy: 57.32% \n",
      "\n",
      "\n",
      "max depth =  13\n",
      "In sample accuracy: 99.37%\n",
      "Out of sample accuracy: 58.05% \n",
      "\n",
      "\n",
      "max depth =  14\n",
      "In sample accuracy: 99.58%\n",
      "Out of sample accuracy: 58.05% \n",
      "\n",
      "\n",
      "max depth =  15\n",
      "In sample accuracy: 99.79%\n",
      "Out of sample accuracy: 59.02% \n",
      "\n",
      "\n",
      "max depth =  16\n",
      "In sample accuracy: 99.9%\n",
      "Out of sample accuracy: 58.05% \n",
      "\n",
      "\n",
      "max depth =  17\n",
      "In sample accuracy: 99.9%\n",
      "Out of sample accuracy: 58.05% \n",
      "\n",
      "\n",
      "max depth =  18\n",
      "In sample accuracy: 100.0%\n",
      "Out of sample accuracy: 57.32% \n",
      "\n",
      "\n",
      "max depth =  19\n",
      "In sample accuracy: 100.0%\n",
      "Out of sample accuracy: 58.78% \n",
      "\n",
      "\n",
      "max depth =  20\n",
      "In sample accuracy: 100.0%\n",
      "Out of sample accuracy: 57.56% \n",
      "\n",
      "\n"
     ]
    }
   ],
   "source": [
    "max_depth = 20\n",
    "IS = []\n",
    "OS = []\n",
    "\n",
    "for i in range(2, max_depth+1):\n",
    "    # Split data into 70% train, 30% test\n",
    "#     X_train,X_test,y_train,y_test=train_test_split(X, y, test_size=0.3, random_state=999)\n",
    "    \n",
    "    # learn model\n",
    "    rf2 = RandomForestClassifier(n_estimators=30, n_jobs=-1,max_depth=i)\n",
    "    rf2.fit(X_train,y_train)\n",
    "    \n",
    "    # appending to lists >> will be used in 3(b)\n",
    "    IS.append(rf2.score(X_train,y_train)*100)\n",
    "    OS.append(rf2.score(X_test,y_test)*100)\n",
    "    \n",
    "    print('max depth = ', i)\n",
    "    # in sample accuracy\n",
    "    print('In sample accuracy: {:.4}%'.format(rf2.score(X_train,y_train)*100))\n",
    "    # out of sample accuracy\n",
    "    print('Out of sample accuracy: {:.4}%'.format(rf2.score(X_test,y_test)*100),'\\n\\n')"
   ]
  },
  {
   "cell_type": "code",
   "execution_count": 643,
   "metadata": {},
   "outputs": [
    {
     "data": {
      "text/plain": [
       "60.731707317073166"
      ]
     },
     "execution_count": 643,
     "metadata": {},
     "output_type": "execute_result"
    }
   ],
   "source": [
    "np.max(OS)"
   ]
  },
  {
   "cell_type": "code",
   "execution_count": 645,
   "metadata": {},
   "outputs": [
    {
     "data": {
      "text/html": [
       "<div>\n",
       "<style>\n",
       "    .dataframe thead tr:only-child th {\n",
       "        text-align: right;\n",
       "    }\n",
       "\n",
       "    .dataframe thead th {\n",
       "        text-align: left;\n",
       "    }\n",
       "\n",
       "    .dataframe tbody tr th {\n",
       "        vertical-align: top;\n",
       "    }\n",
       "</style>\n",
       "<table border=\"1\" class=\"dataframe\">\n",
       "  <thead>\n",
       "    <tr style=\"text-align: right;\">\n",
       "      <th></th>\n",
       "      <th>%Foreign</th>\n",
       "      <th>%Uninsured</th>\n",
       "      <th>%vehicle</th>\n",
       "      <th>%foodStamp</th>\n",
       "      <th>%poverty</th>\n",
       "      <th>urban</th>\n",
       "      <th>%TeenBirthRate</th>\n",
       "    </tr>\n",
       "  </thead>\n",
       "  <tbody>\n",
       "    <tr>\n",
       "      <th>0</th>\n",
       "      <td>0.104882</td>\n",
       "      <td>0.184619</td>\n",
       "      <td>0.138065</td>\n",
       "      <td>0.250522</td>\n",
       "      <td>0.134889</td>\n",
       "      <td>0.015932</td>\n",
       "      <td>0.171092</td>\n",
       "    </tr>\n",
       "  </tbody>\n",
       "</table>\n",
       "</div>"
      ],
      "text/plain": [
       "   %Foreign  %Uninsured  %vehicle  %foodStamp  %poverty     urban  \\\n",
       "0  0.104882    0.184619  0.138065    0.250522  0.134889  0.015932   \n",
       "\n",
       "   %TeenBirthRate  \n",
       "0        0.171092  "
      ]
     },
     "execution_count": 645,
     "metadata": {},
     "output_type": "execute_result"
    }
   ],
   "source": [
    "FeatureImportancePMB = pd.DataFrame(rf2.feature_importances_, index=df.iloc[:,:7].columns).T\n",
    "\n",
    "FeatureImportancePMB"
   ]
  },
  {
   "cell_type": "code",
   "execution_count": null,
   "metadata": {
    "collapsed": true
   },
   "outputs": [],
   "source": []
  }
 ],
 "metadata": {
  "kernelspec": {
   "display_name": "Python 3",
   "language": "python",
   "name": "python3"
  },
  "language_info": {
   "codemirror_mode": {
    "name": "ipython",
    "version": 3
   },
   "file_extension": ".py",
   "mimetype": "text/x-python",
   "name": "python",
   "nbconvert_exporter": "python",
   "pygments_lexer": "ipython3",
   "version": "3.6.1"
  }
 },
 "nbformat": 4,
 "nbformat_minor": 2
}
