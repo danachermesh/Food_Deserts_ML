{
 "cells": [
  {
   "cell_type": "markdown",
   "metadata": {},
   "source": [
    "# Food Derserts and Birth Outcomes | ML for cities final project"
   ]
  },
  {
   "cell_type": "markdown",
   "metadata": {},
   "source": [
    "- controlling for zip code specific factors (controlling for everything else, does being in a food desert matter to the outcome of low birth weight?) \n",
    "- pick one definition of a food desert OR take some of the variables that make up whether it is a fd and put that in the predictor variables \n",
    "- number for feature (sklearn variable importance) \n",
    "- need to use a different ml technique to really get interpretability / variable importance \n",
    "- compare accuracy of different models\n",
    "- bayes net vs random forests \n",
    "- equal frequency bins (quartiles/quintiles) "
   ]
  },
  {
   "cell_type": "markdown",
   "metadata": {},
   "source": [
    "## Merging data before analysis"
   ]
  },
  {
   "cell_type": "code",
   "execution_count": 2,
   "metadata": {
    "collapsed": true
   },
   "outputs": [],
   "source": [
    "import pandas as pd\n",
    "import numpy as np\n",
    "import geopandas as gpd\n",
    "from sklearn.model_selection import train_test_split\n",
    "from sklearn.tree import DecisionTreeClassifier\n",
    "import matplotlib.pylab as plt\n",
    "from sklearn.model_selection import GridSearchCV\n",
    "from sklearn import linear_model\n",
    "from sklearn import tree\n",
    "from sklearn.ensemble import RandomForestClassifier\n",
    "from sklearn.ensemble import RandomForestRegressor"
   ]
  },
  {
   "cell_type": "markdown",
   "metadata": {},
   "source": [
    "## Read in the cleaned ACS data set"
   ]
  },
  {
   "cell_type": "code",
   "execution_count": 3,
   "metadata": {
    "scrolled": true
   },
   "outputs": [
    {
     "data": {
      "text/html": [
       "<div>\n",
       "<style>\n",
       "    .dataframe thead tr:only-child th {\n",
       "        text-align: right;\n",
       "    }\n",
       "\n",
       "    .dataframe thead th {\n",
       "        text-align: left;\n",
       "    }\n",
       "\n",
       "    .dataframe tbody tr th {\n",
       "        vertical-align: top;\n",
       "    }\n",
       "</style>\n",
       "<table border=\"1\" class=\"dataframe\">\n",
       "  <thead>\n",
       "    <tr style=\"text-align: right;\">\n",
       "      <th></th>\n",
       "      <th>zipcode</th>\n",
       "      <th>prctForeign</th>\n",
       "      <th>%Uninsured</th>\n",
       "      <th>%vehicle</th>\n",
       "      <th>%foodStamp</th>\n",
       "      <th>%poverty</th>\n",
       "      <th>urban/rural</th>\n",
       "    </tr>\n",
       "  </thead>\n",
       "  <tbody>\n",
       "    <tr>\n",
       "      <th>0</th>\n",
       "      <td>10001</td>\n",
       "      <td>16.230927</td>\n",
       "      <td>6.313218</td>\n",
       "      <td>77.510070</td>\n",
       "      <td>51.290074</td>\n",
       "      <td>17.5</td>\n",
       "      <td>1</td>\n",
       "    </tr>\n",
       "    <tr>\n",
       "      <th>1</th>\n",
       "      <td>10002</td>\n",
       "      <td>16.301731</td>\n",
       "      <td>7.873643</td>\n",
       "      <td>76.876850</td>\n",
       "      <td>42.674401</td>\n",
       "      <td>27.8</td>\n",
       "      <td>1</td>\n",
       "    </tr>\n",
       "    <tr>\n",
       "      <th>2</th>\n",
       "      <td>10003</td>\n",
       "      <td>12.463227</td>\n",
       "      <td>5.066324</td>\n",
       "      <td>77.210118</td>\n",
       "      <td>48.017334</td>\n",
       "      <td>9.9</td>\n",
       "      <td>1</td>\n",
       "    </tr>\n",
       "    <tr>\n",
       "      <th>3</th>\n",
       "      <td>10004</td>\n",
       "      <td>15.177398</td>\n",
       "      <td>6.241787</td>\n",
       "      <td>76.513672</td>\n",
       "      <td>52.299606</td>\n",
       "      <td>4.8</td>\n",
       "      <td>1</td>\n",
       "    </tr>\n",
       "    <tr>\n",
       "      <th>4</th>\n",
       "      <td>10005</td>\n",
       "      <td>16.211251</td>\n",
       "      <td>5.774971</td>\n",
       "      <td>85.056784</td>\n",
       "      <td>49.311137</td>\n",
       "      <td>12.1</td>\n",
       "      <td>1</td>\n",
       "    </tr>\n",
       "  </tbody>\n",
       "</table>\n",
       "</div>"
      ],
      "text/plain": [
       "  zipcode  prctForeign  %Uninsured   %vehicle  %foodStamp  %poverty  \\\n",
       "0   10001    16.230927    6.313218  77.510070   51.290074      17.5   \n",
       "1   10002    16.301731    7.873643  76.876850   42.674401      27.8   \n",
       "2   10003    12.463227    5.066324  77.210118   48.017334       9.9   \n",
       "3   10004    15.177398    6.241787  76.513672   52.299606       4.8   \n",
       "4   10005    16.211251    5.774971  85.056784   49.311137      12.1   \n",
       "\n",
       "   urban/rural  \n",
       "0            1  \n",
       "1            1  \n",
       "2            1  \n",
       "3            1  \n",
       "4            1  "
      ]
     },
     "execution_count": 3,
     "metadata": {},
     "output_type": "execute_result"
    }
   ],
   "source": [
    "dfACS = pd.read_csv('dataACS.csv')\n",
    "# dfACS = dfACS.set_index('zipcode')\n",
    "# dfACS = dfACS.drop('Unnamed: 0', axis=1)\n",
    "dfACS.zipcode = dfACS.zipcode.astype(str)\n",
    "dfACS.head()"
   ]
  },
  {
   "cell_type": "code",
   "execution_count": 4,
   "metadata": {},
   "outputs": [
    {
     "data": {
      "text/plain": [
       "(5212,)"
      ]
     },
     "execution_count": 4,
     "metadata": {},
     "output_type": "execute_result"
    }
   ],
   "source": [
    "dfACS.index.shape"
   ]
  },
  {
   "cell_type": "code",
   "execution_count": 5,
   "metadata": {},
   "outputs": [
    {
     "data": {
      "text/plain": [
       "zipcode         object\n",
       "prctForeign    float64\n",
       "%Uninsured     float64\n",
       "%vehicle       float64\n",
       "%foodStamp     float64\n",
       "%poverty       float64\n",
       "urban/rural      int64\n",
       "dtype: object"
      ]
     },
     "execution_count": 5,
     "metadata": {},
     "output_type": "execute_result"
    }
   ],
   "source": [
    "dfACS.dtypes"
   ]
  },
  {
   "cell_type": "markdown",
   "metadata": {},
   "source": [
    "## Read in Birth outcomes data set"
   ]
  },
  {
   "cell_type": "code",
   "execution_count": 6,
   "metadata": {},
   "outputs": [
    {
     "data": {
      "text/html": [
       "<div>\n",
       "<style>\n",
       "    .dataframe thead tr:only-child th {\n",
       "        text-align: right;\n",
       "    }\n",
       "\n",
       "    .dataframe thead th {\n",
       "        text-align: left;\n",
       "    }\n",
       "\n",
       "    .dataframe tbody tr th {\n",
       "        vertical-align: top;\n",
       "    }\n",
       "</style>\n",
       "<table border=\"1\" class=\"dataframe\">\n",
       "  <thead>\n",
       "    <tr style=\"text-align: right;\">\n",
       "      <th></th>\n",
       "      <th>TeenBirthRate</th>\n",
       "      <th>ZipCode</th>\n",
       "      <th>TotalBirths2012-2014</th>\n",
       "      <th>PrematureBirth</th>\n",
       "      <th>LowBirthWeight</th>\n",
       "    </tr>\n",
       "  </thead>\n",
       "  <tbody>\n",
       "    <tr>\n",
       "      <th>0</th>\n",
       "      <td>5.6</td>\n",
       "      <td>14008</td>\n",
       "      <td>34.0</td>\n",
       "      <td>2.9</td>\n",
       "      <td>0.0</td>\n",
       "    </tr>\n",
       "    <tr>\n",
       "      <th>1</th>\n",
       "      <td>13.6</td>\n",
       "      <td>14012</td>\n",
       "      <td>67.0</td>\n",
       "      <td>10.4</td>\n",
       "      <td>6.0</td>\n",
       "    </tr>\n",
       "    <tr>\n",
       "      <th>2</th>\n",
       "      <td>5.1</td>\n",
       "      <td>14028</td>\n",
       "      <td>47.0</td>\n",
       "      <td>8.5</td>\n",
       "      <td>10.6</td>\n",
       "    </tr>\n",
       "  </tbody>\n",
       "</table>\n",
       "</div>"
      ],
      "text/plain": [
       "   TeenBirthRate ZipCode  TotalBirths2012-2014  PrematureBirth  LowBirthWeight\n",
       "0            5.6   14008                  34.0             2.9             0.0\n",
       "1           13.6   14012                  67.0            10.4             6.0\n",
       "2            5.1   14028                  47.0             8.5            10.6"
      ]
     },
     "execution_count": 6,
     "metadata": {},
     "output_type": "execute_result"
    }
   ],
   "source": [
    "birth = pd.read_csv('birthNYS.csv')\n",
    "birth = birth.drop(['Unnamed: 0'], axis = 1)\n",
    "# birth = birth.set_index('ZipCode')\n",
    "birth.head(3)"
   ]
  },
  {
   "cell_type": "code",
   "execution_count": 7,
   "metadata": {},
   "outputs": [
    {
     "data": {
      "text/html": [
       "<div>\n",
       "<style>\n",
       "    .dataframe thead tr:only-child th {\n",
       "        text-align: right;\n",
       "    }\n",
       "\n",
       "    .dataframe thead th {\n",
       "        text-align: left;\n",
       "    }\n",
       "\n",
       "    .dataframe tbody tr th {\n",
       "        vertical-align: top;\n",
       "    }\n",
       "</style>\n",
       "<table border=\"1\" class=\"dataframe\">\n",
       "  <thead>\n",
       "    <tr style=\"text-align: right;\">\n",
       "      <th></th>\n",
       "      <th>zipcode</th>\n",
       "      <th>prctForeign</th>\n",
       "      <th>%Uninsured</th>\n",
       "      <th>%vehicle</th>\n",
       "      <th>%foodStamp</th>\n",
       "      <th>%poverty</th>\n",
       "      <th>urban/rural</th>\n",
       "      <th>TeenBirthRate</th>\n",
       "      <th>ZipCode</th>\n",
       "      <th>TotalBirths2012-2014</th>\n",
       "      <th>PrematureBirth</th>\n",
       "      <th>LowBirthWeight</th>\n",
       "    </tr>\n",
       "  </thead>\n",
       "  <tbody>\n",
       "    <tr>\n",
       "      <th>0</th>\n",
       "      <td>10001</td>\n",
       "      <td>16.230927</td>\n",
       "      <td>6.313218</td>\n",
       "      <td>77.510070</td>\n",
       "      <td>51.290074</td>\n",
       "      <td>17.5</td>\n",
       "      <td>1</td>\n",
       "      <td>5.7</td>\n",
       "      <td>10001</td>\n",
       "      <td>527.0</td>\n",
       "      <td>10.5</td>\n",
       "      <td>11.0</td>\n",
       "    </tr>\n",
       "    <tr>\n",
       "      <th>1</th>\n",
       "      <td>10002</td>\n",
       "      <td>16.301731</td>\n",
       "      <td>7.873643</td>\n",
       "      <td>76.876850</td>\n",
       "      <td>42.674401</td>\n",
       "      <td>27.8</td>\n",
       "      <td>1</td>\n",
       "      <td>17.7</td>\n",
       "      <td>10002</td>\n",
       "      <td>3044.0</td>\n",
       "      <td>8.9</td>\n",
       "      <td>6.6</td>\n",
       "    </tr>\n",
       "    <tr>\n",
       "      <th>2</th>\n",
       "      <td>10003</td>\n",
       "      <td>12.463227</td>\n",
       "      <td>5.066324</td>\n",
       "      <td>77.210118</td>\n",
       "      <td>48.017334</td>\n",
       "      <td>9.9</td>\n",
       "      <td>1</td>\n",
       "      <td>0.6</td>\n",
       "      <td>10003</td>\n",
       "      <td>1268.0</td>\n",
       "      <td>9.7</td>\n",
       "      <td>8.7</td>\n",
       "    </tr>\n",
       "    <tr>\n",
       "      <th>3</th>\n",
       "      <td>10004</td>\n",
       "      <td>15.177398</td>\n",
       "      <td>6.241787</td>\n",
       "      <td>76.513672</td>\n",
       "      <td>52.299606</td>\n",
       "      <td>4.8</td>\n",
       "      <td>1</td>\n",
       "      <td>0.0</td>\n",
       "      <td>10004</td>\n",
       "      <td>195.0</td>\n",
       "      <td>8.7</td>\n",
       "      <td>6.7</td>\n",
       "    </tr>\n",
       "    <tr>\n",
       "      <th>4</th>\n",
       "      <td>10005</td>\n",
       "      <td>16.211251</td>\n",
       "      <td>5.774971</td>\n",
       "      <td>85.056784</td>\n",
       "      <td>49.311137</td>\n",
       "      <td>12.1</td>\n",
       "      <td>1</td>\n",
       "      <td>0.0</td>\n",
       "      <td>10005</td>\n",
       "      <td>364.0</td>\n",
       "      <td>10.7</td>\n",
       "      <td>6.0</td>\n",
       "    </tr>\n",
       "  </tbody>\n",
       "</table>\n",
       "</div>"
      ],
      "text/plain": [
       "  zipcode  prctForeign  %Uninsured   %vehicle  %foodStamp  %poverty  \\\n",
       "0   10001    16.230927    6.313218  77.510070   51.290074      17.5   \n",
       "1   10002    16.301731    7.873643  76.876850   42.674401      27.8   \n",
       "2   10003    12.463227    5.066324  77.210118   48.017334       9.9   \n",
       "3   10004    15.177398    6.241787  76.513672   52.299606       4.8   \n",
       "4   10005    16.211251    5.774971  85.056784   49.311137      12.1   \n",
       "\n",
       "   urban/rural  TeenBirthRate ZipCode  TotalBirths2012-2014  PrematureBirth  \\\n",
       "0            1            5.7   10001                 527.0            10.5   \n",
       "1            1           17.7   10002                3044.0             8.9   \n",
       "2            1            0.6   10003                1268.0             9.7   \n",
       "3            1            0.0   10004                 195.0             8.7   \n",
       "4            1            0.0   10005                 364.0            10.7   \n",
       "\n",
       "   LowBirthWeight  \n",
       "0            11.0  \n",
       "1             6.6  \n",
       "2             8.7  \n",
       "3             6.7  \n",
       "4             6.0  "
      ]
     },
     "execution_count": 7,
     "metadata": {},
     "output_type": "execute_result"
    }
   ],
   "source": [
    "df = dfACS.merge(birth, left_on = 'zipcode', right_on = 'ZipCode')\n",
    "df.head()"
   ]
  },
  {
   "cell_type": "code",
   "execution_count": 8,
   "metadata": {},
   "outputs": [
    {
     "name": "stdout",
     "output_type": "stream",
     "text": [
      "(2059, 12)\n"
     ]
    },
    {
     "data": {
      "text/plain": [
       "Index(['zipcode', 'prctForeign', '%Uninsured', '%vehicle', '%foodStamp',\n",
       "       '%poverty', 'urban/rural', 'TeenBirthRate', 'ZipCode',\n",
       "       'TotalBirths2012-2014', 'PrematureBirth', 'LowBirthWeight'],\n",
       "      dtype='object')"
      ]
     },
     "execution_count": 8,
     "metadata": {},
     "output_type": "execute_result"
    }
   ],
   "source": [
    "print(df.shape)\n",
    "df.columns"
   ]
  },
  {
   "cell_type": "code",
   "execution_count": 9,
   "metadata": {},
   "outputs": [
    {
     "name": "stdout",
     "output_type": "stream",
     "text": [
      "(2059, 10)\n"
     ]
    },
    {
     "data": {
      "text/plain": [
       "Index(['zipcode', 'prctForeign', '%Uninsured', '%vehicle', '%foodStamp',\n",
       "       '%poverty', 'urban/rural', 'TeenBirthRate', 'PrematureBirth',\n",
       "       'LowBirthWeight'],\n",
       "      dtype='object')"
      ]
     },
     "execution_count": 9,
     "metadata": {},
     "output_type": "execute_result"
    }
   ],
   "source": [
    "df = df.drop(['ZipCode', 'TotalBirths2012-2014'], axis=1)\n",
    "\n",
    "print(df.shape)\n",
    "df.columns"
   ]
  },
  {
   "cell_type": "code",
   "execution_count": 10,
   "metadata": {},
   "outputs": [
    {
     "name": "stdout",
     "output_type": "stream",
     "text": [
      "2059\n",
      "1454\n"
     ]
    }
   ],
   "source": [
    "print(len(df.zipcode))\n",
    "print(len(df.zipcode.unique()))"
   ]
  },
  {
   "cell_type": "code",
   "execution_count": 11,
   "metadata": {},
   "outputs": [
    {
     "name": "stdout",
     "output_type": "stream",
     "text": [
      "(1454, 10)\n"
     ]
    }
   ],
   "source": [
    "df = df.drop_duplicates(subset=['zipcode'])\n",
    "print(df.shape)"
   ]
  },
  {
   "cell_type": "code",
   "execution_count": 12,
   "metadata": {},
   "outputs": [
    {
     "data": {
      "text/html": [
       "<div>\n",
       "<style>\n",
       "    .dataframe thead tr:only-child th {\n",
       "        text-align: right;\n",
       "    }\n",
       "\n",
       "    .dataframe thead th {\n",
       "        text-align: left;\n",
       "    }\n",
       "\n",
       "    .dataframe tbody tr th {\n",
       "        vertical-align: top;\n",
       "    }\n",
       "</style>\n",
       "<table border=\"1\" class=\"dataframe\">\n",
       "  <thead>\n",
       "    <tr style=\"text-align: right;\">\n",
       "      <th></th>\n",
       "      <th>zipcode</th>\n",
       "      <th>Foreign</th>\n",
       "      <th>Uninsured</th>\n",
       "      <th>vehicle</th>\n",
       "      <th>foodStamp</th>\n",
       "      <th>poverty</th>\n",
       "      <th>urban</th>\n",
       "      <th>TeenBirthRate</th>\n",
       "      <th>PrematureBirth</th>\n",
       "      <th>LowBirthWeight</th>\n",
       "    </tr>\n",
       "  </thead>\n",
       "  <tbody>\n",
       "    <tr>\n",
       "      <th>0</th>\n",
       "      <td>10001</td>\n",
       "      <td>16.230927</td>\n",
       "      <td>6.313218</td>\n",
       "      <td>77.510070</td>\n",
       "      <td>51.290074</td>\n",
       "      <td>17.5</td>\n",
       "      <td>1</td>\n",
       "      <td>5.7</td>\n",
       "      <td>10.5</td>\n",
       "      <td>11.0</td>\n",
       "    </tr>\n",
       "    <tr>\n",
       "      <th>1</th>\n",
       "      <td>10002</td>\n",
       "      <td>16.301731</td>\n",
       "      <td>7.873643</td>\n",
       "      <td>76.876850</td>\n",
       "      <td>42.674401</td>\n",
       "      <td>27.8</td>\n",
       "      <td>1</td>\n",
       "      <td>17.7</td>\n",
       "      <td>8.9</td>\n",
       "      <td>6.6</td>\n",
       "    </tr>\n",
       "    <tr>\n",
       "      <th>2</th>\n",
       "      <td>10003</td>\n",
       "      <td>12.463227</td>\n",
       "      <td>5.066324</td>\n",
       "      <td>77.210118</td>\n",
       "      <td>48.017334</td>\n",
       "      <td>9.9</td>\n",
       "      <td>1</td>\n",
       "      <td>0.6</td>\n",
       "      <td>9.7</td>\n",
       "      <td>8.7</td>\n",
       "    </tr>\n",
       "    <tr>\n",
       "      <th>3</th>\n",
       "      <td>10004</td>\n",
       "      <td>15.177398</td>\n",
       "      <td>6.241787</td>\n",
       "      <td>76.513672</td>\n",
       "      <td>52.299606</td>\n",
       "      <td>4.8</td>\n",
       "      <td>1</td>\n",
       "      <td>0.0</td>\n",
       "      <td>8.7</td>\n",
       "      <td>6.7</td>\n",
       "    </tr>\n",
       "    <tr>\n",
       "      <th>4</th>\n",
       "      <td>10005</td>\n",
       "      <td>16.211251</td>\n",
       "      <td>5.774971</td>\n",
       "      <td>85.056784</td>\n",
       "      <td>49.311137</td>\n",
       "      <td>12.1</td>\n",
       "      <td>1</td>\n",
       "      <td>0.0</td>\n",
       "      <td>10.7</td>\n",
       "      <td>6.0</td>\n",
       "    </tr>\n",
       "  </tbody>\n",
       "</table>\n",
       "</div>"
      ],
      "text/plain": [
       "  zipcode    Foreign  Uninsured    vehicle  foodStamp  poverty  urban  \\\n",
       "0   10001  16.230927   6.313218  77.510070  51.290074     17.5      1   \n",
       "1   10002  16.301731   7.873643  76.876850  42.674401     27.8      1   \n",
       "2   10003  12.463227   5.066324  77.210118  48.017334      9.9      1   \n",
       "3   10004  15.177398   6.241787  76.513672  52.299606      4.8      1   \n",
       "4   10005  16.211251   5.774971  85.056784  49.311137     12.1      1   \n",
       "\n",
       "   TeenBirthRate  PrematureBirth  LowBirthWeight  \n",
       "0            5.7            10.5            11.0  \n",
       "1           17.7             8.9             6.6  \n",
       "2            0.6             9.7             8.7  \n",
       "3            0.0             8.7             6.7  \n",
       "4            0.0            10.7             6.0  "
      ]
     },
     "execution_count": 12,
     "metadata": {},
     "output_type": "execute_result"
    }
   ],
   "source": [
    "# df = df.set_index('zipcode')\n",
    "df.columns = ['zipcode', 'Foreign', 'Uninsured', 'vehicle', 'foodStamp', 'poverty', 'urban', \n",
    "              'TeenBirthRate', 'PrematureBirth', 'LowBirthWeight']\n",
    "df.head()"
   ]
  },
  {
   "cell_type": "code",
   "execution_count": 13,
   "metadata": {
    "collapsed": true
   },
   "outputs": [],
   "source": [
    "df.to_csv('dataAll.csv')"
   ]
  },
  {
   "cell_type": "code",
   "execution_count": 26,
   "metadata": {
    "collapsed": true,
    "scrolled": true
   },
   "outputs": [],
   "source": [
    "df.to_json(path_or_buf = 'dataAll.json', orient='records')#[1:-1].replace('},{', '} {')\n",
    "# dataAll"
   ]
  },
  {
   "cell_type": "code",
   "execution_count": 51,
   "metadata": {},
   "outputs": [
    {
     "data": {
      "text/html": [
       "<div>\n",
       "<style>\n",
       "    .dataframe thead tr:only-child th {\n",
       "        text-align: right;\n",
       "    }\n",
       "\n",
       "    .dataframe thead th {\n",
       "        text-align: left;\n",
       "    }\n",
       "\n",
       "    .dataframe tbody tr th {\n",
       "        vertical-align: top;\n",
       "    }\n",
       "</style>\n",
       "<table border=\"1\" class=\"dataframe\">\n",
       "  <thead>\n",
       "    <tr style=\"text-align: right;\">\n",
       "      <th>zipcode</th>\n",
       "      <th>10001</th>\n",
       "      <th>10002</th>\n",
       "      <th>10003</th>\n",
       "      <th>10004</th>\n",
       "      <th>10005</th>\n",
       "      <th>10006</th>\n",
       "      <th>10007</th>\n",
       "      <th>10009</th>\n",
       "      <th>10010</th>\n",
       "      <th>10011</th>\n",
       "      <th>...</th>\n",
       "      <th>14891</th>\n",
       "      <th>14892</th>\n",
       "      <th>14894</th>\n",
       "      <th>14895</th>\n",
       "      <th>14897</th>\n",
       "      <th>14898</th>\n",
       "      <th>14901</th>\n",
       "      <th>14903</th>\n",
       "      <th>14904</th>\n",
       "      <th>14905</th>\n",
       "    </tr>\n",
       "  </thead>\n",
       "  <tbody>\n",
       "    <tr>\n",
       "      <th>PrematureBirth</th>\n",
       "      <td>10.5</td>\n",
       "      <td>8.9</td>\n",
       "      <td>9.7</td>\n",
       "      <td>8.7</td>\n",
       "      <td>10.7</td>\n",
       "      <td>10.6</td>\n",
       "      <td>10.4</td>\n",
       "      <td>9.8</td>\n",
       "      <td>9.8</td>\n",
       "      <td>10.6</td>\n",
       "      <td>...</td>\n",
       "      <td>15.2</td>\n",
       "      <td>7.7</td>\n",
       "      <td>17.4</td>\n",
       "      <td>9.0</td>\n",
       "      <td>17.1</td>\n",
       "      <td>5.9</td>\n",
       "      <td>12.2</td>\n",
       "      <td>10.6</td>\n",
       "      <td>9.4</td>\n",
       "      <td>9.4</td>\n",
       "    </tr>\n",
       "    <tr>\n",
       "      <th>LowBirthWeight</th>\n",
       "      <td>11.0</td>\n",
       "      <td>6.6</td>\n",
       "      <td>8.7</td>\n",
       "      <td>6.7</td>\n",
       "      <td>6.0</td>\n",
       "      <td>14.2</td>\n",
       "      <td>7.0</td>\n",
       "      <td>8.0</td>\n",
       "      <td>8.6</td>\n",
       "      <td>8.7</td>\n",
       "      <td>...</td>\n",
       "      <td>8.5</td>\n",
       "      <td>9.0</td>\n",
       "      <td>10.6</td>\n",
       "      <td>6.4</td>\n",
       "      <td>11.4</td>\n",
       "      <td>7.4</td>\n",
       "      <td>9.6</td>\n",
       "      <td>5.5</td>\n",
       "      <td>5.3</td>\n",
       "      <td>6.5</td>\n",
       "    </tr>\n",
       "  </tbody>\n",
       "</table>\n",
       "<p>2 rows × 1454 columns</p>\n",
       "</div>"
      ],
      "text/plain": [
       "zipcode         10001  10002  10003  10004  10005  10006  10007  10009  10010  \\\n",
       "PrematureBirth   10.5    8.9    9.7    8.7   10.7   10.6   10.4    9.8    9.8   \n",
       "LowBirthWeight   11.0    6.6    8.7    6.7    6.0   14.2    7.0    8.0    8.6   \n",
       "\n",
       "zipcode         10011  ...    14891  14892  14894  14895  14897  14898  14901  \\\n",
       "PrematureBirth   10.6  ...     15.2    7.7   17.4    9.0   17.1    5.9   12.2   \n",
       "LowBirthWeight    8.7  ...      8.5    9.0   10.6    6.4   11.4    7.4    9.6   \n",
       "\n",
       "zipcode         14903  14904  14905  \n",
       "PrematureBirth   10.6    9.4    9.4  \n",
       "LowBirthWeight    5.5    5.3    6.5  \n",
       "\n",
       "[2 rows x 1454 columns]"
      ]
     },
     "execution_count": 51,
     "metadata": {},
     "output_type": "execute_result"
    }
   ],
   "source": [
    "# dataBirth\n",
    "dataBirth = df[['zipcode', 'PrematureBirth', 'LowBirthWeight']]\n",
    "\n",
    "dataBirth = dataBirth.set_index('zipcode')\n",
    "dataBirth = dataBirth.T\n",
    "\n",
    "dataBirth.head()"
   ]
  },
  {
   "cell_type": "code",
   "execution_count": 56,
   "metadata": {
    "collapsed": true,
    "scrolled": false
   },
   "outputs": [],
   "source": [
    "dataBirth.to_json(path_or_buf = 'dataBirth1.json', orient='index')"
   ]
  },
  {
   "cell_type": "code",
   "execution_count": 62,
   "metadata": {},
   "outputs": [
    {
     "data": {
      "text/plain": [
       "PrematureBirth    10.316437\n",
       "LowBirthWeight     7.149931\n",
       "dtype: float64"
      ]
     },
     "execution_count": 62,
     "metadata": {},
     "output_type": "execute_result"
    }
   ],
   "source": [
    "dataBirth.T.mean()"
   ]
  },
  {
   "cell_type": "markdown",
   "metadata": {},
   "source": [
    "## Read in the Zipcodes shp"
   ]
  },
  {
   "cell_type": "code",
   "execution_count": 141,
   "metadata": {},
   "outputs": [
    {
     "data": {
      "text/plain": [
       "(33144, 6)"
      ]
     },
     "execution_count": 141,
     "metadata": {},
     "output_type": "execute_result"
    }
   ],
   "source": [
    "zipshp = gpd.read_file('cb_2017_us_zcta510_500k/cb_2017_us_zcta510_500k.shp')\n",
    "zipshp.shape"
   ]
  },
  {
   "cell_type": "code",
   "execution_count": 142,
   "metadata": {},
   "outputs": [
    {
     "data": {
      "text/plain": [
       "33144"
      ]
     },
     "execution_count": 142,
     "metadata": {},
     "output_type": "execute_result"
    }
   ],
   "source": [
    "len(zipshp.ZCTA5CE10.unique())"
   ]
  },
  {
   "cell_type": "code",
   "execution_count": 143,
   "metadata": {},
   "outputs": [
    {
     "data": {
      "text/html": [
       "<div>\n",
       "<style>\n",
       "    .dataframe thead tr:only-child th {\n",
       "        text-align: right;\n",
       "    }\n",
       "\n",
       "    .dataframe thead th {\n",
       "        text-align: left;\n",
       "    }\n",
       "\n",
       "    .dataframe tbody tr th {\n",
       "        vertical-align: top;\n",
       "    }\n",
       "</style>\n",
       "<table border=\"1\" class=\"dataframe\">\n",
       "  <thead>\n",
       "    <tr style=\"text-align: right;\">\n",
       "      <th></th>\n",
       "      <th>ZCTA5CE10</th>\n",
       "      <th>AFFGEOID10</th>\n",
       "      <th>GEOID10</th>\n",
       "      <th>ALAND10</th>\n",
       "      <th>AWATER10</th>\n",
       "      <th>geometry</th>\n",
       "    </tr>\n",
       "  </thead>\n",
       "  <tbody>\n",
       "    <tr>\n",
       "      <th>0</th>\n",
       "      <td>35442</td>\n",
       "      <td>8600000US35442</td>\n",
       "      <td>35442</td>\n",
       "      <td>610213891</td>\n",
       "      <td>10838694</td>\n",
       "      <td>(POLYGON ((-88.252618 32.92675, -88.249724 32....</td>\n",
       "    </tr>\n",
       "    <tr>\n",
       "      <th>1</th>\n",
       "      <td>85365</td>\n",
       "      <td>8600000US85365</td>\n",
       "      <td>85365</td>\n",
       "      <td>3545016067</td>\n",
       "      <td>9766486</td>\n",
       "      <td>(POLYGON ((-114.684663 32.687389, -114.676063 ...</td>\n",
       "    </tr>\n",
       "    <tr>\n",
       "      <th>2</th>\n",
       "      <td>71973</td>\n",
       "      <td>8600000US71973</td>\n",
       "      <td>71973</td>\n",
       "      <td>204670474</td>\n",
       "      <td>1264709</td>\n",
       "      <td>POLYGON ((-94.46643176650841 34.330735, -94.46...</td>\n",
       "    </tr>\n",
       "  </tbody>\n",
       "</table>\n",
       "</div>"
      ],
      "text/plain": [
       "  ZCTA5CE10      AFFGEOID10 GEOID10     ALAND10  AWATER10  \\\n",
       "0     35442  8600000US35442   35442   610213891  10838694   \n",
       "1     85365  8600000US85365   85365  3545016067   9766486   \n",
       "2     71973  8600000US71973   71973   204670474   1264709   \n",
       "\n",
       "                                            geometry  \n",
       "0  (POLYGON ((-88.252618 32.92675, -88.249724 32....  \n",
       "1  (POLYGON ((-114.684663 32.687389, -114.676063 ...  \n",
       "2  POLYGON ((-94.46643176650841 34.330735, -94.46...  "
      ]
     },
     "execution_count": 143,
     "metadata": {},
     "output_type": "execute_result"
    }
   ],
   "source": [
    "zipshp.head(3)"
   ]
  },
  {
   "cell_type": "markdown",
   "metadata": {},
   "source": [
    "## Merging data to shp"
   ]
  },
  {
   "cell_type": "code",
   "execution_count": 144,
   "metadata": {},
   "outputs": [
    {
     "name": "stdout",
     "output_type": "stream",
     "text": [
      "(1454, 10)\n",
      "Index(['geometry', 'Foreign', 'Uninsured', 'vehicle', 'foodStamp', 'poverty',\n",
      "       'urban', 'TeenBirthRate', 'PrematureBirth', 'LowBirthWeight'],\n",
      "      dtype='object')\n"
     ]
    },
    {
     "data": {
      "text/html": [
       "<div>\n",
       "<style>\n",
       "    .dataframe thead tr:only-child th {\n",
       "        text-align: right;\n",
       "    }\n",
       "\n",
       "    .dataframe thead th {\n",
       "        text-align: left;\n",
       "    }\n",
       "\n",
       "    .dataframe tbody tr th {\n",
       "        vertical-align: top;\n",
       "    }\n",
       "</style>\n",
       "<table border=\"1\" class=\"dataframe\">\n",
       "  <thead>\n",
       "    <tr style=\"text-align: right;\">\n",
       "      <th></th>\n",
       "      <th>geometry</th>\n",
       "      <th>Foreign</th>\n",
       "      <th>Uninsured</th>\n",
       "      <th>vehicle</th>\n",
       "      <th>foodStamp</th>\n",
       "      <th>poverty</th>\n",
       "      <th>urban</th>\n",
       "      <th>TeenBirthRate</th>\n",
       "      <th>PrematureBirth</th>\n",
       "      <th>LowBirthWeight</th>\n",
       "    </tr>\n",
       "    <tr>\n",
       "      <th>zipcode</th>\n",
       "      <th></th>\n",
       "      <th></th>\n",
       "      <th></th>\n",
       "      <th></th>\n",
       "      <th></th>\n",
       "      <th></th>\n",
       "      <th></th>\n",
       "      <th></th>\n",
       "      <th></th>\n",
       "      <th></th>\n",
       "    </tr>\n",
       "  </thead>\n",
       "  <tbody>\n",
       "    <tr>\n",
       "      <th>12832</th>\n",
       "      <td>POLYGON ((-73.414208 43.388595, -73.4105869999...</td>\n",
       "      <td>0.647249</td>\n",
       "      <td>8.223007</td>\n",
       "      <td>1.463581</td>\n",
       "      <td>40.232421</td>\n",
       "      <td>14.9</td>\n",
       "      <td>1</td>\n",
       "      <td>32.9</td>\n",
       "      <td>7.5</td>\n",
       "      <td>3.7</td>\n",
       "    </tr>\n",
       "    <tr>\n",
       "      <th>13421</th>\n",
       "      <td>POLYGON ((-75.709535 43.088988, -75.704686 43....</td>\n",
       "      <td>1.448316</td>\n",
       "      <td>5.763858</td>\n",
       "      <td>4.992306</td>\n",
       "      <td>39.111895</td>\n",
       "      <td>16.2</td>\n",
       "      <td>1</td>\n",
       "      <td>30.1</td>\n",
       "      <td>8.8</td>\n",
       "      <td>6.7</td>\n",
       "    </tr>\n",
       "    <tr>\n",
       "      <th>10456</th>\n",
       "      <td>POLYGON ((-73.91902899999999 40.83309, -73.914...</td>\n",
       "      <td>20.066442</td>\n",
       "      <td>11.600440</td>\n",
       "      <td>60.622253</td>\n",
       "      <td>32.111269</td>\n",
       "      <td>40.8</td>\n",
       "      <td>1</td>\n",
       "      <td>41.3</td>\n",
       "      <td>12.4</td>\n",
       "      <td>10.2</td>\n",
       "    </tr>\n",
       "  </tbody>\n",
       "</table>\n",
       "</div>"
      ],
      "text/plain": [
       "                                                  geometry    Foreign  \\\n",
       "zipcode                                                                 \n",
       "12832    POLYGON ((-73.414208 43.388595, -73.4105869999...   0.647249   \n",
       "13421    POLYGON ((-75.709535 43.088988, -75.704686 43....   1.448316   \n",
       "10456    POLYGON ((-73.91902899999999 40.83309, -73.914...  20.066442   \n",
       "\n",
       "         Uninsured    vehicle  foodStamp  poverty  urban  TeenBirthRate  \\\n",
       "zipcode                                                                   \n",
       "12832     8.223007   1.463581  40.232421     14.9      1           32.9   \n",
       "13421     5.763858   4.992306  39.111895     16.2      1           30.1   \n",
       "10456    11.600440  60.622253  32.111269     40.8      1           41.3   \n",
       "\n",
       "         PrematureBirth  LowBirthWeight  \n",
       "zipcode                                  \n",
       "12832               7.5             3.7  \n",
       "13421               8.8             6.7  \n",
       "10456              12.4            10.2  "
      ]
     },
     "execution_count": 144,
     "metadata": {},
     "output_type": "execute_result"
    }
   ],
   "source": [
    "dfshp = zipshp.merge(df, left_on = 'ZCTA5CE10', right_on = 'zipcode')\n",
    "dfshp = dfshp.set_index('zipcode')\n",
    "dfshp = dfshp.drop(['ZCTA5CE10', 'GEOID10', 'AFFGEOID10', 'ALAND10', 'AWATER10'], axis=1)\n",
    "print(dfshp.shape)\n",
    "print(dfshp.columns)\n",
    "\n",
    "dfshp.head(3)"
   ]
  },
  {
   "cell_type": "code",
   "execution_count": 17,
   "metadata": {},
   "outputs": [
    {
     "data": {
      "text/plain": [
       "1454"
      ]
     },
     "execution_count": 17,
     "metadata": {},
     "output_type": "execute_result"
    }
   ],
   "source": [
    "len(dfshp.index.unique())"
   ]
  },
  {
   "cell_type": "code",
   "execution_count": 18,
   "metadata": {
    "collapsed": true
   },
   "outputs": [],
   "source": [
    "dfshp.to_csv('dfshp.csv')"
   ]
  },
  {
   "cell_type": "markdown",
   "metadata": {},
   "source": [
    "----\n",
    "\n",
    "# Analysis\n",
    "\n",
    "# 1. Random Forest"
   ]
  },
  {
   "cell_type": "markdown",
   "metadata": {},
   "source": [
    "### Split into training and test data"
   ]
  },
  {
   "cell_type": "code",
   "execution_count": 58,
   "metadata": {},
   "outputs": [
    {
     "data": {
      "text/html": [
       "<div>\n",
       "<style>\n",
       "    .dataframe thead tr:only-child th {\n",
       "        text-align: right;\n",
       "    }\n",
       "\n",
       "    .dataframe thead th {\n",
       "        text-align: left;\n",
       "    }\n",
       "\n",
       "    .dataframe tbody tr th {\n",
       "        vertical-align: top;\n",
       "    }\n",
       "</style>\n",
       "<table border=\"1\" class=\"dataframe\">\n",
       "  <thead>\n",
       "    <tr style=\"text-align: right;\">\n",
       "      <th></th>\n",
       "      <th>%Foreign</th>\n",
       "      <th>%Uninsured</th>\n",
       "      <th>%vehicle</th>\n",
       "      <th>%foodStamp</th>\n",
       "      <th>%poverty</th>\n",
       "      <th>urban</th>\n",
       "      <th>%TeenBirthRate</th>\n",
       "      <th>%PrematureBirth</th>\n",
       "      <th>%LowBirthWeight</th>\n",
       "    </tr>\n",
       "    <tr>\n",
       "      <th>zipcode</th>\n",
       "      <th></th>\n",
       "      <th></th>\n",
       "      <th></th>\n",
       "      <th></th>\n",
       "      <th></th>\n",
       "      <th></th>\n",
       "      <th></th>\n",
       "      <th></th>\n",
       "      <th></th>\n",
       "    </tr>\n",
       "  </thead>\n",
       "  <tbody>\n",
       "    <tr>\n",
       "      <th>10001</th>\n",
       "      <td>16.230927</td>\n",
       "      <td>6.313218</td>\n",
       "      <td>77.510070</td>\n",
       "      <td>51.290074</td>\n",
       "      <td>17.5</td>\n",
       "      <td>1</td>\n",
       "      <td>5.7</td>\n",
       "      <td>10.5</td>\n",
       "      <td>11.0</td>\n",
       "    </tr>\n",
       "    <tr>\n",
       "      <th>10002</th>\n",
       "      <td>16.301731</td>\n",
       "      <td>7.873643</td>\n",
       "      <td>76.876850</td>\n",
       "      <td>42.674401</td>\n",
       "      <td>27.8</td>\n",
       "      <td>1</td>\n",
       "      <td>17.7</td>\n",
       "      <td>8.9</td>\n",
       "      <td>6.6</td>\n",
       "    </tr>\n",
       "    <tr>\n",
       "      <th>10003</th>\n",
       "      <td>12.463227</td>\n",
       "      <td>5.066324</td>\n",
       "      <td>77.210118</td>\n",
       "      <td>48.017334</td>\n",
       "      <td>9.9</td>\n",
       "      <td>1</td>\n",
       "      <td>0.6</td>\n",
       "      <td>9.7</td>\n",
       "      <td>8.7</td>\n",
       "    </tr>\n",
       "    <tr>\n",
       "      <th>10004</th>\n",
       "      <td>15.177398</td>\n",
       "      <td>6.241787</td>\n",
       "      <td>76.513672</td>\n",
       "      <td>52.299606</td>\n",
       "      <td>4.8</td>\n",
       "      <td>1</td>\n",
       "      <td>0.0</td>\n",
       "      <td>8.7</td>\n",
       "      <td>6.7</td>\n",
       "    </tr>\n",
       "    <tr>\n",
       "      <th>10005</th>\n",
       "      <td>16.211251</td>\n",
       "      <td>5.774971</td>\n",
       "      <td>85.056784</td>\n",
       "      <td>49.311137</td>\n",
       "      <td>12.1</td>\n",
       "      <td>1</td>\n",
       "      <td>0.0</td>\n",
       "      <td>10.7</td>\n",
       "      <td>6.0</td>\n",
       "    </tr>\n",
       "  </tbody>\n",
       "</table>\n",
       "</div>"
      ],
      "text/plain": [
       "          %Foreign  %Uninsured   %vehicle  %foodStamp  %poverty  urban  \\\n",
       "zipcode                                                                  \n",
       "10001    16.230927    6.313218  77.510070   51.290074      17.5      1   \n",
       "10002    16.301731    7.873643  76.876850   42.674401      27.8      1   \n",
       "10003    12.463227    5.066324  77.210118   48.017334       9.9      1   \n",
       "10004    15.177398    6.241787  76.513672   52.299606       4.8      1   \n",
       "10005    16.211251    5.774971  85.056784   49.311137      12.1      1   \n",
       "\n",
       "         %TeenBirthRate  %PrematureBirth  %LowBirthWeight  \n",
       "zipcode                                                    \n",
       "10001               5.7             10.5             11.0  \n",
       "10002              17.7              8.9              6.6  \n",
       "10003               0.6              9.7              8.7  \n",
       "10004               0.0              8.7              6.7  \n",
       "10005               0.0             10.7              6.0  "
      ]
     },
     "execution_count": 58,
     "metadata": {},
     "output_type": "execute_result"
    }
   ],
   "source": [
    "df = df.set_index('zipcode')\n",
    "df.head()"
   ]
  },
  {
   "cell_type": "code",
   "execution_count": 59,
   "metadata": {},
   "outputs": [
    {
     "data": {
      "text/plain": [
       "(1454, 9)"
      ]
     },
     "execution_count": 59,
     "metadata": {},
     "output_type": "execute_result"
    }
   ],
   "source": [
    "df.shape"
   ]
  },
  {
   "cell_type": "markdown",
   "metadata": {},
   "source": [
    "# 1.1 dependent: _Low birth weight_"
   ]
  },
  {
   "cell_type": "code",
   "execution_count": 60,
   "metadata": {
    "scrolled": false
   },
   "outputs": [
    {
     "data": {
      "text/plain": [
       "count    1454.000000\n",
       "mean        7.149931\n",
       "std         3.696764\n",
       "min         0.000000\n",
       "25%         5.100000\n",
       "50%         7.100000\n",
       "75%         8.900000\n",
       "max        50.000000\n",
       "Name: %LowBirthWeight, dtype: float64"
      ]
     },
     "execution_count": 60,
     "metadata": {},
     "output_type": "execute_result"
    }
   ],
   "source": [
    "df['%LowBirthWeight'].describe()"
   ]
  },
  {
   "cell_type": "code",
   "execution_count": 22,
   "metadata": {},
   "outputs": [
    {
     "data": {
      "text/plain": [
       "2.0    382\n",
       "1.0    370\n",
       "4.0    354\n",
       "3.0    348\n",
       "Name: %LowBirthWeight, dtype: int64"
      ]
     },
     "execution_count": 22,
     "metadata": {},
     "output_type": "execute_result"
    }
   ],
   "source": [
    "df.loc[df['%LowBirthWeight'] <= 5.1] = 1\n",
    "df.loc[(df['%LowBirthWeight'] > 5.1) & (df['%LowBirthWeight'] <= 7.1), '%LowBirthWeight'] = 2\n",
    "df.loc[(df['%LowBirthWeight'] > 7.1) & (df['%LowBirthWeight'] <= 8.9), '%LowBirthWeight'] = 3\n",
    "df.loc[df['%LowBirthWeight'] > 8.9, '%LowBirthWeight'] = 4\n",
    "\n",
    "df['%LowBirthWeight'].value_counts()"
   ]
  },
  {
   "cell_type": "code",
   "execution_count": 23,
   "metadata": {},
   "outputs": [
    {
     "data": {
      "text/plain": [
       "zipcode\n",
       "10001    4.0\n",
       "10532    1.0\n",
       "10998    4.0\n",
       "11434    4.0\n",
       "11778    2.0\n",
       "12090    4.0\n",
       "12456    2.0\n",
       "12760    2.0\n",
       "12981    1.0\n",
       "13214    3.0\n",
       "13607    4.0\n",
       "13830    1.0\n",
       "14201    4.0\n",
       "14559    2.0\n",
       "14818    4.0\n",
       "Name: %LowBirthWeight, dtype: float64"
      ]
     },
     "execution_count": 23,
     "metadata": {},
     "output_type": "execute_result"
    }
   ],
   "source": [
    "df['%LowBirthWeight'][::100]"
   ]
  },
  {
   "cell_type": "code",
   "execution_count": 24,
   "metadata": {},
   "outputs": [
    {
     "data": {
      "text/html": [
       "<div>\n",
       "<style>\n",
       "    .dataframe thead tr:only-child th {\n",
       "        text-align: right;\n",
       "    }\n",
       "\n",
       "    .dataframe thead th {\n",
       "        text-align: left;\n",
       "    }\n",
       "\n",
       "    .dataframe tbody tr th {\n",
       "        vertical-align: top;\n",
       "    }\n",
       "</style>\n",
       "<table border=\"1\" class=\"dataframe\">\n",
       "  <thead>\n",
       "    <tr style=\"text-align: right;\">\n",
       "      <th></th>\n",
       "      <th>%Foreign</th>\n",
       "      <th>%Uninsured</th>\n",
       "      <th>%vehicle</th>\n",
       "      <th>%foodStamp</th>\n",
       "      <th>%poverty</th>\n",
       "      <th>urban</th>\n",
       "      <th>%TeenBirthRate</th>\n",
       "      <th>%PrematureBirth</th>\n",
       "      <th>%LowBirthWeight</th>\n",
       "    </tr>\n",
       "    <tr>\n",
       "      <th>zipcode</th>\n",
       "      <th></th>\n",
       "      <th></th>\n",
       "      <th></th>\n",
       "      <th></th>\n",
       "      <th></th>\n",
       "      <th></th>\n",
       "      <th></th>\n",
       "      <th></th>\n",
       "      <th></th>\n",
       "    </tr>\n",
       "  </thead>\n",
       "  <tbody>\n",
       "    <tr>\n",
       "      <th>10001</th>\n",
       "      <td>16.230927</td>\n",
       "      <td>6.313218</td>\n",
       "      <td>77.510070</td>\n",
       "      <td>51.290074</td>\n",
       "      <td>17.5</td>\n",
       "      <td>1</td>\n",
       "      <td>5.7</td>\n",
       "      <td>10.5</td>\n",
       "      <td>4.0</td>\n",
       "    </tr>\n",
       "    <tr>\n",
       "      <th>10002</th>\n",
       "      <td>16.301731</td>\n",
       "      <td>7.873643</td>\n",
       "      <td>76.876850</td>\n",
       "      <td>42.674401</td>\n",
       "      <td>27.8</td>\n",
       "      <td>1</td>\n",
       "      <td>17.7</td>\n",
       "      <td>8.9</td>\n",
       "      <td>2.0</td>\n",
       "    </tr>\n",
       "    <tr>\n",
       "      <th>10003</th>\n",
       "      <td>12.463227</td>\n",
       "      <td>5.066324</td>\n",
       "      <td>77.210118</td>\n",
       "      <td>48.017334</td>\n",
       "      <td>9.9</td>\n",
       "      <td>1</td>\n",
       "      <td>0.6</td>\n",
       "      <td>9.7</td>\n",
       "      <td>3.0</td>\n",
       "    </tr>\n",
       "  </tbody>\n",
       "</table>\n",
       "</div>"
      ],
      "text/plain": [
       "          %Foreign  %Uninsured   %vehicle  %foodStamp  %poverty  urban  \\\n",
       "zipcode                                                                  \n",
       "10001    16.230927    6.313218  77.510070   51.290074      17.5      1   \n",
       "10002    16.301731    7.873643  76.876850   42.674401      27.8      1   \n",
       "10003    12.463227    5.066324  77.210118   48.017334       9.9      1   \n",
       "\n",
       "         %TeenBirthRate  %PrematureBirth  %LowBirthWeight  \n",
       "zipcode                                                    \n",
       "10001               5.7             10.5              4.0  \n",
       "10002              17.7              8.9              2.0  \n",
       "10003               0.6              9.7              3.0  "
      ]
     },
     "execution_count": 24,
     "metadata": {},
     "output_type": "execute_result"
    }
   ],
   "source": [
    "df.dropna(0, inplace=True)\n",
    "df.head(3)"
   ]
  },
  {
   "cell_type": "code",
   "execution_count": 25,
   "metadata": {
    "scrolled": true
   },
   "outputs": [
    {
     "data": {
      "text/plain": [
       "%Foreign           float64\n",
       "%Uninsured         float64\n",
       "%vehicle           float64\n",
       "%foodStamp         float64\n",
       "%poverty           float64\n",
       "urban                int64\n",
       "%TeenBirthRate     float64\n",
       "%PrematureBirth    float64\n",
       "%LowBirthWeight    float64\n",
       "dtype: object"
      ]
     },
     "execution_count": 25,
     "metadata": {},
     "output_type": "execute_result"
    }
   ],
   "source": [
    "df.dtypes"
   ]
  },
  {
   "cell_type": "code",
   "execution_count": 40,
   "metadata": {
    "collapsed": true
   },
   "outputs": [],
   "source": [
    "X = df.iloc[:,:7]\n",
    "y = df['%LowBirthWeight']\n",
    "\n",
    "# X = X.astype(int)\n",
    "# Y = Y.astype(int)"
   ]
  },
  {
   "cell_type": "code",
   "execution_count": 41,
   "metadata": {
    "collapsed": true
   },
   "outputs": [],
   "source": [
    "X_train, X_test, y_train, y_test = train_test_split(X, y, test_size=0.3,\n",
    "                                                   random_state=123)"
   ]
  },
  {
   "cell_type": "code",
   "execution_count": 42,
   "metadata": {},
   "outputs": [
    {
     "name": "stdout",
     "output_type": "stream",
     "text": [
      "Best parameter value: {'max_depth': 8}\n",
      "Accuracy =  0.629268292683\n"
     ]
    }
   ],
   "source": [
    "from sklearn.ensemble import RandomForestClassifier\n",
    "from sklearn.model_selection import GridSearchCV\n",
    "\n",
    "param_grid ={'max_depth':range(1,11)}\n",
    "rf = RandomForestClassifier(n_estimators=100)\n",
    "gr=GridSearchCV(rf,param_grid=param_grid)\n",
    "rs=gr.fit(X_train,y_train)\n",
    "print('Best parameter value:',rs.best_params_)\n",
    "y_predict = rs.predict(X_test)\n",
    "print('Accuracy = ',((y_predict == y_test).value_counts(normalize=True)[True]))"
   ]
  },
  {
   "cell_type": "code",
   "execution_count": 43,
   "metadata": {},
   "outputs": [
    {
     "data": {
      "text/html": [
       "<div>\n",
       "<style>\n",
       "    .dataframe thead tr:only-child th {\n",
       "        text-align: right;\n",
       "    }\n",
       "\n",
       "    .dataframe thead th {\n",
       "        text-align: left;\n",
       "    }\n",
       "\n",
       "    .dataframe tbody tr th {\n",
       "        vertical-align: top;\n",
       "    }\n",
       "</style>\n",
       "<table border=\"1\" class=\"dataframe\">\n",
       "  <thead>\n",
       "    <tr style=\"text-align: right;\">\n",
       "      <th></th>\n",
       "      <th>variables</th>\n",
       "      <th>importance</th>\n",
       "    </tr>\n",
       "  </thead>\n",
       "  <tbody>\n",
       "    <tr>\n",
       "      <th>1</th>\n",
       "      <td>%Uninsured</td>\n",
       "      <td>0.255918</td>\n",
       "    </tr>\n",
       "    <tr>\n",
       "      <th>3</th>\n",
       "      <td>%foodStamp</td>\n",
       "      <td>0.246174</td>\n",
       "    </tr>\n",
       "    <tr>\n",
       "      <th>4</th>\n",
       "      <td>%poverty</td>\n",
       "      <td>0.236059</td>\n",
       "    </tr>\n",
       "    <tr>\n",
       "      <th>6</th>\n",
       "      <td>%TeenBirthRate</td>\n",
       "      <td>0.105216</td>\n",
       "    </tr>\n",
       "    <tr>\n",
       "      <th>0</th>\n",
       "      <td>%Foreign</td>\n",
       "      <td>0.076929</td>\n",
       "    </tr>\n",
       "    <tr>\n",
       "      <th>2</th>\n",
       "      <td>%vehicle</td>\n",
       "      <td>0.0706497</td>\n",
       "    </tr>\n",
       "    <tr>\n",
       "      <th>5</th>\n",
       "      <td>urban</td>\n",
       "      <td>0.00905481</td>\n",
       "    </tr>\n",
       "  </tbody>\n",
       "</table>\n",
       "</div>"
      ],
      "text/plain": [
       "        variables  importance\n",
       "1      %Uninsured    0.255918\n",
       "3      %foodStamp    0.246174\n",
       "4        %poverty    0.236059\n",
       "6  %TeenBirthRate    0.105216\n",
       "0        %Foreign    0.076929\n",
       "2        %vehicle   0.0706497\n",
       "5           urban  0.00905481"
      ]
     },
     "execution_count": 43,
     "metadata": {},
     "output_type": "execute_result"
    }
   ],
   "source": [
    "rf1 = RandomForestClassifier(max_depth=8)\n",
    "rf1 = rf1.fit(X_train, y_train)\n",
    "Feature_importance=pd.DataFrame([list(X_train.columns),list(rf1.feature_importances_)]).T\n",
    "Feature_importance.columns=[\"variables\",\"importance\"]\n",
    "\n",
    "# list the top 5 most important features in order\n",
    "Feature_importance.sort_values(by=\"importance\",ascending=False)"
   ]
  },
  {
   "cell_type": "markdown",
   "metadata": {
    "collapsed": true
   },
   "source": [
    "----\n",
    "## 1.2 dependent: _Preterm Birth_"
   ]
  },
  {
   "cell_type": "code",
   "execution_count": 61,
   "metadata": {
    "scrolled": true
   },
   "outputs": [
    {
     "data": {
      "text/plain": [
       "count    1454.000000\n",
       "mean       10.316437\n",
       "std         4.492350\n",
       "min         0.000000\n",
       "25%         8.000000\n",
       "50%        10.200000\n",
       "75%        12.700000\n",
       "max        50.000000\n",
       "Name: %PrematureBirth, dtype: float64"
      ]
     },
     "execution_count": 61,
     "metadata": {},
     "output_type": "execute_result"
    }
   ],
   "source": [
    "df['%PrematureBirth'].describe()"
   ]
  },
  {
   "cell_type": "code",
   "execution_count": 62,
   "metadata": {},
   "outputs": [
    {
     "data": {
      "text/plain": [
       "2.0    369\n",
       "1.0    368\n",
       "3.0    362\n",
       "4.0    355\n",
       "Name: %PrematureBirth, dtype: int64"
      ]
     },
     "execution_count": 62,
     "metadata": {},
     "output_type": "execute_result"
    }
   ],
   "source": [
    "df.loc[df['%PrematureBirth'] <= 8] = 1\n",
    "df.loc[(df['%PrematureBirth'] > 8) & (df['%PrematureBirth'] <= 10.2), '%PrematureBirth'] = 2\n",
    "df.loc[(df['%PrematureBirth'] > 10.2) & (df['%PrematureBirth'] <= 12.7), '%PrematureBirth'] = 3\n",
    "df.loc[df['%PrematureBirth'] > 12.7, '%PrematureBirth'] = 4\n",
    "\n",
    "df['%PrematureBirth'].value_counts()"
   ]
  },
  {
   "cell_type": "code",
   "execution_count": 63,
   "metadata": {
    "collapsed": true
   },
   "outputs": [],
   "source": [
    "X = df.iloc[:,:7]\n",
    "Y = df['%PrematureBirth']\n",
    "\n",
    "X_train, X_test, y_train, y_test = train_test_split(X, Y, test_size=0.3,\n",
    "                                                   random_state=123)"
   ]
  },
  {
   "cell_type": "code",
   "execution_count": 69,
   "metadata": {
    "collapsed": true
   },
   "outputs": [],
   "source": [
    "X_train = (X_train).fillna(X_train.mean())\n",
    "X_test = (X_test).fillna(X_test.mean())"
   ]
  },
  {
   "cell_type": "code",
   "execution_count": 70,
   "metadata": {
    "scrolled": true
   },
   "outputs": [
    {
     "name": "stdout",
     "output_type": "stream",
     "text": [
      "Best parameter value: {'max_depth': 9}\n",
      "Accuracy =  0.604118993135\n"
     ]
    }
   ],
   "source": [
    "from sklearn.ensemble import RandomForestClassifier\n",
    "from sklearn.model_selection import GridSearchCV\n",
    "\n",
    "param_grid ={'max_depth':range(1,11)}\n",
    "rf = RandomForestClassifier(n_estimators=100)\n",
    "gr=GridSearchCV(rf,param_grid=param_grid)\n",
    "rs=gr.fit(X_train,y_train)\n",
    "print('Best parameter value:',rs.best_params_)\n",
    "y_predict = rs.predict(X_test)\n",
    "print('Accuracy = ',((y_predict == y_test).value_counts(normalize=True)[True]))"
   ]
  },
  {
   "cell_type": "code",
   "execution_count": 71,
   "metadata": {},
   "outputs": [
    {
     "data": {
      "text/html": [
       "<div>\n",
       "<style>\n",
       "    .dataframe thead tr:only-child th {\n",
       "        text-align: right;\n",
       "    }\n",
       "\n",
       "    .dataframe thead th {\n",
       "        text-align: left;\n",
       "    }\n",
       "\n",
       "    .dataframe tbody tr th {\n",
       "        vertical-align: top;\n",
       "    }\n",
       "</style>\n",
       "<table border=\"1\" class=\"dataframe\">\n",
       "  <thead>\n",
       "    <tr style=\"text-align: right;\">\n",
       "      <th></th>\n",
       "      <th>variables</th>\n",
       "      <th>importance</th>\n",
       "    </tr>\n",
       "  </thead>\n",
       "  <tbody>\n",
       "    <tr>\n",
       "      <th>1</th>\n",
       "      <td>%Uninsured</td>\n",
       "      <td>0.240602</td>\n",
       "    </tr>\n",
       "    <tr>\n",
       "      <th>3</th>\n",
       "      <td>%foodStamp</td>\n",
       "      <td>0.239732</td>\n",
       "    </tr>\n",
       "    <tr>\n",
       "      <th>4</th>\n",
       "      <td>%poverty</td>\n",
       "      <td>0.237192</td>\n",
       "    </tr>\n",
       "    <tr>\n",
       "      <th>6</th>\n",
       "      <td>%TeenBirthRate</td>\n",
       "      <td>0.114532</td>\n",
       "    </tr>\n",
       "    <tr>\n",
       "      <th>2</th>\n",
       "      <td>%vehicle</td>\n",
       "      <td>0.0733406</td>\n",
       "    </tr>\n",
       "    <tr>\n",
       "      <th>0</th>\n",
       "      <td>%Foreign</td>\n",
       "      <td>0.058583</td>\n",
       "    </tr>\n",
       "    <tr>\n",
       "      <th>5</th>\n",
       "      <td>urban</td>\n",
       "      <td>0.0360183</td>\n",
       "    </tr>\n",
       "  </tbody>\n",
       "</table>\n",
       "</div>"
      ],
      "text/plain": [
       "        variables importance\n",
       "1      %Uninsured   0.240602\n",
       "3      %foodStamp   0.239732\n",
       "4        %poverty   0.237192\n",
       "6  %TeenBirthRate   0.114532\n",
       "2        %vehicle  0.0733406\n",
       "0        %Foreign   0.058583\n",
       "5           urban  0.0360183"
      ]
     },
     "execution_count": 71,
     "metadata": {},
     "output_type": "execute_result"
    }
   ],
   "source": [
    "rf2 = RandomForestClassifier(max_depth=9)\n",
    "rf2 = rf1.fit(X_train, y_train)\n",
    "Feature_importance=pd.DataFrame([list(X_train.columns),list(rf2.feature_importances_)]).T\n",
    "Feature_importance.columns=[\"variables\",\"importance\"]\n",
    "\n",
    "# list the top 5 most important features in order\n",
    "Feature_importance.sort_values(by=\"importance\",ascending=False)"
   ]
  },
  {
   "cell_type": "code",
   "execution_count": null,
   "metadata": {
    "collapsed": true
   },
   "outputs": [],
   "source": []
  }
 ],
 "metadata": {
  "kernelspec": {
   "display_name": "Python 3",
   "language": "python",
   "name": "python3"
  },
  "language_info": {
   "codemirror_mode": {
    "name": "ipython",
    "version": 3
   },
   "file_extension": ".py",
   "mimetype": "text/x-python",
   "name": "python",
   "nbconvert_exporter": "python",
   "pygments_lexer": "ipython3",
   "version": "3.6.1"
  }
 },
 "nbformat": 4,
 "nbformat_minor": 2
}
