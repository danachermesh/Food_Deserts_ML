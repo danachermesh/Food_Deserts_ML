{
 "cells": [
  {
   "cell_type": "markdown",
   "metadata": {},
   "source": [
    "# Notebook for cleaning census data"
   ]
  },
  {
   "cell_type": "code",
   "execution_count": 36,
   "metadata": {},
   "outputs": [
    {
     "name": "stdout",
     "output_type": "stream",
     "text": [
      "Populating the interactive namespace from numpy and matplotlib\n"
     ]
    },
    {
     "name": "stderr",
     "output_type": "stream",
     "text": [
      "/Applications/anaconda/lib/python3.6/site-packages/IPython/core/magics/pylab.py:161: UserWarning: pylab import has clobbered these variables: ['plt']\n",
      "`%matplotlib` prevents importing * from pylab and numpy\n",
      "  \"\\n`%matplotlib` prevents importing * from pylab and numpy\"\n"
     ]
    }
   ],
   "source": [
    "import pandas as pd\n",
    "import os \n",
    "import sys\n",
    "import requests\n",
    "import json\n",
    "import io\n",
    "import matplotlib as plt\n",
    "%pylab inline\n",
    "\n",
    "# User defined function that reads in API key. See folder for sample file. \n",
    "from censusAPI import myAPI"
   ]
  },
  {
   "cell_type": "code",
   "execution_count": 37,
   "metadata": {
    "collapsed": true
   },
   "outputs": [],
   "source": [
    "url = \"https://api.census.gov/data/2016/acs/acs5/variables.json\"\n",
    "resp = requests.request('GET', url)\n",
    "aff1y = json.loads(resp.text)"
   ]
  },
  {
   "cell_type": "code",
   "execution_count": 38,
   "metadata": {
    "collapsed": true
   },
   "outputs": [],
   "source": [
    "affkeys = np.array(list(aff1y['variables'].keys()))"
   ]
  },
  {
   "cell_type": "markdown",
   "metadata": {},
   "source": [
    "## Total Population\n",
    "\n",
    "#### B01001_001E --> Estimate Total Population"
   ]
  },
  {
   "cell_type": "code",
   "execution_count": 81,
   "metadata": {},
   "outputs": [],
   "source": [
    "pop_var = 'B05001_001E'\n",
    "word = \"Pop\"\n",
    "url = \"https://api.census.gov/data/2016/acs/acs5?get=NAME,\" + pop_var +\\\n",
    "\"&for=zip%20code%20tabulation%20area:*&key=\" + myAPI\n",
    "\n",
    "resp = requests.request('GET', url)\n",
    "aff1y = json.loads(resp.text)\n",
    "resp = requests.request('GET', url).content\n",
    "\n",
    "resp = requests.request('GET', url).content\n",
    "pop = pd.read_csv(io.StringIO(resp.decode('utf-8').replace('[','').replace(']','')),\n",
    "                    dtype={'zip code tabulation area': 'str'})"
   ]
  },
  {
   "cell_type": "code",
   "execution_count": 82,
   "metadata": {
    "scrolled": true
   },
   "outputs": [
    {
     "data": {
      "text/html": [
       "<div>\n",
       "<style>\n",
       "    .dataframe thead tr:only-child th {\n",
       "        text-align: right;\n",
       "    }\n",
       "\n",
       "    .dataframe thead th {\n",
       "        text-align: left;\n",
       "    }\n",
       "\n",
       "    .dataframe tbody tr th {\n",
       "        vertical-align: top;\n",
       "    }\n",
       "</style>\n",
       "<table border=\"1\" class=\"dataframe\">\n",
       "  <thead>\n",
       "    <tr style=\"text-align: right;\">\n",
       "      <th></th>\n",
       "      <th>NAME</th>\n",
       "      <th>B05001_001E</th>\n",
       "      <th>zip code tabulation area</th>\n",
       "      <th>Unnamed: 3</th>\n",
       "    </tr>\n",
       "  </thead>\n",
       "  <tbody>\n",
       "    <tr>\n",
       "      <th>0</th>\n",
       "      <td>ZCTA5 01001</td>\n",
       "      <td>17423</td>\n",
       "      <td>01001</td>\n",
       "      <td>NaN</td>\n",
       "    </tr>\n",
       "    <tr>\n",
       "      <th>1</th>\n",
       "      <td>ZCTA5 01002</td>\n",
       "      <td>29970</td>\n",
       "      <td>01002</td>\n",
       "      <td>NaN</td>\n",
       "    </tr>\n",
       "    <tr>\n",
       "      <th>2</th>\n",
       "      <td>ZCTA5 01003</td>\n",
       "      <td>11296</td>\n",
       "      <td>01003</td>\n",
       "      <td>NaN</td>\n",
       "    </tr>\n",
       "    <tr>\n",
       "      <th>3</th>\n",
       "      <td>ZCTA5 01005</td>\n",
       "      <td>5228</td>\n",
       "      <td>01005</td>\n",
       "      <td>NaN</td>\n",
       "    </tr>\n",
       "    <tr>\n",
       "      <th>4</th>\n",
       "      <td>ZCTA5 01007</td>\n",
       "      <td>14888</td>\n",
       "      <td>01007</td>\n",
       "      <td>NaN</td>\n",
       "    </tr>\n",
       "  </tbody>\n",
       "</table>\n",
       "</div>"
      ],
      "text/plain": [
       "          NAME B05001_001E zip code tabulation area  Unnamed: 3\n",
       "0  ZCTA5 01001       17423                    01001         NaN\n",
       "1  ZCTA5 01002       29970                    01002         NaN\n",
       "2  ZCTA5 01003       11296                    01003         NaN\n",
       "3  ZCTA5 01005        5228                    01005         NaN\n",
       "4  ZCTA5 01007       14888                    01007         NaN"
      ]
     },
     "execution_count": 82,
     "metadata": {},
     "output_type": "execute_result"
    }
   ],
   "source": [
    "pop.head()"
   ]
  },
  {
   "cell_type": "code",
   "execution_count": 83,
   "metadata": {},
   "outputs": [
    {
     "data": {
      "text/plain": [
       "(33120,)"
      ]
     },
     "execution_count": 83,
     "metadata": {},
     "output_type": "execute_result"
    }
   ],
   "source": [
    "(pop['zip code tabulation area']).shape"
   ]
  },
  {
   "cell_type": "code",
   "execution_count": 84,
   "metadata": {},
   "outputs": [
    {
     "data": {
      "text/html": [
       "<div>\n",
       "<style>\n",
       "    .dataframe thead tr:only-child th {\n",
       "        text-align: right;\n",
       "    }\n",
       "\n",
       "    .dataframe thead th {\n",
       "        text-align: left;\n",
       "    }\n",
       "\n",
       "    .dataframe tbody tr th {\n",
       "        vertical-align: top;\n",
       "    }\n",
       "</style>\n",
       "<table border=\"1\" class=\"dataframe\">\n",
       "  <thead>\n",
       "    <tr style=\"text-align: right;\">\n",
       "      <th></th>\n",
       "      <th>NAME</th>\n",
       "      <th>B05001_001E</th>\n",
       "      <th>zip code tabulation area</th>\n",
       "      <th>Unnamed: 3</th>\n",
       "    </tr>\n",
       "  </thead>\n",
       "  <tbody>\n",
       "    <tr>\n",
       "      <th>2427</th>\n",
       "      <td>ZCTA5 10001</td>\n",
       "      <td>23332</td>\n",
       "      <td>10001</td>\n",
       "      <td>NaN</td>\n",
       "    </tr>\n",
       "  </tbody>\n",
       "</table>\n",
       "</div>"
      ],
      "text/plain": [
       "             NAME B05001_001E zip code tabulation area  Unnamed: 3\n",
       "2427  ZCTA5 10001       23332                    10001         NaN"
      ]
     },
     "execution_count": 84,
     "metadata": {},
     "output_type": "execute_result"
    }
   ],
   "source": [
    "pop[pop['zip code tabulation area'] == '10001']"
   ]
  },
  {
   "cell_type": "code",
   "execution_count": 85,
   "metadata": {},
   "outputs": [
    {
     "data": {
      "text/html": [
       "<div>\n",
       "<style>\n",
       "    .dataframe thead tr:only-child th {\n",
       "        text-align: right;\n",
       "    }\n",
       "\n",
       "    .dataframe thead th {\n",
       "        text-align: left;\n",
       "    }\n",
       "\n",
       "    .dataframe tbody tr th {\n",
       "        vertical-align: top;\n",
       "    }\n",
       "</style>\n",
       "<table border=\"1\" class=\"dataframe\">\n",
       "  <thead>\n",
       "    <tr style=\"text-align: right;\">\n",
       "      <th></th>\n",
       "      <th>Name</th>\n",
       "      <th>total</th>\n",
       "      <th>zipcode</th>\n",
       "    </tr>\n",
       "  </thead>\n",
       "  <tbody>\n",
       "    <tr>\n",
       "      <th>0</th>\n",
       "      <td>ZCTA5 01001</td>\n",
       "      <td>17423</td>\n",
       "      <td>01001</td>\n",
       "    </tr>\n",
       "    <tr>\n",
       "      <th>1</th>\n",
       "      <td>ZCTA5 01002</td>\n",
       "      <td>29970</td>\n",
       "      <td>01002</td>\n",
       "    </tr>\n",
       "    <tr>\n",
       "      <th>2</th>\n",
       "      <td>ZCTA5 01003</td>\n",
       "      <td>11296</td>\n",
       "      <td>01003</td>\n",
       "    </tr>\n",
       "    <tr>\n",
       "      <th>3</th>\n",
       "      <td>ZCTA5 01005</td>\n",
       "      <td>5228</td>\n",
       "      <td>01005</td>\n",
       "    </tr>\n",
       "    <tr>\n",
       "      <th>4</th>\n",
       "      <td>ZCTA5 01007</td>\n",
       "      <td>14888</td>\n",
       "      <td>01007</td>\n",
       "    </tr>\n",
       "  </tbody>\n",
       "</table>\n",
       "</div>"
      ],
      "text/plain": [
       "          Name  total zipcode\n",
       "0  ZCTA5 01001  17423   01001\n",
       "1  ZCTA5 01002  29970   01002\n",
       "2  ZCTA5 01003  11296   01003\n",
       "3  ZCTA5 01005   5228   01005\n",
       "4  ZCTA5 01007  14888   01007"
      ]
     },
     "execution_count": 85,
     "metadata": {},
     "output_type": "execute_result"
    }
   ],
   "source": [
    "pop = pop.drop(\"Unnamed: 3\", axis=1)\n",
    "pop.columns = ['Name','total','zipcode']\n",
    "pop.head()"
   ]
  },
  {
   "cell_type": "code",
   "execution_count": 97,
   "metadata": {},
   "outputs": [
    {
     "data": {
      "text/plain": [
       "Name       object\n",
       "total      object\n",
       "zipcode    object\n",
       "dtype: object"
      ]
     },
     "execution_count": 97,
     "metadata": {},
     "output_type": "execute_result"
    }
   ],
   "source": [
    "pop.dtypes"
   ]
  },
  {
   "cell_type": "markdown",
   "metadata": {},
   "source": [
    "### For Citizenship (Citizen / NonCitizen)\n",
    "\n",
    "##### B05001_001E --> total\n",
    "\n",
    "##### B05001_006E --> non citizen"
   ]
  },
  {
   "cell_type": "code",
   "execution_count": 44,
   "metadata": {},
   "outputs": [
    {
     "name": "stdout",
     "output_type": "stream",
     "text": [
      "(33120, 4)\n"
     ]
    },
    {
     "data": {
      "text/html": [
       "<div>\n",
       "<style>\n",
       "    .dataframe thead tr:only-child th {\n",
       "        text-align: right;\n",
       "    }\n",
       "\n",
       "    .dataframe thead th {\n",
       "        text-align: left;\n",
       "    }\n",
       "\n",
       "    .dataframe tbody tr th {\n",
       "        vertical-align: top;\n",
       "    }\n",
       "</style>\n",
       "<table border=\"1\" class=\"dataframe\">\n",
       "  <thead>\n",
       "    <tr style=\"text-align: right;\">\n",
       "      <th></th>\n",
       "      <th>NAME</th>\n",
       "      <th>citizen_pop</th>\n",
       "      <th>zip code tabulation area</th>\n",
       "    </tr>\n",
       "  </thead>\n",
       "  <tbody>\n",
       "    <tr>\n",
       "      <th>2427</th>\n",
       "      <td>ZCTA5 10001</td>\n",
       "      <td>23332</td>\n",
       "      <td>10001</td>\n",
       "    </tr>\n",
       "    <tr>\n",
       "      <th>2428</th>\n",
       "      <td>ZCTA5 10002</td>\n",
       "      <td>78096</td>\n",
       "      <td>10002</td>\n",
       "    </tr>\n",
       "    <tr>\n",
       "      <th>2429</th>\n",
       "      <td>ZCTA5 10003</td>\n",
       "      <td>56767</td>\n",
       "      <td>10003</td>\n",
       "    </tr>\n",
       "    <tr>\n",
       "      <th>2430</th>\n",
       "      <td>ZCTA5 10004</td>\n",
       "      <td>3044</td>\n",
       "      <td>10004</td>\n",
       "    </tr>\n",
       "    <tr>\n",
       "      <th>2431</th>\n",
       "      <td>ZCTA5 10005</td>\n",
       "      <td>8710</td>\n",
       "      <td>10005</td>\n",
       "    </tr>\n",
       "  </tbody>\n",
       "</table>\n",
       "</div>"
      ],
      "text/plain": [
       "             NAME citizen_pop zip code tabulation area\n",
       "2427  ZCTA5 10001       23332                    10001\n",
       "2428  ZCTA5 10002       78096                    10002\n",
       "2429  ZCTA5 10003       56767                    10003\n",
       "2430  ZCTA5 10004        3044                    10004\n",
       "2431  ZCTA5 10005        8710                    10005"
      ]
     },
     "execution_count": 44,
     "metadata": {},
     "output_type": "execute_result"
    }
   ],
   "source": [
    "variable = 'B05001_001E'  \n",
    "word = 'citizen_pop'\n",
    "url = \"https://api.census.gov/data/2016/acs/acs5?get=NAME,\" + variable +\\\n",
    "\"&for=zip%20code%20tabulation%20area:*&key=\" + myAPI\n",
    "\n",
    "resp = requests.request('GET', url)\n",
    "aff1y = json.loads(resp.text)\n",
    "resp = requests.request('GET', url).content\n",
    "citizen_pop = pd.read_csv(io.StringIO(resp.decode('utf-8').replace('[','').replace(']','')), dtype={'zip code tabulation area': 'str'})\n",
    "print(citizen_pop.shape)\n",
    "citizen_pop = citizen_pop.rename(columns={variable : word})\n",
    "citizen_pop = citizen_pop[citizen_pop['zip code tabulation area'].str.startswith('1')]\n",
    "citizen_pop.drop('Unnamed: 3', axis=1, inplace=True)\n",
    "citizen_pop.head()"
   ]
  },
  {
   "cell_type": "markdown",
   "metadata": {},
   "source": [
    "#### Non-Citizen"
   ]
  },
  {
   "cell_type": "code",
   "execution_count": 45,
   "metadata": {},
   "outputs": [
    {
     "name": "stdout",
     "output_type": "stream",
     "text": [
      "(33120, 4)\n",
      "(3658, 3)\n"
     ]
    },
    {
     "data": {
      "text/html": [
       "<div>\n",
       "<style>\n",
       "    .dataframe thead tr:only-child th {\n",
       "        text-align: right;\n",
       "    }\n",
       "\n",
       "    .dataframe thead th {\n",
       "        text-align: left;\n",
       "    }\n",
       "\n",
       "    .dataframe tbody tr th {\n",
       "        vertical-align: top;\n",
       "    }\n",
       "</style>\n",
       "<table border=\"1\" class=\"dataframe\">\n",
       "  <thead>\n",
       "    <tr style=\"text-align: right;\">\n",
       "      <th></th>\n",
       "      <th>NAME</th>\n",
       "      <th>foreign_pop</th>\n",
       "      <th>zip code tabulation area</th>\n",
       "    </tr>\n",
       "  </thead>\n",
       "  <tbody>\n",
       "    <tr>\n",
       "      <th>2427</th>\n",
       "      <td>ZCTA5 10001</td>\n",
       "      <td>3787</td>\n",
       "      <td>10001</td>\n",
       "    </tr>\n",
       "    <tr>\n",
       "      <th>2428</th>\n",
       "      <td>ZCTA5 10002</td>\n",
       "      <td>12731</td>\n",
       "      <td>10002</td>\n",
       "    </tr>\n",
       "    <tr>\n",
       "      <th>2429</th>\n",
       "      <td>ZCTA5 10003</td>\n",
       "      <td>7075</td>\n",
       "      <td>10003</td>\n",
       "    </tr>\n",
       "    <tr>\n",
       "      <th>2430</th>\n",
       "      <td>ZCTA5 10004</td>\n",
       "      <td>462</td>\n",
       "      <td>10004</td>\n",
       "    </tr>\n",
       "    <tr>\n",
       "      <th>2431</th>\n",
       "      <td>ZCTA5 10005</td>\n",
       "      <td>1412</td>\n",
       "      <td>10005</td>\n",
       "    </tr>\n",
       "  </tbody>\n",
       "</table>\n",
       "</div>"
      ],
      "text/plain": [
       "             NAME foreign_pop zip code tabulation area\n",
       "2427  ZCTA5 10001        3787                    10001\n",
       "2428  ZCTA5 10002       12731                    10002\n",
       "2429  ZCTA5 10003        7075                    10003\n",
       "2430  ZCTA5 10004         462                    10004\n",
       "2431  ZCTA5 10005        1412                    10005"
      ]
     },
     "execution_count": 45,
     "metadata": {},
     "output_type": "execute_result"
    }
   ],
   "source": [
    "variable = 'B05001_006E'  \n",
    "word = 'foreign_pop'\n",
    "url = \"https://api.census.gov/data/2016/acs/acs5?get=NAME,\" + variable +\\\n",
    "\"&for=zip%20code%20tabulation%20area:*&key=\" + myAPI\n",
    "\n",
    "resp = requests.request('GET', url)\n",
    "aff1y = json.loads(resp.text)\n",
    "resp = requests.request('GET', url).content\n",
    "for_pop = pd.read_csv(io.StringIO(resp.decode('utf-8').replace('[','').replace(']','')), dtype={'zip code tabulation area': 'str'})\n",
    "print(for_pop.shape)\n",
    "for_pop = for_pop.rename(columns={variable : word})\n",
    "for_pop = for_pop[for_pop['zip code tabulation area'].str.startswith('1')]\n",
    "for_pop.drop('Unnamed: 3', axis=1, inplace=True)\n",
    "print(for_pop.shape)\n",
    "for_pop.head()"
   ]
  },
  {
   "cell_type": "code",
   "execution_count": 65,
   "metadata": {},
   "outputs": [
    {
     "name": "stdout",
     "output_type": "stream",
     "text": [
      "(3658, 3)\n"
     ]
    },
    {
     "data": {
      "text/html": [
       "<div>\n",
       "<style>\n",
       "    .dataframe thead tr:only-child th {\n",
       "        text-align: right;\n",
       "    }\n",
       "\n",
       "    .dataframe thead th {\n",
       "        text-align: left;\n",
       "    }\n",
       "\n",
       "    .dataframe tbody tr th {\n",
       "        vertical-align: top;\n",
       "    }\n",
       "</style>\n",
       "<table border=\"1\" class=\"dataframe\">\n",
       "  <thead>\n",
       "    <tr style=\"text-align: right;\">\n",
       "      <th></th>\n",
       "      <th>citizen_pop</th>\n",
       "      <th>foreign_pop</th>\n",
       "      <th>prctForeign</th>\n",
       "    </tr>\n",
       "    <tr>\n",
       "      <th>zipcode</th>\n",
       "      <th></th>\n",
       "      <th></th>\n",
       "      <th></th>\n",
       "    </tr>\n",
       "  </thead>\n",
       "  <tbody>\n",
       "    <tr>\n",
       "      <th>10001</th>\n",
       "      <td>23332.0</td>\n",
       "      <td>3787.0</td>\n",
       "      <td>16.230927</td>\n",
       "    </tr>\n",
       "    <tr>\n",
       "      <th>10002</th>\n",
       "      <td>78096.0</td>\n",
       "      <td>12731.0</td>\n",
       "      <td>16.301731</td>\n",
       "    </tr>\n",
       "    <tr>\n",
       "      <th>10003</th>\n",
       "      <td>56767.0</td>\n",
       "      <td>7075.0</td>\n",
       "      <td>12.463227</td>\n",
       "    </tr>\n",
       "    <tr>\n",
       "      <th>10004</th>\n",
       "      <td>3044.0</td>\n",
       "      <td>462.0</td>\n",
       "      <td>15.177398</td>\n",
       "    </tr>\n",
       "    <tr>\n",
       "      <th>10005</th>\n",
       "      <td>8710.0</td>\n",
       "      <td>1412.0</td>\n",
       "      <td>16.211251</td>\n",
       "    </tr>\n",
       "  </tbody>\n",
       "</table>\n",
       "</div>"
      ],
      "text/plain": [
       "         citizen_pop  foreign_pop  prctForeign\n",
       "zipcode                                       \n",
       "10001        23332.0       3787.0    16.230927\n",
       "10002        78096.0      12731.0    16.301731\n",
       "10003        56767.0       7075.0    12.463227\n",
       "10004         3044.0        462.0    15.177398\n",
       "10005         8710.0       1412.0    16.211251"
      ]
     },
     "execution_count": 65,
     "metadata": {},
     "output_type": "execute_result"
    }
   ],
   "source": [
    "pop_df = pd.merge(citizen_pop, for_pop[['NAME', 'foreign_pop']])\n",
    "pop_df = pop_df.drop('NAME', axis=1)\n",
    "pop_df.columns = ['citizen_pop','zipcode','foreign_pop']\n",
    "pop_df = pop_df.set_index('zipcode')\n",
    "pop_df = pop_df.astype(float)\n",
    "pop_df['prctForeign'] = pop_df['foreign_pop'] / pop_df['citizen_pop'] *100\n",
    "\n",
    "print(pop_df.shape)\n",
    "pop_df.head()"
   ]
  },
  {
   "cell_type": "code",
   "execution_count": 109,
   "metadata": {},
   "outputs": [
    {
     "data": {
      "text/plain": [
       "citizen_pop    float64\n",
       "foreign_pop    float64\n",
       "prctForeign    float64\n",
       "dtype: object"
      ]
     },
     "execution_count": 109,
     "metadata": {},
     "output_type": "execute_result"
    }
   ],
   "source": [
    "pop_df.dtypes"
   ]
  },
  {
   "cell_type": "markdown",
   "metadata": {},
   "source": [
    "## Insurance\n",
    "\n",
    "##### B27002_001E --> Private Insurance\n",
    "##### B27003_001E --> Public Insurance"
   ]
  },
  {
   "cell_type": "markdown",
   "metadata": {},
   "source": [
    "### Total Population"
   ]
  },
  {
   "cell_type": "code",
   "execution_count": 47,
   "metadata": {},
   "outputs": [
    {
     "name": "stdout",
     "output_type": "stream",
     "text": [
      "(33120, 4)\n"
     ]
    },
    {
     "data": {
      "text/html": [
       "<div>\n",
       "<style>\n",
       "    .dataframe thead tr:only-child th {\n",
       "        text-align: right;\n",
       "    }\n",
       "\n",
       "    .dataframe thead th {\n",
       "        text-align: left;\n",
       "    }\n",
       "\n",
       "    .dataframe tbody tr th {\n",
       "        vertical-align: top;\n",
       "    }\n",
       "</style>\n",
       "<table border=\"1\" class=\"dataframe\">\n",
       "  <thead>\n",
       "    <tr style=\"text-align: right;\">\n",
       "      <th></th>\n",
       "      <th>NAME</th>\n",
       "      <th>total_pop</th>\n",
       "      <th>zip code tabulation area</th>\n",
       "    </tr>\n",
       "  </thead>\n",
       "  <tbody>\n",
       "    <tr>\n",
       "      <th>2427</th>\n",
       "      <td>ZCTA5 10001</td>\n",
       "      <td>23332</td>\n",
       "      <td>10001</td>\n",
       "    </tr>\n",
       "    <tr>\n",
       "      <th>2428</th>\n",
       "      <td>ZCTA5 10002</td>\n",
       "      <td>78096</td>\n",
       "      <td>10002</td>\n",
       "    </tr>\n",
       "    <tr>\n",
       "      <th>2429</th>\n",
       "      <td>ZCTA5 10003</td>\n",
       "      <td>56767</td>\n",
       "      <td>10003</td>\n",
       "    </tr>\n",
       "    <tr>\n",
       "      <th>2430</th>\n",
       "      <td>ZCTA5 10004</td>\n",
       "      <td>3044</td>\n",
       "      <td>10004</td>\n",
       "    </tr>\n",
       "    <tr>\n",
       "      <th>2431</th>\n",
       "      <td>ZCTA5 10005</td>\n",
       "      <td>8710</td>\n",
       "      <td>10005</td>\n",
       "    </tr>\n",
       "  </tbody>\n",
       "</table>\n",
       "</div>"
      ],
      "text/plain": [
       "             NAME  total_pop zip code tabulation area\n",
       "2427  ZCTA5 10001      23332                    10001\n",
       "2428  ZCTA5 10002      78096                    10002\n",
       "2429  ZCTA5 10003      56767                    10003\n",
       "2430  ZCTA5 10004       3044                    10004\n",
       "2431  ZCTA5 10005       8710                    10005"
      ]
     },
     "execution_count": 47,
     "metadata": {},
     "output_type": "execute_result"
    }
   ],
   "source": [
    "variable = 'S0101_C01_001E'  \n",
    "word = 'total_pop'\n",
    "url = \"https://api.census.gov/data/2016/acs/acs5/subject?get=NAME,\" + variable +\\\n",
    "\"&for=zip%20code%20tabulation%20area:*&key=\" + myAPI\n",
    "\n",
    "resp = requests.request('GET', url)\n",
    "aff1y = json.loads(resp.text)\n",
    "resp = requests.request('GET', url).content\n",
    "total_pop = pd.read_csv(io.StringIO(resp.decode('utf-8').replace('[','').replace(']','')), dtype={'zip code tabulation area': 'str'})\n",
    "print(total_pop.shape)\n",
    "total_pop = total_pop.rename(columns={variable : word})\n",
    "total_pop = total_pop[total_pop['zip code tabulation area'].str.startswith('1')]\n",
    "total_pop.drop('Unnamed: 3', axis=1, inplace=True)\n",
    "total_pop.head()"
   ]
  },
  {
   "cell_type": "code",
   "execution_count": 108,
   "metadata": {},
   "outputs": [
    {
     "data": {
      "text/plain": [
       "NAME                        object\n",
       "total_pop                    int64\n",
       "zip code tabulation area    object\n",
       "dtype: object"
      ]
     },
     "execution_count": 108,
     "metadata": {},
     "output_type": "execute_result"
    }
   ],
   "source": [
    "total_pop.dtypes"
   ]
  },
  {
   "cell_type": "markdown",
   "metadata": {},
   "source": [
    "### Insured"
   ]
  },
  {
   "cell_type": "code",
   "execution_count": 48,
   "metadata": {},
   "outputs": [
    {
     "name": "stdout",
     "output_type": "stream",
     "text": [
      "(33120, 4)\n"
     ]
    },
    {
     "data": {
      "text/html": [
       "<div>\n",
       "<style>\n",
       "    .dataframe thead tr:only-child th {\n",
       "        text-align: right;\n",
       "    }\n",
       "\n",
       "    .dataframe thead th {\n",
       "        text-align: left;\n",
       "    }\n",
       "\n",
       "    .dataframe tbody tr th {\n",
       "        vertical-align: top;\n",
       "    }\n",
       "</style>\n",
       "<table border=\"1\" class=\"dataframe\">\n",
       "  <thead>\n",
       "    <tr style=\"text-align: right;\">\n",
       "      <th></th>\n",
       "      <th>NAME</th>\n",
       "      <th>insured</th>\n",
       "      <th>zip code tabulation area</th>\n",
       "    </tr>\n",
       "  </thead>\n",
       "  <tbody>\n",
       "    <tr>\n",
       "      <th>2427</th>\n",
       "      <td>ZCTA5 10001</td>\n",
       "      <td>21859</td>\n",
       "      <td>10001</td>\n",
       "    </tr>\n",
       "    <tr>\n",
       "      <th>2428</th>\n",
       "      <td>ZCTA5 10002</td>\n",
       "      <td>71629</td>\n",
       "      <td>10002</td>\n",
       "    </tr>\n",
       "    <tr>\n",
       "      <th>2429</th>\n",
       "      <td>ZCTA5 10003</td>\n",
       "      <td>53737</td>\n",
       "      <td>10003</td>\n",
       "    </tr>\n",
       "    <tr>\n",
       "      <th>2430</th>\n",
       "      <td>ZCTA5 10004</td>\n",
       "      <td>2854</td>\n",
       "      <td>10004</td>\n",
       "    </tr>\n",
       "    <tr>\n",
       "      <th>2431</th>\n",
       "      <td>ZCTA5 10005</td>\n",
       "      <td>8202</td>\n",
       "      <td>10005</td>\n",
       "    </tr>\n",
       "  </tbody>\n",
       "</table>\n",
       "</div>"
      ],
      "text/plain": [
       "             NAME  insured zip code tabulation area\n",
       "2427  ZCTA5 10001    21859                    10001\n",
       "2428  ZCTA5 10002    71629                    10002\n",
       "2429  ZCTA5 10003    53737                    10003\n",
       "2430  ZCTA5 10004     2854                    10004\n",
       "2431  ZCTA5 10005     8202                    10005"
      ]
     },
     "execution_count": 48,
     "metadata": {},
     "output_type": "execute_result"
    }
   ],
   "source": [
    "variable = 'S2701_C02_001E'  \n",
    "word = 'insured'\n",
    "url = \"https://api.census.gov/data/2016/acs/acs5/subject?get=NAME,\" + variable +\\\n",
    "\"&for=zip%20code%20tabulation%20area:*&key=\" + myAPI\n",
    "\n",
    "resp = requests.request('GET', url)\n",
    "aff1y = json.loads(resp.text)\n",
    "resp = requests.request('GET', url).content\n",
    "insured = pd.read_csv(io.StringIO(resp.decode('utf-8').replace('[','').replace(']','')), dtype={'zip code tabulation area': 'str'})\n",
    "print(insured.shape)\n",
    "insured = insured.rename(columns={variable : word})\n",
    "insured = insured[insured['zip code tabulation area'].str.startswith('1')]\n",
    "insured.drop('Unnamed: 3', axis=1, inplace=True)\n",
    "insured.head()"
   ]
  },
  {
   "cell_type": "markdown",
   "metadata": {},
   "source": [
    "### Uninsured"
   ]
  },
  {
   "cell_type": "code",
   "execution_count": 49,
   "metadata": {},
   "outputs": [
    {
     "name": "stdout",
     "output_type": "stream",
     "text": [
      "(33120, 4)\n"
     ]
    },
    {
     "data": {
      "text/html": [
       "<div>\n",
       "<style>\n",
       "    .dataframe thead tr:only-child th {\n",
       "        text-align: right;\n",
       "    }\n",
       "\n",
       "    .dataframe thead th {\n",
       "        text-align: left;\n",
       "    }\n",
       "\n",
       "    .dataframe tbody tr th {\n",
       "        vertical-align: top;\n",
       "    }\n",
       "</style>\n",
       "<table border=\"1\" class=\"dataframe\">\n",
       "  <thead>\n",
       "    <tr style=\"text-align: right;\">\n",
       "      <th></th>\n",
       "      <th>NAME</th>\n",
       "      <th>uninsured</th>\n",
       "      <th>zip code tabulation area</th>\n",
       "    </tr>\n",
       "  </thead>\n",
       "  <tbody>\n",
       "    <tr>\n",
       "      <th>2427</th>\n",
       "      <td>ZCTA5 10001</td>\n",
       "      <td>1473</td>\n",
       "      <td>10001</td>\n",
       "    </tr>\n",
       "    <tr>\n",
       "      <th>2428</th>\n",
       "      <td>ZCTA5 10002</td>\n",
       "      <td>6149</td>\n",
       "      <td>10002</td>\n",
       "    </tr>\n",
       "    <tr>\n",
       "      <th>2429</th>\n",
       "      <td>ZCTA5 10003</td>\n",
       "      <td>2876</td>\n",
       "      <td>10003</td>\n",
       "    </tr>\n",
       "    <tr>\n",
       "      <th>2430</th>\n",
       "      <td>ZCTA5 10004</td>\n",
       "      <td>190</td>\n",
       "      <td>10004</td>\n",
       "    </tr>\n",
       "    <tr>\n",
       "      <th>2431</th>\n",
       "      <td>ZCTA5 10005</td>\n",
       "      <td>503</td>\n",
       "      <td>10005</td>\n",
       "    </tr>\n",
       "  </tbody>\n",
       "</table>\n",
       "</div>"
      ],
      "text/plain": [
       "             NAME  uninsured zip code tabulation area\n",
       "2427  ZCTA5 10001       1473                    10001\n",
       "2428  ZCTA5 10002       6149                    10002\n",
       "2429  ZCTA5 10003       2876                    10003\n",
       "2430  ZCTA5 10004        190                    10004\n",
       "2431  ZCTA5 10005        503                    10005"
      ]
     },
     "execution_count": 49,
     "metadata": {},
     "output_type": "execute_result"
    }
   ],
   "source": [
    "variable = 'S2701_C04_001E'  \n",
    "word = 'uninsured'\n",
    "url = \"https://api.census.gov/data/2016/acs/acs5/subject?get=NAME,\" + variable +\\\n",
    "\"&for=zip%20code%20tabulation%20area:*&key=\" + myAPI\n",
    "\n",
    "resp = requests.request('GET', url)\n",
    "aff1y = json.loads(resp.text)\n",
    "resp = requests.request('GET', url).content\n",
    "uninsured = pd.read_csv(io.StringIO(resp.decode('utf-8').replace('[','').replace(']','')), dtype={'zip code tabulation area': 'str'})\n",
    "print(uninsured.shape)\n",
    "uninsured = uninsured.rename(columns={variable : word})\n",
    "uninsured = uninsured[uninsured['zip code tabulation area'].str.startswith('1')]\n",
    "uninsured.drop('Unnamed: 3', axis=1, inplace=True)\n",
    "uninsured.head()"
   ]
  },
  {
   "cell_type": "code",
   "execution_count": 50,
   "metadata": {},
   "outputs": [
    {
     "name": "stdout",
     "output_type": "stream",
     "text": [
      "(3658, 7)\n"
     ]
    },
    {
     "data": {
      "text/html": [
       "<div>\n",
       "<style>\n",
       "    .dataframe thead tr:only-child th {\n",
       "        text-align: right;\n",
       "    }\n",
       "\n",
       "    .dataframe thead th {\n",
       "        text-align: left;\n",
       "    }\n",
       "\n",
       "    .dataframe tbody tr th {\n",
       "        vertical-align: top;\n",
       "    }\n",
       "</style>\n",
       "<table border=\"1\" class=\"dataframe\">\n",
       "  <thead>\n",
       "    <tr style=\"text-align: right;\">\n",
       "      <th></th>\n",
       "      <th>Name</th>\n",
       "      <th>insured</th>\n",
       "      <th>zipcode</th>\n",
       "      <th>uninsured</th>\n",
       "      <th>totalPop</th>\n",
       "      <th>%Insured</th>\n",
       "      <th>%Uninsured</th>\n",
       "    </tr>\n",
       "  </thead>\n",
       "  <tbody>\n",
       "    <tr>\n",
       "      <th>0</th>\n",
       "      <td>ZCTA5 10001</td>\n",
       "      <td>21859</td>\n",
       "      <td>10001</td>\n",
       "      <td>1473</td>\n",
       "      <td>23332</td>\n",
       "      <td>93.686782</td>\n",
       "      <td>6.313218</td>\n",
       "    </tr>\n",
       "    <tr>\n",
       "      <th>1</th>\n",
       "      <td>ZCTA5 10002</td>\n",
       "      <td>71629</td>\n",
       "      <td>10002</td>\n",
       "      <td>6149</td>\n",
       "      <td>78096</td>\n",
       "      <td>91.719166</td>\n",
       "      <td>7.873643</td>\n",
       "    </tr>\n",
       "    <tr>\n",
       "      <th>2</th>\n",
       "      <td>ZCTA5 10003</td>\n",
       "      <td>53737</td>\n",
       "      <td>10003</td>\n",
       "      <td>2876</td>\n",
       "      <td>56767</td>\n",
       "      <td>94.662392</td>\n",
       "      <td>5.066324</td>\n",
       "    </tr>\n",
       "    <tr>\n",
       "      <th>3</th>\n",
       "      <td>ZCTA5 10004</td>\n",
       "      <td>2854</td>\n",
       "      <td>10004</td>\n",
       "      <td>190</td>\n",
       "      <td>3044</td>\n",
       "      <td>93.758213</td>\n",
       "      <td>6.241787</td>\n",
       "    </tr>\n",
       "    <tr>\n",
       "      <th>4</th>\n",
       "      <td>ZCTA5 10005</td>\n",
       "      <td>8202</td>\n",
       "      <td>10005</td>\n",
       "      <td>503</td>\n",
       "      <td>8710</td>\n",
       "      <td>94.167623</td>\n",
       "      <td>5.774971</td>\n",
       "    </tr>\n",
       "  </tbody>\n",
       "</table>\n",
       "</div>"
      ],
      "text/plain": [
       "          Name  insured zipcode  uninsured  totalPop   %Insured  %Uninsured\n",
       "0  ZCTA5 10001    21859   10001       1473     23332  93.686782    6.313218\n",
       "1  ZCTA5 10002    71629   10002       6149     78096  91.719166    7.873643\n",
       "2  ZCTA5 10003    53737   10003       2876     56767  94.662392    5.066324\n",
       "3  ZCTA5 10004     2854   10004        190      3044  93.758213    6.241787\n",
       "4  ZCTA5 10005     8202   10005        503      8710  94.167623    5.774971"
      ]
     },
     "execution_count": 50,
     "metadata": {},
     "output_type": "execute_result"
    }
   ],
   "source": [
    "insurance = pd.merge(insured, uninsured[['NAME', 'uninsured']])\n",
    "insurance = insurance.merge(total_pop[['NAME', 'total_pop']], on='NAME')\n",
    "insurance['prctInsured'] = (insurance['insured'] / insurance['total_pop']) * 100\n",
    "insurance['prctUninsured'] = (insurance['uninsured'] / insurance['total_pop']) * 100\n",
    "#insurance['test'] = insurance['prctInsured'] + insurance['prctUninsured']\n",
    "insurance.columns = ['Name','insured','zipcode','uninsured','totalPop','%Insured',\n",
    "                    '%Uninsured']\n",
    "print(insurance.shape)\n",
    "insurance.head()"
   ]
  },
  {
   "cell_type": "code",
   "execution_count": 107,
   "metadata": {},
   "outputs": [
    {
     "data": {
      "text/plain": [
       "Name           object\n",
       "insured         int64\n",
       "zipcode        object\n",
       "uninsured       int64\n",
       "totalPop        int64\n",
       "%Insured      float64\n",
       "%Uninsured    float64\n",
       "dtype: object"
      ]
     },
     "execution_count": 107,
     "metadata": {},
     "output_type": "execute_result"
    }
   ],
   "source": [
    "insurance.dtypes"
   ]
  },
  {
   "cell_type": "markdown",
   "metadata": {},
   "source": [
    "## Vehicle Access"
   ]
  },
  {
   "cell_type": "code",
   "execution_count": 51,
   "metadata": {},
   "outputs": [
    {
     "name": "stdout",
     "output_type": "stream",
     "text": [
      "(33120, 4)\n"
     ]
    },
    {
     "data": {
      "text/html": [
       "<div>\n",
       "<style>\n",
       "    .dataframe thead tr:only-child th {\n",
       "        text-align: right;\n",
       "    }\n",
       "\n",
       "    .dataframe thead th {\n",
       "        text-align: left;\n",
       "    }\n",
       "\n",
       "    .dataframe tbody tr th {\n",
       "        vertical-align: top;\n",
       "    }\n",
       "</style>\n",
       "<table border=\"1\" class=\"dataframe\">\n",
       "  <thead>\n",
       "    <tr style=\"text-align: right;\">\n",
       "      <th></th>\n",
       "      <th>NAME</th>\n",
       "      <th>vehicle_none</th>\n",
       "      <th>zip code tabulation area</th>\n",
       "    </tr>\n",
       "  </thead>\n",
       "  <tbody>\n",
       "    <tr>\n",
       "      <th>2427</th>\n",
       "      <td>ZCTA5 10001</td>\n",
       "      <td>10584</td>\n",
       "      <td>10001</td>\n",
       "    </tr>\n",
       "    <tr>\n",
       "      <th>2428</th>\n",
       "      <td>ZCTA5 10002</td>\n",
       "      <td>25969</td>\n",
       "      <td>10002</td>\n",
       "    </tr>\n",
       "    <tr>\n",
       "      <th>2429</th>\n",
       "      <td>ZCTA5 10003</td>\n",
       "      <td>24664</td>\n",
       "      <td>10003</td>\n",
       "    </tr>\n",
       "    <tr>\n",
       "      <th>2430</th>\n",
       "      <td>ZCTA5 10004</td>\n",
       "      <td>1567</td>\n",
       "      <td>10004</td>\n",
       "    </tr>\n",
       "    <tr>\n",
       "      <th>2431</th>\n",
       "      <td>ZCTA5 10005</td>\n",
       "      <td>5692</td>\n",
       "      <td>10005</td>\n",
       "    </tr>\n",
       "  </tbody>\n",
       "</table>\n",
       "</div>"
      ],
      "text/plain": [
       "             NAME  vehicle_none zip code tabulation area\n",
       "2427  ZCTA5 10001         10584                    10001\n",
       "2428  ZCTA5 10002         25969                    10002\n",
       "2429  ZCTA5 10003         24664                    10003\n",
       "2430  ZCTA5 10004          1567                    10004\n",
       "2431  ZCTA5 10005          5692                    10005"
      ]
     },
     "execution_count": 51,
     "metadata": {},
     "output_type": "execute_result"
    }
   ],
   "source": [
    "variable = 'B08014_002E'  \n",
    "word = 'vehicle_none'\n",
    "url = \"https://api.census.gov/data/2016/acs/acs5?get=NAME,\" + variable +\\\n",
    "\"&for=zip%20code%20tabulation%20area:*&key=\" + myAPI\n",
    "\n",
    "resp = requests.request('GET', url)\n",
    "aff1y = json.loads(resp.text)\n",
    "resp = requests.request('GET', url).content\n",
    "vehicle_none = pd.read_csv(io.StringIO(resp.decode('utf-8').replace('[','').replace(']','')), dtype={'zip code tabulation area': 'str'})\n",
    "print(vehicle_none.shape)\n",
    "vehicle_none = vehicle_none.rename(columns={variable : word})\n",
    "vehicle_none = vehicle_none[vehicle_none['zip code tabulation area'].str.startswith('1')]\n",
    "vehicle_none.drop('Unnamed: 3', axis=1, inplace=True)\n",
    "vehicle_none.head()"
   ]
  },
  {
   "cell_type": "code",
   "execution_count": 52,
   "metadata": {},
   "outputs": [
    {
     "name": "stdout",
     "output_type": "stream",
     "text": [
      "(33120, 4)\n"
     ]
    },
    {
     "data": {
      "text/html": [
       "<div>\n",
       "<style>\n",
       "    .dataframe thead tr:only-child th {\n",
       "        text-align: right;\n",
       "    }\n",
       "\n",
       "    .dataframe thead th {\n",
       "        text-align: left;\n",
       "    }\n",
       "\n",
       "    .dataframe tbody tr th {\n",
       "        vertical-align: top;\n",
       "    }\n",
       "</style>\n",
       "<table border=\"1\" class=\"dataframe\">\n",
       "  <thead>\n",
       "    <tr style=\"text-align: right;\">\n",
       "      <th></th>\n",
       "      <th>NAME</th>\n",
       "      <th>vehicle_totalpop</th>\n",
       "      <th>zip code tabulation area</th>\n",
       "    </tr>\n",
       "  </thead>\n",
       "  <tbody>\n",
       "    <tr>\n",
       "      <th>2427</th>\n",
       "      <td>ZCTA5 10001</td>\n",
       "      <td>13655</td>\n",
       "      <td>10001</td>\n",
       "    </tr>\n",
       "    <tr>\n",
       "      <th>2428</th>\n",
       "      <td>ZCTA5 10002</td>\n",
       "      <td>33780</td>\n",
       "      <td>10002</td>\n",
       "    </tr>\n",
       "    <tr>\n",
       "      <th>2429</th>\n",
       "      <td>ZCTA5 10003</td>\n",
       "      <td>31944</td>\n",
       "      <td>10003</td>\n",
       "    </tr>\n",
       "    <tr>\n",
       "      <th>2430</th>\n",
       "      <td>ZCTA5 10004</td>\n",
       "      <td>2048</td>\n",
       "      <td>10004</td>\n",
       "    </tr>\n",
       "    <tr>\n",
       "      <th>2431</th>\n",
       "      <td>ZCTA5 10005</td>\n",
       "      <td>6692</td>\n",
       "      <td>10005</td>\n",
       "    </tr>\n",
       "  </tbody>\n",
       "</table>\n",
       "</div>"
      ],
      "text/plain": [
       "             NAME  vehicle_totalpop zip code tabulation area\n",
       "2427  ZCTA5 10001             13655                    10001\n",
       "2428  ZCTA5 10002             33780                    10002\n",
       "2429  ZCTA5 10003             31944                    10003\n",
       "2430  ZCTA5 10004              2048                    10004\n",
       "2431  ZCTA5 10005              6692                    10005"
      ]
     },
     "execution_count": 52,
     "metadata": {},
     "output_type": "execute_result"
    }
   ],
   "source": [
    "variable = 'B08014_001E'  \n",
    "word = 'vehicle_totalpop'\n",
    "url = \"https://api.census.gov/data/2016/acs/acs5?get=NAME,\" + variable +\\\n",
    "\"&for=zip%20code%20tabulation%20area:*&key=\" + myAPI\n",
    "\n",
    "resp = requests.request('GET', url)\n",
    "aff1y = json.loads(resp.text)\n",
    "resp = requests.request('GET', url).content\n",
    "vehicle_totalpop = pd.read_csv(io.StringIO(resp.decode('utf-8').replace('[','').replace(']','')), dtype={'zip code tabulation area': 'str'})\n",
    "print(vehicle_totalpop.shape)\n",
    "vehicle_totalpop = vehicle_totalpop.rename(columns={variable : word})\n",
    "vehicle_totalpop = vehicle_totalpop[vehicle_totalpop['zip code tabulation area'].str.startswith('1')]\n",
    "vehicle_totalpop.drop('Unnamed: 3', axis=1, inplace=True)\n",
    "vehicle_totalpop.head()"
   ]
  },
  {
   "cell_type": "code",
   "execution_count": 71,
   "metadata": {},
   "outputs": [
    {
     "data": {
      "text/html": [
       "<div>\n",
       "<style>\n",
       "    .dataframe thead tr:only-child th {\n",
       "        text-align: right;\n",
       "    }\n",
       "\n",
       "    .dataframe thead th {\n",
       "        text-align: left;\n",
       "    }\n",
       "\n",
       "    .dataframe tbody tr th {\n",
       "        vertical-align: top;\n",
       "    }\n",
       "</style>\n",
       "<table border=\"1\" class=\"dataframe\">\n",
       "  <thead>\n",
       "    <tr style=\"text-align: right;\">\n",
       "      <th></th>\n",
       "      <th>zipcode</th>\n",
       "      <th>%vehicle</th>\n",
       "    </tr>\n",
       "  </thead>\n",
       "  <tbody>\n",
       "    <tr>\n",
       "      <th>0</th>\n",
       "      <td>10001</td>\n",
       "      <td>77.510070</td>\n",
       "    </tr>\n",
       "    <tr>\n",
       "      <th>1</th>\n",
       "      <td>10002</td>\n",
       "      <td>76.876850</td>\n",
       "    </tr>\n",
       "    <tr>\n",
       "      <th>2</th>\n",
       "      <td>10003</td>\n",
       "      <td>77.210118</td>\n",
       "    </tr>\n",
       "    <tr>\n",
       "      <th>3</th>\n",
       "      <td>10004</td>\n",
       "      <td>76.513672</td>\n",
       "    </tr>\n",
       "    <tr>\n",
       "      <th>4</th>\n",
       "      <td>10005</td>\n",
       "      <td>85.056784</td>\n",
       "    </tr>\n",
       "  </tbody>\n",
       "</table>\n",
       "</div>"
      ],
      "text/plain": [
       "  zipcode   %vehicle\n",
       "0   10001  77.510070\n",
       "1   10002  76.876850\n",
       "2   10003  77.210118\n",
       "3   10004  76.513672\n",
       "4   10005  85.056784"
      ]
     },
     "execution_count": 71,
     "metadata": {},
     "output_type": "execute_result"
    }
   ],
   "source": [
    "vehicle = pd.merge(vehicle_none, vehicle_totalpop, on =\"zip code tabulation area\")\n",
    "vehicle = vehicle.drop(\"NAME_y\", axis = 1)\n",
    "vehicle.columns = ['Name','vehicle_none','zipcode','vehicle_totalpop']\n",
    "vehicle['%vehicle'] = (vehicle['vehicle_none'] / vehicle['vehicle_totalpop']) *100\n",
    "vehicle = vehicle.drop([\"Name\", 'vehicle_none', 'vehicle_totalpop'], axis = 1)\n",
    "vehicle.head()"
   ]
  },
  {
   "cell_type": "code",
   "execution_count": 106,
   "metadata": {},
   "outputs": [
    {
     "data": {
      "text/plain": [
       "zipcode      object\n",
       "%vehicle    float64\n",
       "dtype: object"
      ]
     },
     "execution_count": 106,
     "metadata": {},
     "output_type": "execute_result"
    }
   ],
   "source": [
    "vehicle.dtypes"
   ]
  },
  {
   "cell_type": "markdown",
   "metadata": {},
   "source": [
    "## Food Stamps\n",
    "\n",
    "##### S2201_C01_001E\t"
   ]
  },
  {
   "cell_type": "code",
   "execution_count": 125,
   "metadata": {},
   "outputs": [
    {
     "name": "stdout",
     "output_type": "stream",
     "text": [
      "(3658, 3)\n",
      "Name         object\n",
      "foodStamp     int64\n",
      "zipcode      object\n",
      "dtype: object\n"
     ]
    },
    {
     "data": {
      "text/html": [
       "<div>\n",
       "<style>\n",
       "    .dataframe thead tr:only-child th {\n",
       "        text-align: right;\n",
       "    }\n",
       "\n",
       "    .dataframe thead th {\n",
       "        text-align: left;\n",
       "    }\n",
       "\n",
       "    .dataframe tbody tr th {\n",
       "        vertical-align: top;\n",
       "    }\n",
       "</style>\n",
       "<table border=\"1\" class=\"dataframe\">\n",
       "  <thead>\n",
       "    <tr style=\"text-align: right;\">\n",
       "      <th></th>\n",
       "      <th>Name</th>\n",
       "      <th>foodStamp</th>\n",
       "      <th>zipcode</th>\n",
       "    </tr>\n",
       "  </thead>\n",
       "  <tbody>\n",
       "    <tr>\n",
       "      <th>2427</th>\n",
       "      <td>ZCTA5 10001</td>\n",
       "      <td>11967</td>\n",
       "      <td>10001</td>\n",
       "    </tr>\n",
       "    <tr>\n",
       "      <th>2428</th>\n",
       "      <td>ZCTA5 10002</td>\n",
       "      <td>33327</td>\n",
       "      <td>10002</td>\n",
       "    </tr>\n",
       "    <tr>\n",
       "      <th>2429</th>\n",
       "      <td>ZCTA5 10003</td>\n",
       "      <td>27258</td>\n",
       "      <td>10003</td>\n",
       "    </tr>\n",
       "    <tr>\n",
       "      <th>2430</th>\n",
       "      <td>ZCTA5 10004</td>\n",
       "      <td>1592</td>\n",
       "      <td>10004</td>\n",
       "    </tr>\n",
       "    <tr>\n",
       "      <th>2431</th>\n",
       "      <td>ZCTA5 10005</td>\n",
       "      <td>4295</td>\n",
       "      <td>10005</td>\n",
       "    </tr>\n",
       "  </tbody>\n",
       "</table>\n",
       "</div>"
      ],
      "text/plain": [
       "             Name  foodStamp zipcode\n",
       "2427  ZCTA5 10001      11967   10001\n",
       "2428  ZCTA5 10002      33327   10002\n",
       "2429  ZCTA5 10003      27258   10003\n",
       "2430  ZCTA5 10004       1592   10004\n",
       "2431  ZCTA5 10005       4295   10005"
      ]
     },
     "execution_count": 125,
     "metadata": {},
     "output_type": "execute_result"
    }
   ],
   "source": [
    "fst_var = 'S2201_C01_001E'\n",
    "word = \"Pop\"\n",
    "url = \"https://api.census.gov/data/2016/acs/acs5/subject?get=NAME,\" + fst_var +\\\n",
    "\"&for=zip%20code%20tabulation%20area:*&key=\" + myAPI\n",
    "\n",
    "resp = requests.request('GET', url)\n",
    "aff1y = json.loads(resp.text)\n",
    "resp = requests.request('GET', url).content\n",
    "\n",
    "resp = requests.request('GET', url).content\n",
    "foodstamp = pd.read_csv(io.StringIO(resp.decode('utf-8').replace('[','').replace(']','')),\n",
    "                    dtype={'zip code tabulation area': 'str'})\n",
    "\n",
    "foodstamp = foodstamp[foodstamp['zip code tabulation area'].str.startswith('1')]\n",
    "foodstamp.drop(\"Unnamed: 3\", axis=1, inplace = True)\n",
    "foodstamp.columns = ['Name','foodStamp','zipcode']\n",
    "print(foodstamp.shape)\n",
    "print(foodstamp.dtypes)\n",
    "foodstamp.head()"
   ]
  },
  {
   "cell_type": "code",
   "execution_count": 126,
   "metadata": {},
   "outputs": [
    {
     "name": "stdout",
     "output_type": "stream",
     "text": [
      "(3658, 3)\n"
     ]
    },
    {
     "data": {
      "text/html": [
       "<div>\n",
       "<style>\n",
       "    .dataframe thead tr:only-child th {\n",
       "        text-align: right;\n",
       "    }\n",
       "\n",
       "    .dataframe thead th {\n",
       "        text-align: left;\n",
       "    }\n",
       "\n",
       "    .dataframe tbody tr th {\n",
       "        vertical-align: top;\n",
       "    }\n",
       "</style>\n",
       "<table border=\"1\" class=\"dataframe\">\n",
       "  <thead>\n",
       "    <tr style=\"text-align: right;\">\n",
       "      <th></th>\n",
       "      <th>foodStamp</th>\n",
       "      <th>total</th>\n",
       "      <th>%foodStamp</th>\n",
       "    </tr>\n",
       "    <tr>\n",
       "      <th>zipcode</th>\n",
       "      <th></th>\n",
       "      <th></th>\n",
       "      <th></th>\n",
       "    </tr>\n",
       "  </thead>\n",
       "  <tbody>\n",
       "    <tr>\n",
       "      <th>10001</th>\n",
       "      <td>11967.0</td>\n",
       "      <td>23332.0</td>\n",
       "      <td>51.290074</td>\n",
       "    </tr>\n",
       "    <tr>\n",
       "      <th>10002</th>\n",
       "      <td>33327.0</td>\n",
       "      <td>78096.0</td>\n",
       "      <td>42.674401</td>\n",
       "    </tr>\n",
       "    <tr>\n",
       "      <th>10003</th>\n",
       "      <td>27258.0</td>\n",
       "      <td>56767.0</td>\n",
       "      <td>48.017334</td>\n",
       "    </tr>\n",
       "    <tr>\n",
       "      <th>10004</th>\n",
       "      <td>1592.0</td>\n",
       "      <td>3044.0</td>\n",
       "      <td>52.299606</td>\n",
       "    </tr>\n",
       "    <tr>\n",
       "      <th>10005</th>\n",
       "      <td>4295.0</td>\n",
       "      <td>8710.0</td>\n",
       "      <td>49.311137</td>\n",
       "    </tr>\n",
       "  </tbody>\n",
       "</table>\n",
       "</div>"
      ],
      "text/plain": [
       "         foodStamp    total  %foodStamp\n",
       "zipcode                                \n",
       "10001      11967.0  23332.0   51.290074\n",
       "10002      33327.0  78096.0   42.674401\n",
       "10003      27258.0  56767.0   48.017334\n",
       "10004       1592.0   3044.0   52.299606\n",
       "10005       4295.0   8710.0   49.311137"
      ]
     },
     "execution_count": 126,
     "metadata": {},
     "output_type": "execute_result"
    }
   ],
   "source": [
    "foodstamp.zipcode = foodstamp.zipcode.astype(str)\n",
    "foodstamp = pd.merge(foodstamp, pop, on =\"zipcode\")\n",
    "foodstamp.drop([\"Name_x\", \"Name_y\"], axis=1, inplace = True)\n",
    "# foodstamp = pop_df.drop('NAME', axis=1)\n",
    "foodstamp.columns = ['foodStamp','zipcode','total']\n",
    "foodstamp = foodstamp.set_index('zipcode')\n",
    "foodstamp = foodstamp.astype(float)\n",
    "foodstamp['%foodStamp'] = (foodstamp['foodStamp'] / foodstamp['total']) *100\n",
    "# foodstamp = pop_df.drop(['foodStamp', 'total'], axis=1)\n",
    "\n",
    "print(foodstamp.shape)\n",
    "foodstamp.head()"
   ]
  },
  {
   "cell_type": "code",
   "execution_count": 120,
   "metadata": {},
   "outputs": [
    {
     "data": {
      "text/plain": [
       "Name_x       object\n",
       "foodStamp     int64\n",
       "zipcode      object\n",
       "Name_y       object\n",
       "total        object\n",
       "dtype: object"
      ]
     },
     "execution_count": 120,
     "metadata": {},
     "output_type": "execute_result"
    }
   ],
   "source": [
    "foodstamp.zipcode = foodstamp.zipcode.astype(str)\n",
    "foodstamp.dtypes"
   ]
  },
  {
   "cell_type": "markdown",
   "metadata": {},
   "source": [
    "## Poverty\n",
    "\n",
    "##### S0601_C01_048E"
   ]
  },
  {
   "cell_type": "code",
   "execution_count": 139,
   "metadata": {},
   "outputs": [
    {
     "name": "stdout",
     "output_type": "stream",
     "text": [
      "(33120, 4)\n"
     ]
    },
    {
     "data": {
      "text/html": [
       "<div>\n",
       "<style>\n",
       "    .dataframe thead tr:only-child th {\n",
       "        text-align: right;\n",
       "    }\n",
       "\n",
       "    .dataframe thead th {\n",
       "        text-align: left;\n",
       "    }\n",
       "\n",
       "    .dataframe tbody tr th {\n",
       "        vertical-align: top;\n",
       "    }\n",
       "</style>\n",
       "<table border=\"1\" class=\"dataframe\">\n",
       "  <thead>\n",
       "    <tr style=\"text-align: right;\">\n",
       "      <th></th>\n",
       "      <th>Name</th>\n",
       "      <th>poverty</th>\n",
       "      <th>zipcode</th>\n",
       "    </tr>\n",
       "  </thead>\n",
       "  <tbody>\n",
       "    <tr>\n",
       "      <th>2427</th>\n",
       "      <td>ZCTA5 10001</td>\n",
       "      <td>17.5</td>\n",
       "      <td>10001</td>\n",
       "    </tr>\n",
       "    <tr>\n",
       "      <th>2428</th>\n",
       "      <td>ZCTA5 10002</td>\n",
       "      <td>27.8</td>\n",
       "      <td>10002</td>\n",
       "    </tr>\n",
       "    <tr>\n",
       "      <th>2429</th>\n",
       "      <td>ZCTA5 10003</td>\n",
       "      <td>9.9</td>\n",
       "      <td>10003</td>\n",
       "    </tr>\n",
       "    <tr>\n",
       "      <th>2430</th>\n",
       "      <td>ZCTA5 10004</td>\n",
       "      <td>4.8</td>\n",
       "      <td>10004</td>\n",
       "    </tr>\n",
       "    <tr>\n",
       "      <th>2431</th>\n",
       "      <td>ZCTA5 10005</td>\n",
       "      <td>12.1</td>\n",
       "      <td>10005</td>\n",
       "    </tr>\n",
       "  </tbody>\n",
       "</table>\n",
       "</div>"
      ],
      "text/plain": [
       "             Name poverty zipcode\n",
       "2427  ZCTA5 10001    17.5   10001\n",
       "2428  ZCTA5 10002    27.8   10002\n",
       "2429  ZCTA5 10003     9.9   10003\n",
       "2430  ZCTA5 10004     4.8   10004\n",
       "2431  ZCTA5 10005    12.1   10005"
      ]
     },
     "execution_count": 139,
     "metadata": {},
     "output_type": "execute_result"
    }
   ],
   "source": [
    "pov_var = 'S0601_C01_049E'\n",
    "word = \"Pop\"\n",
    "url = \"https://api.census.gov/data/2016/acs/acs5/subject?get=NAME,\" + pov_var +\\\n",
    "\"&for=zip%20code%20tabulation%20area:*&key=\" + myAPI\n",
    "\n",
    "resp = requests.request('GET', url)\n",
    "aff1y = json.loads(resp.text)\n",
    "resp = requests.request('GET', url).content\n",
    "\n",
    "resp = requests.request('GET', url).content\n",
    "poverty = pd.read_csv(io.StringIO(resp.decode('utf-8').replace('[','').replace(']','')), \n",
    "                     dtype={'zip code tabulation area': 'str'})\n",
    "print(poverty.shape)\n",
    "poverty = poverty[poverty['zip code tabulation area'].str.startswith('1')]\n",
    "poverty.drop(\"Unnamed: 3\", axis=1, inplace = True)\n",
    "poverty.columns = ['Name','poverty','zipcode']\n",
    "poverty.head()"
   ]
  },
  {
   "cell_type": "code",
   "execution_count": 140,
   "metadata": {},
   "outputs": [
    {
     "data": {
      "text/plain": [
       "'94.4'"
      ]
     },
     "execution_count": 140,
     "metadata": {},
     "output_type": "execute_result"
    }
   ],
   "source": [
    "poverty.poverty.max()"
   ]
  },
  {
   "cell_type": "code",
   "execution_count": 141,
   "metadata": {},
   "outputs": [],
   "source": [
    "# poverty = pd.merge(poverty, pop, on =\"zipcode\")\n",
    "poverty.drop([\"Name\"], axis=1, inplace = True)\n",
    "# poverty = poverty.set_index('zipcode')\n",
    "poverty.columns = ['%poverty', 'zipcode']\n",
    "# poverty = poverty.astype(float)\n",
    "# poverty['%poverty'] = (poverty['poverty'] / poverty['total']) *100"
   ]
  },
  {
   "cell_type": "code",
   "execution_count": 142,
   "metadata": {},
   "outputs": [
    {
     "name": "stdout",
     "output_type": "stream",
     "text": [
      "(3658, 2)\n",
      "%poverty    object\n",
      "zipcode     object\n",
      "dtype: object\n"
     ]
    },
    {
     "data": {
      "text/html": [
       "<div>\n",
       "<style>\n",
       "    .dataframe thead tr:only-child th {\n",
       "        text-align: right;\n",
       "    }\n",
       "\n",
       "    .dataframe thead th {\n",
       "        text-align: left;\n",
       "    }\n",
       "\n",
       "    .dataframe tbody tr th {\n",
       "        vertical-align: top;\n",
       "    }\n",
       "</style>\n",
       "<table border=\"1\" class=\"dataframe\">\n",
       "  <thead>\n",
       "    <tr style=\"text-align: right;\">\n",
       "      <th></th>\n",
       "      <th>%poverty</th>\n",
       "      <th>zipcode</th>\n",
       "    </tr>\n",
       "  </thead>\n",
       "  <tbody>\n",
       "    <tr>\n",
       "      <th>2427</th>\n",
       "      <td>17.5</td>\n",
       "      <td>10001</td>\n",
       "    </tr>\n",
       "    <tr>\n",
       "      <th>2428</th>\n",
       "      <td>27.8</td>\n",
       "      <td>10002</td>\n",
       "    </tr>\n",
       "    <tr>\n",
       "      <th>2429</th>\n",
       "      <td>9.9</td>\n",
       "      <td>10003</td>\n",
       "    </tr>\n",
       "    <tr>\n",
       "      <th>2430</th>\n",
       "      <td>4.8</td>\n",
       "      <td>10004</td>\n",
       "    </tr>\n",
       "    <tr>\n",
       "      <th>2431</th>\n",
       "      <td>12.1</td>\n",
       "      <td>10005</td>\n",
       "    </tr>\n",
       "  </tbody>\n",
       "</table>\n",
       "</div>"
      ],
      "text/plain": [
       "      %poverty zipcode\n",
       "2427      17.5   10001\n",
       "2428      27.8   10002\n",
       "2429       9.9   10003\n",
       "2430       4.8   10004\n",
       "2431      12.1   10005"
      ]
     },
     "execution_count": 142,
     "metadata": {},
     "output_type": "execute_result"
    }
   ],
   "source": [
    "print(poverty.shape)\n",
    "print(poverty.dtypes)\n",
    "poverty['%poverty'] = poverty['%poverty'].astype(float)\n",
    "# poverty = poverty.set_index('zipcode')\n",
    "poverty.head()"
   ]
  },
  {
   "cell_type": "code",
   "execution_count": null,
   "metadata": {
    "collapsed": true
   },
   "outputs": [],
   "source": []
  },
  {
   "cell_type": "markdown",
   "metadata": {},
   "source": [
    "## Urban / Rural area"
   ]
  },
  {
   "cell_type": "code",
   "execution_count": 60,
   "metadata": {},
   "outputs": [
    {
     "data": {
      "text/html": [
       "<div>\n",
       "<style>\n",
       "    .dataframe thead tr:only-child th {\n",
       "        text-align: right;\n",
       "    }\n",
       "\n",
       "    .dataframe thead th {\n",
       "        text-align: left;\n",
       "    }\n",
       "\n",
       "    .dataframe tbody tr th {\n",
       "        vertical-align: top;\n",
       "    }\n",
       "</style>\n",
       "<table border=\"1\" class=\"dataframe\">\n",
       "  <thead>\n",
       "    <tr style=\"text-align: right;\">\n",
       "      <th></th>\n",
       "      <th>UrbanAreaAssos</th>\n",
       "      <th>zipcode</th>\n",
       "    </tr>\n",
       "  </thead>\n",
       "  <tbody>\n",
       "    <tr>\n",
       "      <th>0</th>\n",
       "      <td>Abbeville, LA Urban Cluster</td>\n",
       "      <td>70510</td>\n",
       "    </tr>\n",
       "    <tr>\n",
       "      <th>1</th>\n",
       "      <td>Abbeville, LA Urban Cluster</td>\n",
       "      <td>70528</td>\n",
       "    </tr>\n",
       "    <tr>\n",
       "      <th>2</th>\n",
       "      <td>Abbeville, LA Urban Cluster</td>\n",
       "      <td>70533</td>\n",
       "    </tr>\n",
       "  </tbody>\n",
       "</table>\n",
       "</div>"
      ],
      "text/plain": [
       "                UrbanAreaAssos  zipcode\n",
       "0  Abbeville, LA Urban Cluster    70510\n",
       "1  Abbeville, LA Urban Cluster    70528\n",
       "2  Abbeville, LA Urban Cluster    70533"
      ]
     },
     "execution_count": 60,
     "metadata": {},
     "output_type": "execute_result"
    }
   ],
   "source": [
    "urban = pd.read_csv(\"zip_urban2.csv\")\n",
    "urban = urban[['UANAME', 'ZCTA5']]\n",
    "urban.columns = ['UrbanAreaAssos', 'zipcode']\n",
    "urban.head(3)"
   ]
  },
  {
   "cell_type": "code",
   "execution_count": 61,
   "metadata": {
    "scrolled": true
   },
   "outputs": [
    {
     "data": {
      "text/html": [
       "<div>\n",
       "<style>\n",
       "    .dataframe thead tr:only-child th {\n",
       "        text-align: right;\n",
       "    }\n",
       "\n",
       "    .dataframe thead th {\n",
       "        text-align: left;\n",
       "    }\n",
       "\n",
       "    .dataframe tbody tr th {\n",
       "        vertical-align: top;\n",
       "    }\n",
       "</style>\n",
       "<table border=\"1\" class=\"dataframe\">\n",
       "  <thead>\n",
       "    <tr style=\"text-align: right;\">\n",
       "      <th></th>\n",
       "      <th>UrbanAreaAssos</th>\n",
       "      <th>zipcode</th>\n",
       "      <th>urban/rural</th>\n",
       "    </tr>\n",
       "  </thead>\n",
       "  <tbody>\n",
       "    <tr>\n",
       "      <th>0</th>\n",
       "      <td>Abbeville, LA Urban Cluster</td>\n",
       "      <td>70510</td>\n",
       "      <td>1</td>\n",
       "    </tr>\n",
       "    <tr>\n",
       "      <th>1</th>\n",
       "      <td>Abbeville, LA Urban Cluster</td>\n",
       "      <td>70528</td>\n",
       "      <td>1</td>\n",
       "    </tr>\n",
       "    <tr>\n",
       "      <th>2</th>\n",
       "      <td>Abbeville, LA Urban Cluster</td>\n",
       "      <td>70533</td>\n",
       "      <td>1</td>\n",
       "    </tr>\n",
       "  </tbody>\n",
       "</table>\n",
       "</div>"
      ],
      "text/plain": [
       "                UrbanAreaAssos  zipcode  urban/rural\n",
       "0  Abbeville, LA Urban Cluster    70510            1\n",
       "1  Abbeville, LA Urban Cluster    70528            1\n",
       "2  Abbeville, LA Urban Cluster    70533            1"
      ]
     },
     "execution_count": 61,
     "metadata": {},
     "output_type": "execute_result"
    }
   ],
   "source": [
    "urban['urban/rural'] = np.where(urban.UrbanAreaAssos == 'Not in a 2010 urban area', 0, 1)\n",
    "urban.head(3)"
   ]
  },
  {
   "cell_type": "code",
   "execution_count": 146,
   "metadata": {},
   "outputs": [
    {
     "data": {
      "text/plain": [
       "UrbanAreaAssos    object\n",
       "zipcode           object\n",
       "urban/rural        int64\n",
       "dtype: object"
      ]
     },
     "execution_count": 146,
     "metadata": {},
     "output_type": "execute_result"
    }
   ],
   "source": [
    "urban.zipcode = urban.zipcode.astype(str)\n",
    "urban.dtypes"
   ]
  },
  {
   "cell_type": "markdown",
   "metadata": {},
   "source": [
    "----\n",
    "\n",
    "# Merge all the datasets"
   ]
  },
  {
   "cell_type": "code",
   "execution_count": 148,
   "metadata": {},
   "outputs": [
    {
     "data": {
      "text/html": [
       "<div>\n",
       "<style>\n",
       "    .dataframe thead tr:only-child th {\n",
       "        text-align: right;\n",
       "    }\n",
       "\n",
       "    .dataframe thead th {\n",
       "        text-align: left;\n",
       "    }\n",
       "\n",
       "    .dataframe tbody tr th {\n",
       "        vertical-align: top;\n",
       "    }\n",
       "</style>\n",
       "<table border=\"1\" class=\"dataframe\">\n",
       "  <thead>\n",
       "    <tr style=\"text-align: right;\">\n",
       "      <th></th>\n",
       "      <th>prctForeign</th>\n",
       "      <th>%Uninsured</th>\n",
       "      <th>%vehicle</th>\n",
       "      <th>%foodStamp</th>\n",
       "      <th>%poverty</th>\n",
       "      <th>urban/rural</th>\n",
       "    </tr>\n",
       "    <tr>\n",
       "      <th>zipcode</th>\n",
       "      <th></th>\n",
       "      <th></th>\n",
       "      <th></th>\n",
       "      <th></th>\n",
       "      <th></th>\n",
       "      <th></th>\n",
       "    </tr>\n",
       "  </thead>\n",
       "  <tbody>\n",
       "    <tr>\n",
       "      <th>10001</th>\n",
       "      <td>16.230927</td>\n",
       "      <td>6.313218</td>\n",
       "      <td>77.510070</td>\n",
       "      <td>51.290074</td>\n",
       "      <td>17.5</td>\n",
       "      <td>1</td>\n",
       "    </tr>\n",
       "    <tr>\n",
       "      <th>10002</th>\n",
       "      <td>16.301731</td>\n",
       "      <td>7.873643</td>\n",
       "      <td>76.876850</td>\n",
       "      <td>42.674401</td>\n",
       "      <td>27.8</td>\n",
       "      <td>1</td>\n",
       "    </tr>\n",
       "    <tr>\n",
       "      <th>10003</th>\n",
       "      <td>12.463227</td>\n",
       "      <td>5.066324</td>\n",
       "      <td>77.210118</td>\n",
       "      <td>48.017334</td>\n",
       "      <td>9.9</td>\n",
       "      <td>1</td>\n",
       "    </tr>\n",
       "    <tr>\n",
       "      <th>10004</th>\n",
       "      <td>15.177398</td>\n",
       "      <td>6.241787</td>\n",
       "      <td>76.513672</td>\n",
       "      <td>52.299606</td>\n",
       "      <td>4.8</td>\n",
       "      <td>1</td>\n",
       "    </tr>\n",
       "    <tr>\n",
       "      <th>10005</th>\n",
       "      <td>16.211251</td>\n",
       "      <td>5.774971</td>\n",
       "      <td>85.056784</td>\n",
       "      <td>49.311137</td>\n",
       "      <td>12.1</td>\n",
       "      <td>1</td>\n",
       "    </tr>\n",
       "  </tbody>\n",
       "</table>\n",
       "</div>"
      ],
      "text/plain": [
       "         prctForeign  %Uninsured   %vehicle  %foodStamp  %poverty  urban/rural\n",
       "zipcode                                                                       \n",
       "10001      16.230927    6.313218  77.510070   51.290074      17.5            1\n",
       "10002      16.301731    7.873643  76.876850   42.674401      27.8            1\n",
       "10003      12.463227    5.066324  77.210118   48.017334       9.9            1\n",
       "10004      15.177398    6.241787  76.513672   52.299606       4.8            1\n",
       "10005      16.211251    5.774971  85.056784   49.311137      12.1            1"
      ]
     },
     "execution_count": 148,
     "metadata": {},
     "output_type": "execute_result"
    }
   ],
   "source": [
    "df = pop.merge(pop_df, left_on = 'zipcode', right_index=True)\n",
    "df = df.merge(insurance, on='zipcode')\n",
    "df = df.merge(vehicle, on='zipcode')\n",
    "df = df.merge(foodstamp, left_on='zipcode', right_index=True)\n",
    "df = df.merge(poverty, on='zipcode')\n",
    "df = df.merge(urban, on='zipcode')\n",
    "\n",
    "df.drop([\"Name_x\", \"Name_y\", 'total_x', 'total_y', 'citizen_pop', 'foreign_pop', 'insured', 'uninsured', 'totalPop',\n",
    "        '%Insured', 'foodStamp', 'UrbanAreaAssos'], axis=1, inplace = True)\n",
    "df = df.set_index('zipcode')\n",
    "df.head()"
   ]
  },
  {
   "cell_type": "code",
   "execution_count": 149,
   "metadata": {
    "collapsed": true
   },
   "outputs": [],
   "source": [
    "df.to_csv('dataACS.csv')"
   ]
  },
  {
   "cell_type": "code",
   "execution_count": null,
   "metadata": {
    "collapsed": true
   },
   "outputs": [],
   "source": []
  }
 ],
 "metadata": {
  "kernelspec": {
   "display_name": "Python 3",
   "language": "python",
   "name": "python3"
  },
  "language_info": {
   "codemirror_mode": {
    "name": "ipython",
    "version": 3
   },
   "file_extension": ".py",
   "mimetype": "text/x-python",
   "name": "python",
   "nbconvert_exporter": "python",
   "pygments_lexer": "ipython3",
   "version": "3.6.1"
  }
 },
 "nbformat": 4,
 "nbformat_minor": 2
}
