{
 "cells": [
  {
   "cell_type": "markdown",
   "metadata": {},
   "source": [
    "# Kernal Used: Python 2"
   ]
  },
  {
   "cell_type": "code",
   "execution_count": 1,
   "metadata": {},
   "outputs": [],
   "source": [
    "import pandas as pd\n",
    "import numpy as np\n",
    "from sklearn.model_selection import train_test_split\n",
    "from pgmpy.estimators import HillClimbSearch,BicScore,BayesianEstimator\n",
    "from pgmpy.models import BayesianModel\n",
    "from matplotlib import pyplot as plt\n",
    "from pgmpy.estimators import BdeuScore, K2Score, BicScore\n",
    "from sklearn.ensemble import RandomForestClassifier\n",
    "\n",
    "#import BNfinder as bnf"
   ]
  },
  {
   "cell_type": "code",
   "execution_count": 2,
   "metadata": {},
   "outputs": [
    {
     "name": "stdout",
     "output_type": "stream",
     "text": [
      "(1454, 9)\n"
     ]
    },
    {
     "data": {
      "text/html": [
       "<div>\n",
       "<table border=\"1\" class=\"dataframe\">\n",
       "  <thead>\n",
       "    <tr style=\"text-align: right;\">\n",
       "      <th></th>\n",
       "      <th>zipcode</th>\n",
       "      <th>%Foreign</th>\n",
       "      <th>%Uninsured</th>\n",
       "      <th>%vehicle</th>\n",
       "      <th>%foodStamp</th>\n",
       "      <th>%poverty</th>\n",
       "      <th>urban</th>\n",
       "      <th>%PrematureBirth</th>\n",
       "      <th>@LowBirthWeight</th>\n",
       "    </tr>\n",
       "  </thead>\n",
       "  <tbody>\n",
       "    <tr>\n",
       "      <th>0</th>\n",
       "      <td>10001</td>\n",
       "      <td>16.230927</td>\n",
       "      <td>6.313218</td>\n",
       "      <td>77.510070</td>\n",
       "      <td>51.290074</td>\n",
       "      <td>17.5</td>\n",
       "      <td>1</td>\n",
       "      <td>10.5</td>\n",
       "      <td>11.0</td>\n",
       "    </tr>\n",
       "    <tr>\n",
       "      <th>1</th>\n",
       "      <td>10002</td>\n",
       "      <td>16.301731</td>\n",
       "      <td>7.873643</td>\n",
       "      <td>76.876850</td>\n",
       "      <td>42.674401</td>\n",
       "      <td>27.8</td>\n",
       "      <td>1</td>\n",
       "      <td>8.9</td>\n",
       "      <td>6.6</td>\n",
       "    </tr>\n",
       "    <tr>\n",
       "      <th>2</th>\n",
       "      <td>10003</td>\n",
       "      <td>12.463227</td>\n",
       "      <td>5.066324</td>\n",
       "      <td>77.210118</td>\n",
       "      <td>48.017334</td>\n",
       "      <td>9.9</td>\n",
       "      <td>1</td>\n",
       "      <td>9.7</td>\n",
       "      <td>8.7</td>\n",
       "    </tr>\n",
       "    <tr>\n",
       "      <th>3</th>\n",
       "      <td>10004</td>\n",
       "      <td>15.177398</td>\n",
       "      <td>6.241787</td>\n",
       "      <td>76.513672</td>\n",
       "      <td>52.299606</td>\n",
       "      <td>4.8</td>\n",
       "      <td>1</td>\n",
       "      <td>8.7</td>\n",
       "      <td>6.7</td>\n",
       "    </tr>\n",
       "    <tr>\n",
       "      <th>4</th>\n",
       "      <td>10005</td>\n",
       "      <td>16.211251</td>\n",
       "      <td>5.774971</td>\n",
       "      <td>85.056784</td>\n",
       "      <td>49.311137</td>\n",
       "      <td>12.1</td>\n",
       "      <td>1</td>\n",
       "      <td>10.7</td>\n",
       "      <td>6.0</td>\n",
       "    </tr>\n",
       "  </tbody>\n",
       "</table>\n",
       "</div>"
      ],
      "text/plain": [
       "   zipcode   %Foreign  %Uninsured   %vehicle  %foodStamp  %poverty  urban  \\\n",
       "0    10001  16.230927    6.313218  77.510070   51.290074      17.5      1   \n",
       "1    10002  16.301731    7.873643  76.876850   42.674401      27.8      1   \n",
       "2    10003  12.463227    5.066324  77.210118   48.017334       9.9      1   \n",
       "3    10004  15.177398    6.241787  76.513672   52.299606       4.8      1   \n",
       "4    10005  16.211251    5.774971  85.056784   49.311137      12.1      1   \n",
       "\n",
       "   %PrematureBirth  @LowBirthWeight  \n",
       "0             10.5             11.0  \n",
       "1              8.9              6.6  \n",
       "2              9.7              8.7  \n",
       "3              8.7              6.7  \n",
       "4             10.7              6.0  "
      ]
     },
     "execution_count": 2,
     "metadata": {},
     "output_type": "execute_result"
    }
   ],
   "source": [
    "df = pd.read_csv(\"dataAll.csv\")\n",
    "#df = df.drop(\"Unnamed: 0\", axis = 1)\n",
    "df = df.dropna()\n",
    "print df.shape\n",
    "df.head()"
   ]
  },
  {
   "cell_type": "markdown",
   "metadata": {},
   "source": [
    "## Premature Birth without Teen Birth Rate"
   ]
  },
  {
   "cell_type": "code",
   "execution_count": 3,
   "metadata": {},
   "outputs": [
    {
     "name": "stdout",
     "output_type": "stream",
     "text": [
      "(1454, 7)\n"
     ]
    },
    {
     "data": {
      "text/html": [
       "<div>\n",
       "<table border=\"1\" class=\"dataframe\">\n",
       "  <thead>\n",
       "    <tr style=\"text-align: right;\">\n",
       "      <th></th>\n",
       "      <th>%Uninsured</th>\n",
       "      <th>%vehicle</th>\n",
       "      <th>%foodStamp</th>\n",
       "      <th>%poverty</th>\n",
       "      <th>%Foreign</th>\n",
       "      <th>urban</th>\n",
       "      <th>%PrematureBirth</th>\n",
       "    </tr>\n",
       "  </thead>\n",
       "  <tbody>\n",
       "    <tr>\n",
       "      <th>0</th>\n",
       "      <td>6.313218</td>\n",
       "      <td>77.510070</td>\n",
       "      <td>51.290074</td>\n",
       "      <td>17.5</td>\n",
       "      <td>16.230927</td>\n",
       "      <td>1</td>\n",
       "      <td>10.5</td>\n",
       "    </tr>\n",
       "    <tr>\n",
       "      <th>1</th>\n",
       "      <td>7.873643</td>\n",
       "      <td>76.876850</td>\n",
       "      <td>42.674401</td>\n",
       "      <td>27.8</td>\n",
       "      <td>16.301731</td>\n",
       "      <td>1</td>\n",
       "      <td>8.9</td>\n",
       "    </tr>\n",
       "    <tr>\n",
       "      <th>2</th>\n",
       "      <td>5.066324</td>\n",
       "      <td>77.210118</td>\n",
       "      <td>48.017334</td>\n",
       "      <td>9.9</td>\n",
       "      <td>12.463227</td>\n",
       "      <td>1</td>\n",
       "      <td>9.7</td>\n",
       "    </tr>\n",
       "    <tr>\n",
       "      <th>3</th>\n",
       "      <td>6.241787</td>\n",
       "      <td>76.513672</td>\n",
       "      <td>52.299606</td>\n",
       "      <td>4.8</td>\n",
       "      <td>15.177398</td>\n",
       "      <td>1</td>\n",
       "      <td>8.7</td>\n",
       "    </tr>\n",
       "    <tr>\n",
       "      <th>4</th>\n",
       "      <td>5.774971</td>\n",
       "      <td>85.056784</td>\n",
       "      <td>49.311137</td>\n",
       "      <td>12.1</td>\n",
       "      <td>16.211251</td>\n",
       "      <td>1</td>\n",
       "      <td>10.7</td>\n",
       "    </tr>\n",
       "  </tbody>\n",
       "</table>\n",
       "</div>"
      ],
      "text/plain": [
       "   %Uninsured   %vehicle  %foodStamp  %poverty   %Foreign  urban  \\\n",
       "0    6.313218  77.510070   51.290074      17.5  16.230927      1   \n",
       "1    7.873643  76.876850   42.674401      27.8  16.301731      1   \n",
       "2    5.066324  77.210118   48.017334       9.9  12.463227      1   \n",
       "3    6.241787  76.513672   52.299606       4.8  15.177398      1   \n",
       "4    5.774971  85.056784   49.311137      12.1  16.211251      1   \n",
       "\n",
       "   %PrematureBirth  \n",
       "0             10.5  \n",
       "1              8.9  \n",
       "2              9.7  \n",
       "3              8.7  \n",
       "4             10.7  "
      ]
     },
     "execution_count": 3,
     "metadata": {},
     "output_type": "execute_result"
    }
   ],
   "source": [
    "dfunpren = df[['%Uninsured','%vehicle','%foodStamp','%poverty',\n",
    "          '%Foreign','urban','%PrematureBirth']]\n",
    "print dfunpren.shape\n",
    "dfunpren.head()"
   ]
  },
  {
   "cell_type": "code",
   "execution_count": 4,
   "metadata": {},
   "outputs": [
    {
     "name": "stderr",
     "output_type": "stream",
     "text": [
      "/Users/emilypadvorac/anaconda3/envs/ipykernel_py2/lib/python2.7/site-packages/ipykernel_launcher.py:2: SettingWithCopyWarning: \n",
      "A value is trying to be set on a copy of a slice from a DataFrame.\n",
      "Try using .loc[row_indexer,col_indexer] = value instead\n",
      "\n",
      "See the caveats in the documentation: http://pandas.pydata.org/pandas-docs/stable/indexing.html#indexing-view-versus-copy\n",
      "  \n"
     ]
    },
    {
     "name": "stdout",
     "output_type": "stream",
     "text": [
      "   %Uninsured  %vehicle  %foodStamp  %poverty  %Foreign  urban  \\\n",
      "0           1         3           3         3         3      1   \n",
      "1           2         3           3         3         3      1   \n",
      "2           1         3           3         1         3      1   \n",
      "3           1         3           3         0         3      1   \n",
      "4           1         3           3         2         3      1   \n",
      "\n",
      "   %PrematureBirth  \n",
      "0                2  \n",
      "1                1  \n",
      "2                1  \n",
      "3                1  \n",
      "4                2  \n"
     ]
    }
   ],
   "source": [
    "for i in dfunpren:\n",
    "    dfunpren[i] = pd.qcut(dfunpren[i].rank(method='first'),4,labels=False)\n",
    "print dfunpren.head()"
   ]
  },
  {
   "cell_type": "code",
   "execution_count": 5,
   "metadata": {},
   "outputs": [
    {
     "data": {
      "text/plain": [
       "3    364\n",
       "0    364\n",
       "2    363\n",
       "1    363\n",
       "Name: %PrematureBirth, dtype: int64"
      ]
     },
     "execution_count": 5,
     "metadata": {},
     "output_type": "execute_result"
    }
   ],
   "source": [
    "dfunpren['%PrematureBirth'].value_counts()"
   ]
  },
  {
   "cell_type": "code",
   "execution_count": 6,
   "metadata": {},
   "outputs": [],
   "source": [
    "train,test=train_test_split(dfunpren,random_state=999,test_size=0.4)"
   ]
  },
  {
   "cell_type": "code",
   "execution_count": 7,
   "metadata": {},
   "outputs": [
    {
     "name": "stdout",
     "output_type": "stream",
     "text": [
      "[('urban', '%Foreign'), ('%Foreign', '%foodStamp'), ('%Foreign', '%vehicle'), ('%poverty', '%Uninsured'), ('%vehicle', '%poverty')]\n"
     ]
    }
   ],
   "source": [
    "hc = HillClimbSearch(train, scoring_method=BicScore(train))\n",
    "best_model = hc.estimate()\n",
    "print(best_model.edges())"
   ]
  },
  {
   "cell_type": "code",
   "execution_count": 8,
   "metadata": {},
   "outputs": [
    {
     "name": "stdout",
     "output_type": "stream",
     "text": [
      "CPD of urban:\n",
      "+----------+----------+\n",
      "| urban(0) | 0.256849 |\n",
      "+----------+----------+\n",
      "| urban(1) | 0.239726 |\n",
      "+----------+----------+\n",
      "| urban(2) | 0.251142 |\n",
      "+----------+----------+\n",
      "| urban(3) | 0.252283 |\n",
      "+----------+----------+\n",
      "CPD of %PrematureBirth:\n",
      "+--------------------+----------+\n",
      "| %PrematureBirth(0) | 0.25     |\n",
      "+--------------------+----------+\n",
      "| %PrematureBirth(1) | 0.25     |\n",
      "+--------------------+----------+\n",
      "| %PrematureBirth(2) | 0.259132 |\n",
      "+--------------------+----------+\n",
      "| %PrematureBirth(3) | 0.240868 |\n",
      "+--------------------+----------+\n",
      "CPD of %Foreign:\n",
      "+-------------+---------------------+---------------------+---------------------+---------------------+\n",
      "| urban       | urban(0)            | urban(1)            | urban(2)            | urban(3)            |\n",
      "+-------------+---------------------+---------------------+---------------------+---------------------+\n",
      "| %Foreign(0) | 0.41228070175438597 | 0.29577464788732394 | 0.07174887892376682 | 0.21875             |\n",
      "+-------------+---------------------+---------------------+---------------------+---------------------+\n",
      "| %Foreign(1) | 0.3201754385964912  | 0.15023474178403756 | 0.12556053811659193 | 0.38392857142857145 |\n",
      "+-------------+---------------------+---------------------+---------------------+---------------------+\n",
      "| %Foreign(2) | 0.21052631578947367 | 0.1784037558685446  | 0.24663677130044842 | 0.32142857142857145 |\n",
      "+-------------+---------------------+---------------------+---------------------+---------------------+\n",
      "| %Foreign(3) | 0.05701754385964912 | 0.3755868544600939  | 0.5560538116591929  | 0.07589285714285714 |\n",
      "+-------------+---------------------+---------------------+---------------------+---------------------+\n",
      "CPD of %foodStamp:\n",
      "+---------------+---------------------+--------------------+---------------------+---------------------+\n",
      "| %Foreign      | %Foreign(0)         | %Foreign(1)        | %Foreign(2)         | %Foreign(3)         |\n",
      "+---------------+---------------------+--------------------+---------------------+---------------------+\n",
      "| %foodStamp(0) | 0.11261261261261261 | 0.1141552511415525 | 0.2863849765258216  | 0.49572649572649574 |\n",
      "+---------------+---------------------+--------------------+---------------------+---------------------+\n",
      "| %foodStamp(1) | 0.31981981981981983 | 0.228310502283105  | 0.2676056338028169  | 0.19230769230769232 |\n",
      "+---------------+---------------------+--------------------+---------------------+---------------------+\n",
      "| %foodStamp(2) | 0.31981981981981983 | 0.3881278538812785 | 0.20657276995305165 | 0.10683760683760683 |\n",
      "+---------------+---------------------+--------------------+---------------------+---------------------+\n",
      "| %foodStamp(3) | 0.24774774774774774 | 0.2694063926940639 | 0.23943661971830985 | 0.20512820512820512 |\n",
      "+---------------+---------------------+--------------------+---------------------+---------------------+\n",
      "CPD of %poverty:\n",
      "+-------------+---------------------+---------------------+---------------------+---------------------+\n",
      "| %vehicle    | %vehicle(0)         | %vehicle(1)         | %vehicle(2)         | %vehicle(3)         |\n",
      "+-------------+---------------------+---------------------+---------------------+---------------------+\n",
      "| %poverty(0) | 0.37117903930131    | 0.3755868544600939  | 0.21304347826086956 | 0.05092592592592592 |\n",
      "+-------------+---------------------+---------------------+---------------------+---------------------+\n",
      "| %poverty(1) | 0.2576419213973799  | 0.3286384976525822  | 0.26521739130434785 | 0.1527777777777778  |\n",
      "+-------------+---------------------+---------------------+---------------------+---------------------+\n",
      "| %poverty(2) | 0.19213973799126638 | 0.215962441314554   | 0.3130434782608696  | 0.26851851851851855 |\n",
      "+-------------+---------------------+---------------------+---------------------+---------------------+\n",
      "| %poverty(3) | 0.17903930131004367 | 0.07981220657276995 | 0.20869565217391303 | 0.5277777777777778  |\n",
      "+-------------+---------------------+---------------------+---------------------+---------------------+\n",
      "CPD of %Uninsured:\n",
      "+---------------+---------------------+---------------------+---------------------+---------------------+\n",
      "| %poverty      | %poverty(0)         | %poverty(1)         | %poverty(2)         | %poverty(3)         |\n",
      "+---------------+---------------------+---------------------+---------------------+---------------------+\n",
      "| %Uninsured(0) | 0.5111111111111111  | 0.273542600896861   | 0.12727272727272726 | 0.08181818181818182 |\n",
      "+---------------+---------------------+---------------------+---------------------+---------------------+\n",
      "| %Uninsured(1) | 0.26666666666666666 | 0.273542600896861   | 0.22272727272727272 | 0.14545454545454545 |\n",
      "+---------------+---------------------+---------------------+---------------------+---------------------+\n",
      "| %Uninsured(2) | 0.13333333333333333 | 0.2645739910313901  | 0.3181818181818182  | 0.31363636363636366 |\n",
      "+---------------+---------------------+---------------------+---------------------+---------------------+\n",
      "| %Uninsured(3) | 0.08888888888888889 | 0.18834080717488788 | 0.33181818181818185 | 0.4590909090909091  |\n",
      "+---------------+---------------------+---------------------+---------------------+---------------------+\n",
      "CPD of %vehicle:\n",
      "+-------------+---------------------+--------------------+---------------------+---------------------+\n",
      "| %Foreign    | %Foreign(0)         | %Foreign(1)        | %Foreign(2)         | %Foreign(3)         |\n",
      "+-------------+---------------------+--------------------+---------------------+---------------------+\n",
      "| %vehicle(0) | 0.4099099099099099  | 0.273972602739726  | 0.27699530516431925 | 0.0811965811965812  |\n",
      "+-------------+---------------------+--------------------+---------------------+---------------------+\n",
      "| %vehicle(1) | 0.19369369369369369 | 0.3470319634703196 | 0.3051643192488263  | 0.12393162393162394 |\n",
      "+-------------+---------------------+--------------------+---------------------+---------------------+\n",
      "| %vehicle(2) | 0.2927927927927928  | 0.2785388127853881 | 0.28169014084507044 | 0.18803418803418803 |\n",
      "+-------------+---------------------+--------------------+---------------------+---------------------+\n",
      "| %vehicle(3) | 0.1036036036036036  | 0.1004566210045662 | 0.13615023474178403 | 0.6068376068376068  |\n",
      "+-------------+---------------------+--------------------+---------------------+---------------------+\n"
     ]
    }
   ],
   "source": [
    "best_model.fit(train, estimator=BayesianEstimator, prior_type='K2')\n",
    "for cpd in best_model.get_cpds():\n",
    "    print(\"CPD of {variable}:\".format(variable=cpd.variable))\n",
    "    print(cpd)"
   ]
  },
  {
   "cell_type": "code",
   "execution_count": 9,
   "metadata": {},
   "outputs": [
    {
     "name": "stdout",
     "output_type": "stream",
     "text": [
      "Out of sample: 0.23539518900343642\n"
     ]
    }
   ],
   "source": [
    "predicted_test = best_model.predict(test.loc[:,\"%Uninsured\":\"urban\"])\n",
    "print \"Out of sample:\",(test.loc[:,\"%PrematureBirth\"]==predicted_test[\"%PrematureBirth\"]).mean()"
   ]
  },
  {
   "cell_type": "code",
   "execution_count": 10,
   "metadata": {
    "scrolled": true
   },
   "outputs": [
    {
     "name": "stdout",
     "output_type": "stream",
     "text": [
      "In sample: 0.2591743119266055\n",
      "Out of sample: 0.23539518900343642\n"
     ]
    }
   ],
   "source": [
    "predicted_train = best_model.predict(train.loc[:,\"%Uninsured\":\"urban\"]-1)\n",
    "print \"In sample:\",(train.loc[:,'%PrematureBirth']==predicted_train['%PrematureBirth']).mean()\n",
    "predicted_test = best_model.predict(test.loc[:,\"%Uninsured\":\"urban\"]-1)\n",
    "print \"Out of sample:\",(test.loc[:,'%PrematureBirth']==predicted_test['%PrematureBirth']).mean()"
   ]
  },
  {
   "cell_type": "markdown",
   "metadata": {},
   "source": [
    "## Low Birth Weight no Teen Birth Rate"
   ]
  },
  {
   "cell_type": "code",
   "execution_count": 11,
   "metadata": {},
   "outputs": [
    {
     "name": "stdout",
     "output_type": "stream",
     "text": [
      "(1454, 7)\n"
     ]
    },
    {
     "data": {
      "text/html": [
       "<div>\n",
       "<table border=\"1\" class=\"dataframe\">\n",
       "  <thead>\n",
       "    <tr style=\"text-align: right;\">\n",
       "      <th></th>\n",
       "      <th>%Uninsured</th>\n",
       "      <th>%vehicle</th>\n",
       "      <th>%foodStamp</th>\n",
       "      <th>%poverty</th>\n",
       "      <th>%Foreign</th>\n",
       "      <th>urban</th>\n",
       "      <th>@LowBirthWeight</th>\n",
       "    </tr>\n",
       "  </thead>\n",
       "  <tbody>\n",
       "    <tr>\n",
       "      <th>0</th>\n",
       "      <td>6.313218</td>\n",
       "      <td>77.510070</td>\n",
       "      <td>51.290074</td>\n",
       "      <td>17.5</td>\n",
       "      <td>16.230927</td>\n",
       "      <td>1</td>\n",
       "      <td>11.0</td>\n",
       "    </tr>\n",
       "    <tr>\n",
       "      <th>1</th>\n",
       "      <td>7.873643</td>\n",
       "      <td>76.876850</td>\n",
       "      <td>42.674401</td>\n",
       "      <td>27.8</td>\n",
       "      <td>16.301731</td>\n",
       "      <td>1</td>\n",
       "      <td>6.6</td>\n",
       "    </tr>\n",
       "    <tr>\n",
       "      <th>2</th>\n",
       "      <td>5.066324</td>\n",
       "      <td>77.210118</td>\n",
       "      <td>48.017334</td>\n",
       "      <td>9.9</td>\n",
       "      <td>12.463227</td>\n",
       "      <td>1</td>\n",
       "      <td>8.7</td>\n",
       "    </tr>\n",
       "    <tr>\n",
       "      <th>3</th>\n",
       "      <td>6.241787</td>\n",
       "      <td>76.513672</td>\n",
       "      <td>52.299606</td>\n",
       "      <td>4.8</td>\n",
       "      <td>15.177398</td>\n",
       "      <td>1</td>\n",
       "      <td>6.7</td>\n",
       "    </tr>\n",
       "    <tr>\n",
       "      <th>4</th>\n",
       "      <td>5.774971</td>\n",
       "      <td>85.056784</td>\n",
       "      <td>49.311137</td>\n",
       "      <td>12.1</td>\n",
       "      <td>16.211251</td>\n",
       "      <td>1</td>\n",
       "      <td>6.0</td>\n",
       "    </tr>\n",
       "  </tbody>\n",
       "</table>\n",
       "</div>"
      ],
      "text/plain": [
       "   %Uninsured   %vehicle  %foodStamp  %poverty   %Foreign  urban  \\\n",
       "0    6.313218  77.510070   51.290074      17.5  16.230927      1   \n",
       "1    7.873643  76.876850   42.674401      27.8  16.301731      1   \n",
       "2    5.066324  77.210118   48.017334       9.9  12.463227      1   \n",
       "3    6.241787  76.513672   52.299606       4.8  15.177398      1   \n",
       "4    5.774971  85.056784   49.311137      12.1  16.211251      1   \n",
       "\n",
       "   @LowBirthWeight  \n",
       "0             11.0  \n",
       "1              6.6  \n",
       "2              8.7  \n",
       "3              6.7  \n",
       "4              6.0  "
      ]
     },
     "execution_count": 11,
     "metadata": {},
     "output_type": "execute_result"
    }
   ],
   "source": [
    "dflbpre = df[['%Uninsured','%vehicle','%foodStamp','%poverty',\n",
    "          '%Foreign','urban','@LowBirthWeight']]\n",
    "print dflbpre.shape\n",
    "dflbpre.head()"
   ]
  },
  {
   "cell_type": "code",
   "execution_count": 12,
   "metadata": {},
   "outputs": [
    {
     "name": "stdout",
     "output_type": "stream",
     "text": [
      "   %Uninsured  %vehicle  %foodStamp  %poverty  %Foreign  urban  \\\n",
      "0           1         3           3         3         3      1   \n",
      "1           2         3           3         3         3      1   \n",
      "2           1         3           3         1         3      1   \n",
      "3           1         3           3         0         3      1   \n",
      "4           1         3           3         2         3      1   \n",
      "\n",
      "   @LowBirthWeight  \n",
      "0                3  \n",
      "1                1  \n",
      "2                2  \n",
      "3                1  \n",
      "4                1  \n"
     ]
    },
    {
     "name": "stderr",
     "output_type": "stream",
     "text": [
      "/Users/emilypadvorac/anaconda3/envs/ipykernel_py2/lib/python2.7/site-packages/ipykernel_launcher.py:2: SettingWithCopyWarning: \n",
      "A value is trying to be set on a copy of a slice from a DataFrame.\n",
      "Try using .loc[row_indexer,col_indexer] = value instead\n",
      "\n",
      "See the caveats in the documentation: http://pandas.pydata.org/pandas-docs/stable/indexing.html#indexing-view-versus-copy\n",
      "  \n"
     ]
    }
   ],
   "source": [
    "for i in dflbpre:\n",
    "    dflbpre[i] = pd.qcut(dflbpre[i].rank(method='first'),4,labels=False)\n",
    "print dflbpre.head()"
   ]
  },
  {
   "cell_type": "code",
   "execution_count": 14,
   "metadata": {},
   "outputs": [
    {
     "data": {
      "text/plain": [
       "3    364\n",
       "0    364\n",
       "2    363\n",
       "1    363\n",
       "Name: @LowBirthWeight, dtype: int64"
      ]
     },
     "execution_count": 14,
     "metadata": {},
     "output_type": "execute_result"
    }
   ],
   "source": [
    "dflbpre['@LowBirthWeight'].value_counts()"
   ]
  },
  {
   "cell_type": "code",
   "execution_count": 15,
   "metadata": {},
   "outputs": [],
   "source": [
    "train,test=train_test_split(dflbpre,random_state=999,test_size=0.4)"
   ]
  },
  {
   "cell_type": "code",
   "execution_count": 16,
   "metadata": {},
   "outputs": [
    {
     "name": "stdout",
     "output_type": "stream",
     "text": [
      "[('urban', '%Foreign'), ('%Foreign', '%foodStamp'), ('%Foreign', '%vehicle'), ('%poverty', '%Uninsured'), ('%vehicle', '%poverty'), ('%vehicle', '@LowBirthWeight')]\n"
     ]
    }
   ],
   "source": [
    "hc = HillClimbSearch(train, scoring_method=BicScore(train))\n",
    "best_model = hc.estimate()\n",
    "print(best_model.edges())"
   ]
  },
  {
   "cell_type": "code",
   "execution_count": 17,
   "metadata": {},
   "outputs": [
    {
     "name": "stdout",
     "output_type": "stream",
     "text": [
      "CPD of urban:\n",
      "+----------+----------+\n",
      "| urban(0) | 0.256849 |\n",
      "+----------+----------+\n",
      "| urban(1) | 0.239726 |\n",
      "+----------+----------+\n",
      "| urban(2) | 0.251142 |\n",
      "+----------+----------+\n",
      "| urban(3) | 0.252283 |\n",
      "+----------+----------+\n",
      "CPD of %Foreign:\n",
      "+-------------+---------------------+---------------------+---------------------+---------------------+\n",
      "| urban       | urban(0)            | urban(1)            | urban(2)            | urban(3)            |\n",
      "+-------------+---------------------+---------------------+---------------------+---------------------+\n",
      "| %Foreign(0) | 0.41228070175438597 | 0.29577464788732394 | 0.07174887892376682 | 0.21875             |\n",
      "+-------------+---------------------+---------------------+---------------------+---------------------+\n",
      "| %Foreign(1) | 0.3201754385964912  | 0.15023474178403756 | 0.12556053811659193 | 0.38392857142857145 |\n",
      "+-------------+---------------------+---------------------+---------------------+---------------------+\n",
      "| %Foreign(2) | 0.21052631578947367 | 0.1784037558685446  | 0.24663677130044842 | 0.32142857142857145 |\n",
      "+-------------+---------------------+---------------------+---------------------+---------------------+\n",
      "| %Foreign(3) | 0.05701754385964912 | 0.3755868544600939  | 0.5560538116591929  | 0.07589285714285714 |\n",
      "+-------------+---------------------+---------------------+---------------------+---------------------+\n",
      "CPD of %foodStamp:\n",
      "+---------------+---------------------+--------------------+---------------------+---------------------+\n",
      "| %Foreign      | %Foreign(0)         | %Foreign(1)        | %Foreign(2)         | %Foreign(3)         |\n",
      "+---------------+---------------------+--------------------+---------------------+---------------------+\n",
      "| %foodStamp(0) | 0.11261261261261261 | 0.1141552511415525 | 0.2863849765258216  | 0.49572649572649574 |\n",
      "+---------------+---------------------+--------------------+---------------------+---------------------+\n",
      "| %foodStamp(1) | 0.31981981981981983 | 0.228310502283105  | 0.2676056338028169  | 0.19230769230769232 |\n",
      "+---------------+---------------------+--------------------+---------------------+---------------------+\n",
      "| %foodStamp(2) | 0.31981981981981983 | 0.3881278538812785 | 0.20657276995305165 | 0.10683760683760683 |\n",
      "+---------------+---------------------+--------------------+---------------------+---------------------+\n",
      "| %foodStamp(3) | 0.24774774774774774 | 0.2694063926940639 | 0.23943661971830985 | 0.20512820512820512 |\n",
      "+---------------+---------------------+--------------------+---------------------+---------------------+\n",
      "CPD of @LowBirthWeight:\n",
      "+--------------------+---------------------+---------------------+---------------------+---------------------+\n",
      "| %vehicle           | %vehicle(0)         | %vehicle(1)         | %vehicle(2)         | %vehicle(3)         |\n",
      "+--------------------+---------------------+---------------------+---------------------+---------------------+\n",
      "| @LowBirthWeight(0) | 0.4366812227074236  | 0.24882629107981222 | 0.20869565217391303 | 0.14814814814814814 |\n",
      "+--------------------+---------------------+---------------------+---------------------+---------------------+\n",
      "| @LowBirthWeight(1) | 0.14847161572052403 | 0.30985915492957744 | 0.3                 | 0.20833333333333334 |\n",
      "+--------------------+---------------------+---------------------+---------------------+---------------------+\n",
      "| @LowBirthWeight(2) | 0.18340611353711792 | 0.27230046948356806 | 0.30869565217391304 | 0.28703703703703703 |\n",
      "+--------------------+---------------------+---------------------+---------------------+---------------------+\n",
      "| @LowBirthWeight(3) | 0.2314410480349345  | 0.16901408450704225 | 0.1826086956521739  | 0.35648148148148145 |\n",
      "+--------------------+---------------------+---------------------+---------------------+---------------------+\n",
      "CPD of %poverty:\n",
      "+-------------+---------------------+---------------------+---------------------+---------------------+\n",
      "| %vehicle    | %vehicle(0)         | %vehicle(1)         | %vehicle(2)         | %vehicle(3)         |\n",
      "+-------------+---------------------+---------------------+---------------------+---------------------+\n",
      "| %poverty(0) | 0.37117903930131    | 0.3755868544600939  | 0.21304347826086956 | 0.05092592592592592 |\n",
      "+-------------+---------------------+---------------------+---------------------+---------------------+\n",
      "| %poverty(1) | 0.2576419213973799  | 0.3286384976525822  | 0.26521739130434785 | 0.1527777777777778  |\n",
      "+-------------+---------------------+---------------------+---------------------+---------------------+\n",
      "| %poverty(2) | 0.19213973799126638 | 0.215962441314554   | 0.3130434782608696  | 0.26851851851851855 |\n",
      "+-------------+---------------------+---------------------+---------------------+---------------------+\n",
      "| %poverty(3) | 0.17903930131004367 | 0.07981220657276995 | 0.20869565217391303 | 0.5277777777777778  |\n",
      "+-------------+---------------------+---------------------+---------------------+---------------------+\n",
      "CPD of %Uninsured:\n",
      "+---------------+---------------------+---------------------+---------------------+---------------------+\n",
      "| %poverty      | %poverty(0)         | %poverty(1)         | %poverty(2)         | %poverty(3)         |\n",
      "+---------------+---------------------+---------------------+---------------------+---------------------+\n",
      "| %Uninsured(0) | 0.5111111111111111  | 0.273542600896861   | 0.12727272727272726 | 0.08181818181818182 |\n",
      "+---------------+---------------------+---------------------+---------------------+---------------------+\n",
      "| %Uninsured(1) | 0.26666666666666666 | 0.273542600896861   | 0.22272727272727272 | 0.14545454545454545 |\n",
      "+---------------+---------------------+---------------------+---------------------+---------------------+\n",
      "| %Uninsured(2) | 0.13333333333333333 | 0.2645739910313901  | 0.3181818181818182  | 0.31363636363636366 |\n",
      "+---------------+---------------------+---------------------+---------------------+---------------------+\n",
      "| %Uninsured(3) | 0.08888888888888889 | 0.18834080717488788 | 0.33181818181818185 | 0.4590909090909091  |\n",
      "+---------------+---------------------+---------------------+---------------------+---------------------+\n",
      "CPD of %vehicle:\n",
      "+-------------+---------------------+--------------------+---------------------+---------------------+\n",
      "| %Foreign    | %Foreign(0)         | %Foreign(1)        | %Foreign(2)         | %Foreign(3)         |\n",
      "+-------------+---------------------+--------------------+---------------------+---------------------+\n",
      "| %vehicle(0) | 0.4099099099099099  | 0.273972602739726  | 0.27699530516431925 | 0.0811965811965812  |\n",
      "+-------------+---------------------+--------------------+---------------------+---------------------+\n",
      "| %vehicle(1) | 0.19369369369369369 | 0.3470319634703196 | 0.3051643192488263  | 0.12393162393162394 |\n",
      "+-------------+---------------------+--------------------+---------------------+---------------------+\n",
      "| %vehicle(2) | 0.2927927927927928  | 0.2785388127853881 | 0.28169014084507044 | 0.18803418803418803 |\n",
      "+-------------+---------------------+--------------------+---------------------+---------------------+\n",
      "| %vehicle(3) | 0.1036036036036036  | 0.1004566210045662 | 0.13615023474178403 | 0.6068376068376068  |\n",
      "+-------------+---------------------+--------------------+---------------------+---------------------+\n"
     ]
    }
   ],
   "source": [
    "best_model.fit(train, estimator=BayesianEstimator, prior_type='K2')\n",
    "for cpd in best_model.get_cpds():\n",
    "    print(\"CPD of {variable}:\".format(variable=cpd.variable))\n",
    "    print(cpd)"
   ]
  },
  {
   "cell_type": "code",
   "execution_count": 18,
   "metadata": {},
   "outputs": [
    {
     "name": "stdout",
     "output_type": "stream",
     "text": [
      "Out of sample: 0.31099656357388317\n"
     ]
    }
   ],
   "source": [
    "predicted_test = best_model.predict(test.loc[:,\"%Uninsured\":\"urban\"])\n",
    "print \"Out of sample:\",(test.loc[:,\"@LowBirthWeight\"]==predicted_test[\"@LowBirthWeight\"]).mean()"
   ]
  },
  {
   "cell_type": "code",
   "execution_count": 19,
   "metadata": {},
   "outputs": [
    {
     "name": "stdout",
     "output_type": "stream",
     "text": [
      "In sample: 0.2672018348623853\n",
      "Out of sample: 0.29896907216494845\n"
     ]
    }
   ],
   "source": [
    "predicted_train = best_model.predict(train.loc[:,\"%Uninsured\":\"urban\"]-1)\n",
    "print \"In sample:\",(train.loc[:,'@LowBirthWeight']==predicted_train['@LowBirthWeight']).mean()\n",
    "predicted_test = best_model.predict(test.loc[:,\"%Uninsured\":\"urban\"]-1)\n",
    "print \"Out of sample:\",(test.loc[:,'@LowBirthWeight']==predicted_test['@LowBirthWeight']).mean()"
   ]
  }
 ],
 "metadata": {
  "kernelspec": {
   "display_name": "Python 2",
   "language": "python",
   "name": "python2"
  },
  "language_info": {
   "codemirror_mode": {
    "name": "ipython",
    "version": 2
   },
   "file_extension": ".py",
   "mimetype": "text/x-python",
   "name": "python",
   "nbconvert_exporter": "python",
   "pygments_lexer": "ipython2",
   "version": "2.7.14"
  }
 },
 "nbformat": 4,
 "nbformat_minor": 2
}
